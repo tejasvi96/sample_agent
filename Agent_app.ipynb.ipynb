{
 "cells": [
  {
   "cell_type": "markdown",
   "id": "911b3b37-3b29-4833-94f2-bfe47af00c83",
   "metadata": {},
   "source": [
    "# Assignment: Deep Research Agent for Due Diligence\n",
    "Tejasvi Sharma"
   ]
  },
  {
   "cell_type": "markdown",
   "id": "8046788e",
   "metadata": {},
   "source": [
    "#### Setup Libraries"
   ]
  },
  {
   "cell_type": "code",
   "execution_count": null,
   "id": "ee02e76f",
   "metadata": {},
   "outputs": [],
   "source": [
    "!pip3 install langchain \n",
    "!pip3 install langgraph\n",
    "!pip3 install langchain_community \n",
    "!pip3 install langchain-cohere  \n",
    "!pip3 install langchain-core \n",
    "!pip3 install tiktoken \n",
    "!pip3 install langchain-openai\n",
    "!pip3 install langchain-google-genai\n",
    "!pip3 install langchainhub \n",
    "!pip3 install tavily-python \n",
    "!pip3 install eventregistry\n",
    "!pip3 install datetime\n",
    "!pip3 install pandas\n",
    "!pip3 install matplotlib\n",
    "!pip3 install langgraph-checkpoint-sqlite\n",
    "!pip3 install Pillow\n",
    "!pip3 install pyyaml\n",
    "!pip3 install -qU langchain-community wikipedia\n",
    "!pip3 install openpyxl\n",
    "!pip3 install mlflow"
   ]
  },
  {
   "cell_type": "code",
   "execution_count": 1,
   "id": "d0168aee-bce9-4d60-b827-f86a88187e31",
   "metadata": {
    "height": 132
   },
   "outputs": [],
   "source": [
    "from langgraph.graph import StateGraph, END\n",
    "from typing import TypedDict, Annotated, List\n",
    "import operator\n",
    "from langchain_core.messages import AnyMessage, SystemMessage, HumanMessage, AIMessage, ChatMessage"
   ]
  },
  {
   "cell_type": "code",
   "execution_count": 304,
   "id": "a49f097f",
   "metadata": {},
   "outputs": [],
   "source": [
    "import logging\n",
    "logger = logging.Logger('./logs')"
   ]
  },
  {
   "cell_type": "code",
   "execution_count": null,
   "id": "227a74ec",
   "metadata": {},
   "outputs": [],
   "source": [
    "import mlflow\n",
    "mlflow.langchain.autolog()\n",
    "mlflow.set_experiment(\"Sample Due Diligence Agent\")"
   ]
  },
  {
   "cell_type": "markdown",
   "id": "23bc53d9",
   "metadata": {},
   "source": [
    "### Load Secrets to call api for models and tools"
   ]
  },
  {
   "cell_type": "code",
   "execution_count": 305,
   "id": "8e4f2def",
   "metadata": {},
   "outputs": [],
   "source": [
    "import yaml\n",
    "\n",
    "with open(\"secrets.yaml\") as stream:\n",
    "    try:\n",
    "        secret_dict = yaml.safe_load(stream)\n",
    "    except yaml.YAMLError as exc:\n",
    "        logger.error(\"Error Loading Secrets!! secrets.yaml file not present\")\n",
    "        logger.error(exc)"
   ]
  },
  {
   "cell_type": "markdown",
   "id": "93bffac6",
   "metadata": {},
   "source": [
    "### Load Models"
   ]
  },
  {
   "cell_type": "code",
   "execution_count": null,
   "id": "a2ba84ec-c172-4de7-ac55-e3158a531b23",
   "metadata": {
    "height": 47
   },
   "outputs": [],
   "source": [
    "from langchain_openai import ChatOpenAI\n",
    "try:\n",
    "    openai_api_key = secret_dict['openai_api_key']\n",
    "    model = ChatOpenAI(model=\"gpt-3.5-turbo\",api_key = openai_api_key, temperature=0)\n",
    "except Exception as e:\n",
    "    logger.error(\"Error in accessing model\")\n",
    "    logger.error(str(e))"
   ]
  },
  {
   "cell_type": "markdown",
   "id": "ed827ee4",
   "metadata": {},
   "source": [
    "Tavily client helps in web search"
   ]
  },
  {
   "cell_type": "code",
   "execution_count": null,
   "id": "0722c3d4-4cbf-43bf-81b0-50f634c4ce61",
   "metadata": {
    "height": 64
   },
   "outputs": [],
   "source": [
    "from tavily import TavilyClient\n",
    "import os\n",
    "try:\n",
    "    tavily_api_key = secret_dict['tavily_api_key']\n",
    "    tavily = TavilyClient(api_key=tavily_api_key)\n",
    "except Exception as e:\n",
    "    logger.error(\"Error loading tavily tool\")\n",
    "    logger.error(str(e))"
   ]
  },
  {
   "cell_type": "code",
   "execution_count": 3,
   "id": "dc3293b7-a50c-43c8-a022-8975e1e444b8",
   "metadata": {
    "height": 81
   },
   "outputs": [
    {
     "name": "stderr",
     "output_type": "stream",
     "text": [
      "C:\\Users\\tejsh\\AppData\\Local\\Packages\\PythonSoftwareFoundation.Python.3.11_qbz5n2kfra8p0\\LocalCache\\local-packages\\Python311\\site-packages\\IPython\\core\\interactiveshell.py:3699: LangChainDeprecationWarning: As of langchain-core 0.3.0, LangChain uses pydantic v2 internally. The langchain_core.pydantic_v1 module was a compatibility shim for pydantic v1, and should no longer be used. Please update the code to import from Pydantic directly.\n",
      "\n",
      "For example, replace imports like: `from langchain_core.pydantic_v1 import BaseModel`\n",
      "with: `from pydantic import BaseModel`\n",
      "or the v1 compatibility namespace if you are working in a code base that has not been fully upgraded to pydantic 2 yet. \tfrom pydantic.v1 import BaseModel\n",
      "\n",
      "  exec(code_obj, self.user_global_ns, self.user_ns)\n"
     ]
    }
   ],
   "source": [
    "# To store queries in the format of List[str]\n",
    "from langchain_core.pydantic_v1 import BaseModel\n",
    "\n",
    "class Queries(BaseModel):\n",
    "    queries: List[str]"
   ]
  },
  {
   "cell_type": "markdown",
   "id": "c4cd5b42",
   "metadata": {},
   "source": [
    "### AGENT DEFINITION BEGINS \n",
    "AgentState\n",
    "- plan_of_Action : The steps to be followed given an input query. Result of the output from the start prompt\n",
    "- content: Contains the outputs of the different steps involved in the process.\n",
    "- media : Contains the outputs of the adverse media step involved in the process.\n",
    "- pep : Contains the outputs of the politically exposed person (PEP) step invovled in the process\n",
    "- input_str : Contains the input string related to the person or the entity and extra document or other information.\n",
    "- image_path: Optional Field of The image of the individual found in local records to be used for cross verification\n",
    "- transaction_statement_path : Optional field of the transactional statement of the individual present in the records."
   ]
  },
  {
   "cell_type": "code",
   "execution_count": 379,
   "id": "14fa923c-7e4f-42d1-965f-0f8ccd50fbd7",
   "metadata": {
    "height": 237
   },
   "outputs": [],
   "source": [
    "\n",
    "import operator\n",
    "from typing import Annotated\n",
    "\n",
    "class AgentState(TypedDict):\n",
    "    plan_of_action: str\n",
    "    content: Annotated[List[str], operator.add]\n",
    "    media: str\n",
    "    pep: str\n",
    "    input_str: str\n",
    "    image_path: str=None\n",
    "    transaction_statement_path: str=None\n",
    "    report: str\n",
    "    error: bool=False\n",
    "    transaction_monitoring:str=None"
   ]
  },
  {
   "cell_type": "markdown",
   "id": "8fc042e4",
   "metadata": {},
   "source": [
    "The Start Prompt for the process tied to the initial node in the Langgraph. This is devised taking help from the general steps that a Due Diligence expert follows and helps in providing reasoning to the process.\n",
    "The outcome expected is to classify the entity or person into 3 types - Low, Medium, High risk.\n",
    "A sample of the expected output is provided for reference.\n",
    "\n"
   ]
  },
  {
   "cell_type": "code",
   "execution_count": 398,
   "id": "a065098e",
   "metadata": {
    "height": 200
   },
   "outputs": [],
   "source": [
    "START_PROMPT = \"\"\"I want you to act as a due dligence expert and working as a KYC and compliance expert for a fintech company. You want to identify if a particular person or an entity is a risk for your company, because the person is a Politically exposed pereson or a high net worth individual or a person with adverse media or involved in money laundering activities.\\\n",
    "  Being a compliance expert, you don't want the name of your company to be associated with such a person because it would bring defame and heavy sanctions from global bodies like FinCen, Ofac etc.\\\n",
    "    What will be the steps that you follow and checklist to be used to flag the person as a potential red flag. Think step by step and cross verify the facts with references.\\\n",
    "  Please cross verify the facts with the input given in the query, make use of demographic information or image provided or the transaction statement if available. \n",
    "  Output the overall risk rating as -\n",
    "  \n",
    "  LOW - If no red flags are observed in terms of adverse media or PEP linkage or High Net Worth Individual or Transactional red flags. As next steps, the person needs not be monitored and should not be treated with caution at all.\n",
    "  MEDIUM - IF red flags are observed in terms of adverse media or PEP linkage or High Net Worth Individual , but there is no direct involvement but the person to be monitored is a close associate or a family member of a person with PEP or Adverse Media. As next steps, the person should be closely monitored with Enhanced Due Diligence for some time.\n",
    "  HIGH - If red flags are observed in terms of adverse media or PEP linkage or High Net Worth Individual or no Transactional red flags are observed. As the next action, the person should not be allowed to continue business with the bank.\n",
    "  \n",
    "  If the KYC verification fails based on comparing the demographic information or image, deem the entity as medium risky\n",
    " \n",
    " \n",
    "When I give you a person’s or entity’s name, you must:\n",
    "1. Conduct open-source due diligence (use factual, verifiable data).\n",
    "2. Assess if the subject poses a risk under global compliance standards (PEP, sanctions, adverse media, money laundering, fraud, etc.).\n",
    "3. Output the result **strictly in the following JSON format** — no extra commentary, no markdown, no explanations outside the JSON.\n",
    "\n",
    "---\n",
    "JSON OUTPUT FORMAT:\n",
    "{\n",
    "  \"short_answer\": {\n",
    "    \"name\": \"<entity_or_person_name>\",\n",
    "    \"overall_risk_rating\": \"<Low / Medium / High>\",\n",
    "    \"is_red_flag\": \"<Yes / No — with short reasoning>\",\n",
    "    \"summary\": \"<2–4 line summary of the entity/person, explaining main risk factors or clean profile indicators>\"\n",
    "  },\n",
    "  \"long_answer\": {\n",
    "    \"basic_information\": {\n",
    "      \"full_name\": \"<if available>\",\n",
    "      \"aliases\": \"<if any>\",\n",
    "      \"country_of_origin\": \"<if known>\",\n",
    "      \"primary_business_or_occupation\": \"<if known>\",\n",
    "      \"known_associates\": \"<if any>\",\n",
    "      \"sources\": [\"<list of credible sources with links>\"]\n",
    "    },\n",
    "    \"risk_checklist\": {\n",
    "      \"pep_status\": { \"status\": \"<Yes/No>\", \"details\": \"<explanation>\" },\n",
    "      \"sanctions_watchlists\": { \"status\": \"<Yes/No>\", \"details\": \"<explanation>\" },\n",
    "      \"adverse_media\": { \"status\": \"<High/Medium/Low>\", \"details\": [\"<headline or summary>\", \"<headline or summary>\"] },\n",
    "      \"criminal_records\": { \"status\": \"<Yes/No>\", \"details\": \"<if any>\" },\n",
    "      \"financial_profile\": { \"status\": \"<Strong/Weak/Unclear>\", \"details\": \"<summary>\" },\n",
    "      \"ubo_and_corporate_linkages\": { \"status\": \"<Transparent/Hidden/Complex>\", \"details\": \"<summary>\" },\n",
    "      \"transactional_red_flags\": { \"status\": \"<Yes/No/Unclear>\", \"details\": \"<summary>\" }\n",
    "    },\n",
    "    \"risk_assessment_summary\": {\n",
    "      \"sanctions_risk\": \"<Low/Medium/High>\",\n",
    "      \"regulatory_risk\": \"<Low/Medium/High>\",\n",
    "      \"reputational_risk\": \"<Low/Medium/High>\",\n",
    "      \"criminal_risk\": \"<Low/Medium/High>\",\n",
    "      \"overall_risk_rating\": \"<Low/Medium/High>\",\n",
    "      \"risk_reasoning\": \"<1–2 paragraph reasoning>\"\n",
    "    },\n",
    "    \"recommendation\": {\n",
    "      \"onboarding_decision\": \"<Proceed / Proceed with EDD / Decline>\",\n",
    "      \"edd_measures_if_needed\": [\n",
    "        \"<EDD step 1>\",\n",
    "        \"<EDD step 2>\"\n",
    "      ]\n",
    "    }\n",
    "  }\n",
    "}\n",
    "---\n",
    "\n",
    "Always ensure:\n",
    "- The JSON is **syntactically valid** (no comments, no markdown).\n",
    "- Each risk field contains a short but factual assessment.\n",
    "- You must not include any explanation or text outside the JSON object.\n",
    " \"\"\"\n",
    "\n",
    "def start_node(state: AgentState):\n",
    "  try:\n",
    "    messages = [\n",
    "        SystemMessage(content=START_PROMPT), \n",
    "        HumanMessage(content=state['input_str'])\n",
    "    ]\n",
    "    response = model.invoke(messages)\n",
    "    return {\"plan_of_action\": response.content}\n",
    "  except Exception as e:\n",
    "    logger.error(str(e))\n",
    "    logger.error(\"Error from starting node\")\n",
    "    return {'plan_of_action': 'Some error occured -'+str(e),'error':True}"
   ]
  },
  {
   "cell_type": "markdown",
   "id": "35838e0a",
   "metadata": {},
   "source": [
    "The report gen prompt which is responsible for generating the final report basis the outputs of the intermediate steps"
   ]
  },
  {
   "cell_type": "code",
   "execution_count": null,
   "id": "997237b6",
   "metadata": {
    "height": 353
   },
   "outputs": [],
   "source": [
    "REPORT_GEN_PROMPT = \"\"\"Summarize the findings as a concise report with a clear output whether this person is risky or not as per the report json format given earlier. Consider the PEP, ADVERSE MEDIA and TRANSACTION RED Flags information.\n",
    "Think step by step!\n",
    "------\n",
    "\n",
    "{content}\n",
    "\"\"\"\n",
    "def report_gen_node(state: AgentState):\n",
    "    try:\n",
    "        content = \"PEP:\"+\" \\n\\n\".join( state['pep'][:-2] or [])\n",
    "        content = content+\" ADVERSE MEDIA:\"+ \"\\n\\n\".join( state['media'][:-2] or [])\n",
    "        content = content+\" TRANSACTION RED FLAGS:\"+\"\\n\\n\".join( state['transaction_monitoring'] or [])\n",
    "        user_message = HumanMessage(\n",
    "            content=f\"{state['input_str']} and {state['plan_of_action']}\")\n",
    "        messages = [\n",
    "            SystemMessage(\n",
    "                content=REPORT_GEN_PROMPT.format(content=content)\n",
    "            ),\n",
    "            user_message\n",
    "            ]\n",
    "        response = model.invoke(messages)\n",
    "        return {\n",
    "            \"report\": response.content, \n",
    "        }\n",
    "    except Exception as e:\n",
    "        logger.error(str(e))\n",
    "        logger.error(\"Error from report gen node\")\n",
    "        print(\"Error\")\n",
    "        return {'report': 'Some error occured -'+str(e),'error':True}"
   ]
  },
  {
   "cell_type": "markdown",
   "id": "f41d5d5c",
   "metadata": {},
   "source": [
    "The search adverse prompt responsible for searching any negative puublicity pertaining to the individual or entity.\\\n",
    "    It currently relies on the internet based search using Tavily Search tool. In a production setting, we might want to replace it with an API of WorldCheck, LExus NExus or a customized solution from SumSub which provides API to search these.searching"
   ]
  },
  {
   "cell_type": "code",
   "execution_count": 448,
   "id": "96a49636",
   "metadata": {},
   "outputs": [],
   "source": [
    "SEARCH_ADVERSE_PROMPT = \"\"\"You are a Finance Crime expert charged with providing information that can \\\n",
    "be used to identify if a given person has bee involved in media. Focus on all kind of information both positive and negative \\\n",
    "Generate a list of search queries that given a person'name can look web for the public perception of this person's image. Only generate 3 queries max.\n",
    "Return the relevant hyperlinks as well for references to cross verify\n",
    "\"\"\"\n",
    "\n",
    "def search_media_node(state: AgentState):\n",
    "    try:\n",
    "        queries = model.with_structured_output(Queries).invoke([\n",
    "            SystemMessage(content=SEARCH_ADVERSE_PROMPT),\n",
    "            HumanMessage(content=state['input_str'])\n",
    "        ])\n",
    "        content = []\n",
    "        for q in queries.queries:\n",
    "            response = tavily.search(query=q, max_results=2)\n",
    "            for r in response['results']:\n",
    "                content.append(r['content'])\n",
    "        return {\"media\":content}\n",
    "    except Exception as e:\n",
    "        logger.error(str(e))\n",
    "        logger.error(\"Error from search media node\")\n",
    "        return {'media': 'Some error occured -'+str(e),'error':True}"
   ]
  },
  {
   "cell_type": "markdown",
   "id": "ff7fcbff",
   "metadata": {},
   "source": [
    "The Pep(Politically Exposed Person) prompt responsible for searching any negative publicity pertaining to the individual or entity.\\\n",
    "    It currently relies on the internet based search using Tavily Search tool. In a production setting, we might want to replace it with an API of WorldCheck, LExus NExus or a customized solution from SumSub which provides API to search these.searching"
   ]
  },
  {
   "cell_type": "code",
   "execution_count": 449,
   "id": "a225e449",
   "metadata": {
    "height": 47
   },
   "outputs": [],
   "source": [
    "CHECK_FOR_PEP_PROMPT = \"\"\"You are a Finance Forensic Crime expert charged with providing information that can \\\n",
    "be used to identify if a given person has links to Politically Exposed Persons i.e those in power currently or in the recent past. This links may include a direct family connection or \\\n",
    "    being a close accomplice or an acquaintance.\\\n",
    "Generate a list of search queries that given a person'name can look web for the political linkage of this person either directly or indirectly. Only generate 3 queries max.\n",
    "Return the relevant hyperlinks as well for references to cross verify\n",
    "\"\"\"\n",
    "\n",
    "def search_pep_node(state: AgentState):\n",
    "    try:\n",
    "        queries = model.with_structured_output(Queries).invoke([\n",
    "            SystemMessage(content=CHECK_FOR_PEP_PROMPT),\n",
    "            HumanMessage(content=state['input_str'])\n",
    "        ])\n",
    "        content = []\n",
    "        for q in queries.queries:\n",
    "            response = tavily.search(query=q, max_results=2)\n",
    "            for r in response['results']:\n",
    "                content.append(r['content'])\n",
    "        return {\"pep\": content}\n",
    "    except Exception as e:\n",
    "        logger.error(str(e))\n",
    "        logger.error(\"Error from search media node\")\n",
    "        return {'pep': 'Some error occured -'+str(e),'error':True}"
   ]
  },
  {
   "cell_type": "code",
   "execution_count": 450,
   "id": "2049f236",
   "metadata": {
    "height": 47
   },
   "outputs": [],
   "source": [
    "\n",
    "import pandas as pd\n",
    "TRANSACTION_LIMIT = 100000\n",
    "def transaction_monitoring_node(state: AgentState):\n",
    "    try:\n",
    "        # print(state)\n",
    "        df = pd.read_csv(state['transaction_statement_path'])\n",
    "        filtered_df = df[df['transaction_amount']>TRANSACTION_LIMIT]\n",
    "        if len(filtered_df):\n",
    "            response = f'YES, as per the transaction monitoring activity there is transactional red flag, the individual has made a high value transaction of more than {TRANSACTION_LIMIT} $ in last 1 month'\n",
    "        else:\n",
    "            response = f'NO, as per the transaction monitoring activity, there is no transactional red flag, the individual has not made a high value transaction of more than {TRANSACTION_LIMIT} $ in last 1 month'\n",
    "\n",
    "        return {\"transaction_monitoring\":[response]}\n",
    "    except Exception as e:\n",
    "        logger.info('Some error occured during transaction_monitoring_node')\n",
    "        logger.info(str(e))\n",
    "        return {\"transaction_monitoring\":['NO, There is no information related to Transaction monitoring activity so there is no transactional red flag']}"
   ]
  },
  {
   "cell_type": "code",
   "execution_count": 451,
   "id": "570c6245-2837-4ac5-983b-95f61f3ac10d",
   "metadata": {
    "height": 172
   },
   "outputs": [
    {
     "data": {
      "text/plain": [
       "<langgraph.graph.state.StateGraph at 0x231cde6e190>"
      ]
     },
     "execution_count": 451,
     "metadata": {},
     "output_type": "execute_result"
    }
   ],
   "source": [
    "from langchain_openai import ChatOpenAI\n",
    "model = ChatOpenAI(model=\"gpt-3.5-turbo\", temperature=0,api_key=openai_api_key)\n",
    "builder = StateGraph(AgentState)\n",
    "builder.add_node(\"start_node\", start_node)\n",
    "builder.add_node(\"report_gen_node\", report_gen_node)\n",
    "builder.add_node(\"search_media_node\",search_media_node)\n",
    "builder.add_node(\"search_pep_node\",search_pep_node)\n",
    "builder.add_node(\"transaction_monitoring_node\", transaction_monitoring_node)\n",
    "builder.add_edge(\"start_node\", \"search_media_node\")\n",
    "builder.add_edge(\"start_node\", \"transaction_monitoring_node\")\n",
    "builder.add_edge(\"start_node\", \"search_pep_node\")\n",
    "builder.add_edge(\"transaction_monitoring_node\", \"report_gen_node\")\n",
    "builder.add_edge('search_media_node','report_gen_node')\n",
    "builder.add_edge('search_pep_node','report_gen_node')\n",
    "builder.add_edge('report_gen_node',END)\n",
    "\n",
    "builder.set_entry_point(\"start_node\")"
   ]
  },
  {
   "cell_type": "code",
   "execution_count": 452,
   "id": "dea86277",
   "metadata": {},
   "outputs": [
    {
     "data": {
      "text/plain": [
       "b'\\x89PNG\\r\\n\\x1a\\n\\x00\\x00\\x00\\rIHDR\\x00\\x00\\x02\\xad\\x00\\x00\\x01\\xb0\\x08\\x02\\x00\\x00\\x00\\x0c\\x9e\\xcb$\\x00\\x00\\x10\\x00IDATx\\x9c\\xec\\xdd\\x07`\\x13\\xd5\\x1f\\x07\\xf0wI\\xf7\\x1e@\\x0b\\x1d\\x94\\xb6@\\xd9C@D\\x85\\xbf\"C\\x94%{\\xcb\\x10\\x05T\\xa6\\x08\\x02\\xb2\\x15d\\x88\"C\\xc4\\xc1\\x10A\\x01\\x01\\xc5\\x85,\\x01\\x05eC\\x99]\\x94B[\\xe8\\xde+\\xb9\\xff/\\xb9r\\x846I\\x9b\\xd24\\x97\\xe4\\xfb\\xa1\\xc6\\xcb\\xad\\\\.\\xef\\xde\\xfb\\xdd{w\\xeflx\\x9eg\\x00\\x00\\x00`\\x95l\\x18\\x00\\x00\\x00X+\\xc4\\x01\\x00\\x00\\x00\\xd6\\x0bq\\x00\\x00\\x00\\x80\\xf5B\\x1c\\x00\\x00\\x00`\\xbd\\x10\\x07\\x00\\x00\\x00X/\\xc4\\x01\\x00\\x00\\x00\\xd6\\x0bq\\x00@%\\xb8~&-\\xf2bNfRa\\x91\\x82\\x15\\x16(8NVz\\x1e\\xb9\\x8dLQ\\xa4\\xd42\\xdeV\\xa6(\\xd42\\xde\\xc6VV$\\x8c\\xe7\\x18\\xd3\\xb8\\xbd\\x97\\xe3X\\xe9\\xbb}e2N\\xa9\\xe4\\x1f]-\\xa7(|t\\x8c\\x9cS(x\\x8d\\xed\\xe1\\xec\\xece\\xae^\\xf2\\x80\\xfa\\x8e\\x8d\\x9f\\xf2d\\x00`\\x958\\xf4\\x1f\\x00Pa\\'\\x7fI\\xba\\xfaofN&\\x15\\xfcTl\\xab\\x8a^;{ya\\xa1\\xd2F&/=\\xb3\\xcc\\x86S\\x16i9\\xdc\\xa8<Vh\\x1d/\\x16\\xe4\\x1c\\xcfxN\\x18I\\xefe\\xda\\xe2\\x00\\n<x\\xa5\\x8e\\xc5\\x1fn\\x00S\\x16i,\"\\xe7)t\\xa0\\x8f.\\xc8U*\\x14\\xcc\\xd1\\x85\\x0bm\\xea\\xda\\xbeO\\r\\x06\\x00\\xd6\\x04q\\x00@E\\x9c\\xd8w\\xef\\xf2\\x89L:x|\\x02\\xed[w\\xf6\\xf2\\xaf\\xeb\\xc4\\xcc\\xd9\\xbd\\xb8\\xdc\\x93\\xfbS\\x12b\\xf2\\xa8\\xc2\\xa0n\\x0b\\x97\\x17\\x06\\xf92\\x00\\xb0\\x0e\\x88\\x03\\x00\\x0c\\xf6\\xf5\\xbc\\xe8\\x82\\\\E\\x93g=\\xda\\xbd\\\\\\x8dY\\x963\\x87\\x92\\xcf\\x1eL\\xe3d\\xdc\\x98\\x85\\xc1\\x0c\\x00\\xac\\x00\\xe2\\x00\\x00\\x03\\xa4\\xdd\\xcf\\xdd\\xfa\\xe1\\x1d\\xffP\\xfb^\\xe3\\x03\\x98\\xe5\\xfamK|\\xe4\\xb9\\xec\\x8eCk\\x84\\xb5tc\\x00`\\xd1\\x10\\x07\\x00\\x94\\x17\\xd5\\x01lx/\\xba\\xfbX\\xdf\\xda\\r\\\\\\x98\\xa5\\xcbJ/\\xf8f^\\xec\\xab\\xf3j\\xbb\\xb8\\xdb2\\x00\\xb0\\\\\\x88\\x03\\x00\\xca%%\\xa1\\xe0\\xbbe\\xb1\\x13V\\x842k\\xb2vZ\\xc4s\\xfd\\xbd\\x1b\\xb4\\xc1\\xdd\\x04\\x00\\x16K\\xc6\\x00\\xa0\\x1c(\\x08x\\xe5-?fe\\xc6/\\x0f=\\xb4#\\xb9(\\xbf\\x88\\x01\\x80\\x85B\\x1c\\x00P\\xb6\\x8d\\xb3\\xa3\\x02\\xc3\\x1ck\\x0692\\xeb\\xd3\\xf8)\\xd7\\xaf\\xe6\\xdfb\\x00`\\xa1\\x10\\x07\\x00\\x94\\xe1\\xc8\\xce{J\\xa5\\xb2\\xfbkVW\\x19 \\xe8\\xd0\\xd7G.\\x97\\xfd\\xb4\\xe1\\x0e\\x03\\x00K\\x848\\x00\\xa0\\x0c\\xe1\\xffd\\xb4|\\xce\\x8bY\\xb1\\x17\\x86y\\xc7\\xde\\xc8e\\x00`\\x89\\x10\\x07\\x00\\xe8sdW\\xa2\\x8d\\rk\\xd5\\xc9\\xaa\\xe3\\x80\\xda\\xf5\\xdc\\x1c\\x1ce?o\\xbc\\xcb\\x00\\xc0\\xe2 \\x0e\\x00\\xd0\\xe7\\xe6\\xb9\\xac\\x9a\\xa1\\xd6xY@\\t!\\xcd\\x9c\\xe3n\\xa2J\\x00\\xc0\\x02!\\x0e\\x00\\xd0\\'?\\x9b\\xef\\xd0\\xa7\\xaa+\\x03:u\\xeat\\xe7\\x8e\\xc1\\xed\\xf1\\x91\\x91\\x91/\\xbf\\xfc23\\x8e\\xff\\xf5\\xf5)*\\xe4S\\xee\\xe71\\x00\\xb0,\\x88\\x03\\x00t\\xfa\\xef@\\x92\\xdc\\x86\\xb9{Ui}@|||jj*3\\xdc\\x95+W\\x98198q\\xe7\\x0e\\xa51\\x00\\xb0,\\x88\\x03\\x00t\\xba\\x1b\\x91g\\xefd\\xacc\\x84\\xe7\\xf9m\\xdb\\xb6\\r\\x1e<\\xf8\\xe9\\xa7\\x9f\\x1e:t\\xe8g\\x9f}\\xa6P(N\\x9f>\\xdd\\xbd{w\\x9a\\xda\\xb3g\\xcf\\xa9S\\xa72\\xf5Y\\xfe\\xd2\\xa5K\\xfb\\xf6\\xed\\xdb\\xae];\\x9am\\xe7\\xce\\x9d\\xc2\\xe2\\x11\\x11\\x11\\xadZ\\xb5:~\\xfcx\\xd7\\xae]\\x07\\r\\x1a\\xb4~\\xfd\\xfa\\xf9\\xf3\\xe7\\'$$\\xd0\\xc8o\\xbf\\xfd\\x96\\x19\\x81\\x83\\x93\\xfc\\xfe\\xed\\x02\\x06\\x00\\x96\\xc5\\x86\\x01\\x80\\x0eY\\x19\\n\\x07g93\\x8e\\xed\\xdb\\xb7\\x7f\\xf5\\xd5W\\x93&M\\xa28\\xe0\\xc8\\x91#k\\xd6\\xacqvv\\x1e9r\\xe4\\xaaU\\xabh\\xe4\\xde\\xbd{\\xfd\\xfcTw*\\xaeX\\xb1\\xe2\\xee\\xdd\\xbb\\xb3f\\xcd\\xe28.&&\\x86b\\x82\\x9a5k\\xd2\"\\xb6\\xb6\\xaa\\xee~7n\\xdc8l\\xd8\\xb0\\xe6\\xcd\\x9b7j\\xd4\\xa8\\xa0\\xa0\\xe0\\x8f?\\xfe\\xf8\\xf9\\xe7\\x9f\\x99q8{\\xc8\\xd3\\xee\\xa3C!\\x00K\\x838\\x00@\\'j\\x11wq7V\\x1cp\\xf6\\xec\\xd9\\x86\\r\\x1b\\n-\\xfa\\xbd{\\xf7n\\xdd\\xbauNNN\\xe9\\xd9>\\xfc\\xf0\\xc3\\xec\\xec\\xecZ\\xb5j\\xd10\\x9d\\xeb\\xef\\xdb\\xb7\\xef\\xef\\xbf\\xff\\xa68\\x80\\xc2\\x02\\x1a\\xd3\\xb6m\\xdb!C\\x86\\xb0*\\xe1\\xe8l\\x9br\\x17q\\x00\\x80\\xa5A\\x1c\\x00\\xa0\\x1bO\\x85-\\xc7\\x8c\\xa3Y\\xb3f\\xabW\\xaf^\\xb0`A\\x8b\\x16-\\xda\\xb7o\\xef\\xef\\xef\\xafu6j>\\xa0\\x9a\\x83\\x13\\'N\\xdc\\xbaU\\xdc\\xa9\\x9fPO h\\xd0\\xa0\\x01\\xab*\\x1c\\xcf\\x94x\\x1c\\t\\x80\\xc5A\\x1c\\x00\\xa0\\x93\\xdc\\x86\\x15\\xe4)\\x98q\\x0c\\x1e<\\x98\\x1a\\x02\\x8e\\x1e=J\\xed\\xfa666\\x9d:uz\\xfb\\xed\\xb7\\xabW\\xaf\\xae9\\x8fR\\xa9\\x9c8q\"U\\xf8\\xbf\\xf9\\xe6\\x9bT\\x19\\xe0\\xea\\xea:z\\xf4h\\xcd\\x19\\xec\\xed\\xedYU\\xc9\\xc9)\\x92\\x1b\\xabr\\x04\\x00L\\x06q\\x00\\x80N\\x8e\\xce\\xd4\"^\\xc8\\x8cC&\\x93\\xf5V\\x8b\\x8a\\x8a\\xfa\\xf7\\xdf\\x7f7l\\xd8\\x90\\x95\\x95\\xf5\\xf1\\xc7\\x1fk\\xces\\xed\\xda\\xb5\\xf0\\xf0\\xf0\\xb5k\\xd7\\xb6i\\xd3F\\x18\\x93\\x99\\x99Y\\xa3F\\rf\\n9iE\\xf6\\x8e\\xb8\\xb2\\x18\\xc0\\xd2\\xe0\\xa8\\x06\\xd0\\xc9\\xb7\\x8e}a\\xbe\\xb1\\xea\\x03~\\xfe\\xf9\\xe7\\xc8\\xc8H\\x1a\\x08\\x0e\\x0e\\x1e8p\\xe0\\xa0A\\x83\\xae_\\xbf^b\\x9e\\xb44\\xd5}zb\\xc1\\x1f\\xa5\\xc6L$;\\xbb\\xc8\\xb3\\xa6\\x1d\\x03\\x00\\xcb\\x828\\x00@\\xa7\\xa7\\xbbW/2Vu\\x00\\xfb\\xed\\xb7\\xdf\\xdey\\xe7\\x9d\\xbf\\xfe\\xfa+==\\xfd\\xf8\\xf1\\xe3\\x87\\x0e\\x1dj\\xd6\\xac\\x19\\x8d\\x0f\\n\\n\\xa2\\xd7\\x03\\x07\\x0e\\\\\\xbe|\\x99B\\x04j2\\xd8\\xb2eKFFFLL\\xcc\\xb2e\\xcb\\xda\\xb6m\\x1b\\x1f\\x1f\\xafu\\x85\\x81\\x81\\x81IIIG\\x8e\\x1c\\x11\\xaf$\\xa8\\\\\\x059\\xac\\xe9\\xd3n\\x0c\\x00,\\x0b\\xe2\\x00\\x00}l\\xed\\xb9\\xdf\\xb7\\x18\\xa5_\\xfd\\xd9\\xb3gS1?e\\xca\\x94\\x8e\\x1d;.\\\\\\xb8\\xb0C\\x87\\x0e\\xb3f\\xcd\\xa2\\xf1\\xfe\\xfe\\xfe\\xdd\\xbbw_\\xbf~\\xfd\\xea\\xd5\\xab}}}\\x17-Zt\\xe9\\xd2\\xa5\\xe7\\x9f\\x7f~\\xf2\\xe4\\xc9\\x13&L\\xe8\\xdb\\xb7/\\xc5\\x07\\xf4Zz\\x85\\xcf<\\xf3L\\xf3\\xe6\\xcd\\xa7M\\x9b\\xf6\\xfb\\xef\\xbf\\xb3\\xca\\xf6\\xdf\\xefI\\x94[\\xf8\\xd7ua\\x00`Y8\\x1e\\x17\\x00\\x03\\xe8\\xf6\\xf3\\xc6\\xbb\\xb7\\xaf\\xe7\\x8c[\\x16\\xca\\xac\\xdbWs\\xa3]=m\\xfaM\\n`\\x00`YP\\x1f\\x00\\xa0\\xcf\\xcbcj)\\x8aX\\xe4\\xc5Lf\\xc5\\xf2r\\x8ar2\\x14\\x08\\x02\\x00,\\x12\\xee\\x17\\x00(\\x83_=\\x87?\\xb7\\xdd\\x0bi\\xea\\xaaujll\\xec\\xf0\\xe1\\xc3\\xb5N\\xe28\\x9d\\xf5m\\xbdz\\xf5\\x9a4i\\x123\\x0eZ\\xf3\\xf9\\xf3\\xe7\\xb5NrwwOOO\\xd7:i\\xea\\xd4\\xa9B\\x97\\xc6\\xa5m_\\x1e\\xeb\\xed\\x87\\xbc\\x02\\xc02\\xa1]\\x00\\xa0l\\xeb\\xa6G6n\\xe7\\xfal/-7\\xec)\\x95\\xca\\xec\\xecl\\xadK\\xe5\\xe6\\xe6::j\\x7fF\\x91\\xad\\xad\\xad\\x83\\x83\\x033\\x8e\\x9c\\x9c\\x1c\\x85B\\xfbm\\x0e\\x85\\x85\\x85B\\x87\\xc4\\xa5\\xd9\\xdb\\xdb\\xdb\\xd9i\\xb9\\x1d \\xfcT\\xea\\x91\\xef\\x93\\'\\xac\\xb0\\xf6\\x96\\x11\\x00K\\x85\\x18\\x1f\\xa0l\\x03\\xa6\\xfa}\\xb74Nk\\x1c \\x93\\xc9\\\\]\\xb5W\\x15\\xe8\\x1aolNNN\\xac\\xf2P\\x10\\xd0q`u\\x06\\x00\\x16\\n\\xd7\\x07\\x00\\x94\\xcd\\xcb\\xc7\\xa1U\\x17\\x8f\\xf53\"\\x99\\x95\\xf9bVd\\xdd\\x96\\xcea\\xad\\xdd\\x19\\x00X(\\xb4\\x0b\\x00\\x94\\xd7\\xed\\x88\\x9c\\xbd\\xeb\\xee\\xbei55\\xe4k\\xa6Ft\\x19\\xe6\\x13\\xda\\xdc4\\xb5\\x1a\\x00P5\\x10\\x07\\x00\\x18\\xe0\\xcc\\xc1\\xa4\\x93\\xfb\\xd3Zu\\xf6x\\xb2k5f\\xb9\\x84k\\x02B\\x9a:w\\x1dQ\\x93\\x01\\x80EC\\x1c\\x00`\\x98{\\xb7s~\\xfc,\\xde\\xc1E\\xf6\\xd2\\x18\\xdfj5\\x1d\\x99e)((\\xd8\\xb1\\xfcNV\\xaa\\xe2\\xb9\\x01\\xd5\\xc3Z\\xa19\\x00\\xc0\\xf2!\\x0e\\x00\\xa8\\x88\\xdd\\x9f\\xddN\\x88\\xcewt\\x93\\x85=\\xe1\\xfa\\xd4\\xcb\\x96p\\x19\\xdd\\x99?\\x93\\xc3Off\\xa6\\x16y\\xd7\\xb2\\x1b85\\x90\\x01\\x80u@\\x1c\\x00Pq?\\xae\\x8d\\xbb\\x17\\x9b\\xaf(\\xe2ml9\\'7\\x1bGg\\x99\\x83\\xb3\\x9c\\xc9x\\x8e{\\xf8\\x80^\\x19\\xcf+9N\\x18\\xa6\\xff\\xd3\\xf1Fo\\x84\\xc3N\\xf5V\\xf5\\x9e\\x93\\xa9\\xff_<R\\xf5Ou\\\\\\xaa\\x17\\xe2\\xd5\\x07\\xa9z=\\x1cS\\n\\x034#Wr\\xa4\\x8dLV\\xa4T2a\\xe5LXV\\xb5B\\x19\\xc7)U\\xb3\\xabG\\xab\\xd7*\\xe3x%\\xaf^u\\x91\\xa2\\xb0\\x90\\xe5d\\x14eg*\\xf2s\\x95r9\\xabV\\xcb\\x1e\\x9d\\x05\\x01X\\x1b\\xc4\\x01\\x00\\x8f+!6\\xf7\\xc2\\xd1\\xb4\\xa4;\\x05\\xb9\\x99\\x8a\\xa2\"\\x9e\\xfe\\xe42N\\x9cZ\\\\\\xd8\\x17\\xbfa\\x0f\\x02\\x01a\\x92\\xea\\x00\\x94\\xd1aX\\\\l\\xf3\\xc5K\\xa8\\x16\\x11\\n\\xef\\xe2\\xd1J\\xa5R&\\x971\\xbe\\xe4:\\x85R\\x9d\\x06\\xe462E\\x91*\\x0exP\\xf0\\x0bK\\x16\\x7f$}\\x8e: Q\\x8dS\\x05\\x1d\\xca\\xe2\\x8d\\xb1s\\xe0\\xec\\x1ce\\xd5|\\xed\\x1a\\xb4u\\x0bj\\x80g\\x07\\x00X#\\xc4\\x01\\x00f\\xe0\\xa9\\xa7\\x9e:z\\xf4\\xa8\\xd6~~\\x00\\x00\\x1e\\x07\\xfa\\x11\\x020\\x03EEE668Z\\x01\\xa0\\xf2!g\\x01\\x90:\\xa5\\xba\\xe1_&C\\xaf_\\x00P\\xf9\\x10\\x07\\x00H\\x1d*\\x03\\x00\\xc0x\\x90\\xb9\\x00H\\x9d\\x9e\\x87\\x03\\x01\\x00<&\\xc4\\x01\\x00R\\x87\\xfa\\x00\\x000\\x1ed.\\x00R\\x878\\x00\\x00\\x8c\\x07\\x99\\x0b\\x80\\xd4!\\x0e\\x00\\x00\\xe3A\\xe6\\x02 u\\xb8>\\x00\\x00\\x8c\\x07q\\x00\\x80\\xd4\\xa1>\\x00\\x00\\x8c\\x07\\x99\\x0b\\x80\\xd4!\\x0e\\x00\\x00\\xe3A\\xe6\\x02 u\\x88\\x03\\x00\\xc0x\\x90\\xb9\\x00H\\x1d\\xe2\\x00\\x000\\x1ed.\\x00R\\x878\\x00\\x00\\x8c\\x07\\x99\\x0b\\x80\\xd4!\\x0e\\x00\\x00\\xe3A\\xe6\\x02 u\\x88\\x03\\x00\\xc0x\\x90\\xb9\\x00H\\x1d\\xe2\\x00\\x000\\x1ed.\\x00R\\x87~\\x84\\x00\\xc0x\\x10\\x07\\x00H\\x1d\\xea\\x03\\x00\\xc0x\\x90\\xb9\\x00H\\x1d\\xe2\\x00\\x000\\x1ed.\\x00R\\x878\\x00\\x00\\x8c\\x07\\x99\\x0b\\x80\\xd4!\\x0e\\x00\\x00\\xe3A\\xe6\\x02 u\\xb8N\\x10\\x00\\x8c\\x07q\\x00\\x80\\xd4\\xa1>\\x00\\x00\\x8c\\x07\\x99\\x0b\\x80\\xd4Qe\\x80\\xab\\xab+\\x03\\x000\\x02\\xc4\\x01\\x00R\\xa7T*\\xd3\\xd2\\xd2\\x18\\x00\\x80\\x11 \\x0e\\x00\\x90:j\\x14\\xa0\\xa6\\x01\\x06\\x00`\\x04\\x88\\x03\\x00\\xa4\\x0eq\\x00\\x00\\x18\\x0f\\xe2\\x00\\x00\\xa9C\\x1c\\x00\\x00\\xc6\\x838\\x00@\\xea\\x10\\x07\\x00\\x80\\xf1 \\x0e\\x00\\x90:\\xc4\\x01\\x00`<\\x88\\x03\\x00\\xa4\\x0eq\\x00\\x00\\x18\\x0f\\xe2\\x00\\x00\\xa9C\\x1c\\x00\\x00\\xc6\\x838\\x00@\\xea\\x10\\x07\\x00\\x80\\xf1 \\x0e\\x00\\x90:\\x8a\\x03\\x14\\n\\x05\\x03\\x000\\x02\\xc4\\x01\\x00R\\'\\x97\\xcbQ\\x1f\\x00\\x00F\\x828\\x00@\\xea\\xd0.\\x00\\x00\\xc6\\x838\\x00@\\xea\\x10\\x07\\x00\\x80\\xf1 \\x0e\\x00\\x90:\\xc4\\x01\\x00`<\\x88\\x03\\x00\\xa4\\x0eq\\x00\\x00\\x18\\x0f\\xe2\\x00\\x00\\xa9C\\x1c\\x00\\x00\\xc6\\x838\\x00@\\xea\\x10\\x07\\x00\\x80\\xf1p<\\xcf3\\x00\\x90\\x9e\\xa9S\\xa7\\x1e:t\\x88\\xe38\\xe1-\\xa7F1\\xc1\\xc9\\x93\\'\\x19\\x00@%\\x911\\x00\\x90\\xa47\\xdf|\\xb3v\\xed\\xda\\xb2\\x07(\\x08\\xa0\\xa8=  \\x80\\x01\\x00T\\x1e\\xc4\\x01\\x00\\x12U\\xa7N\\x9d\\xa7\\x9f~Z\\xa9T\\x8ac\\xe4ry\\xbf~\\xfd\\x18\\x00@\\xe5A\\x1c\\x00 ]\\xc3\\x87\\x0f\\x0f\\x0c\\x0c\\x14\\xdf\\xfa\\xfb\\xfb\\xf7\\xee\\xdd\\x9b\\x01\\x00T\\x1e\\xc4\\x01\\x00\\xd2\\xe5\\xe3\\xe3\\xd3\\xb1cGa\\x98*\\x03z\\xf4\\xe8akk\\xcb\\x00\\x00*\\x0f\\xe2\\x00\\x00I\\x1b:t(U\\x030ue\\xc0+\\xaf\\xbc\\xc2\\x00\\x00*\\x15\\xee\\x17\\x00x\\x84\\xa2@\\xf1\\xd7O\\xf7\\xf2\\xb3\\x99R\\xc9\\xe9\\x99\\x8d\\xe3\\x18\\x1d:\\xc2k\\x85g+1^\\xebl42***2\":(\\xb8vhH\\xa8\\xae\\xd9J-\\xc6\\x18\\xafuK\\xe8\\x88\\xe7\\xf4|\\x968R\\xcf\\xa7\\xc8\\x19\\xb3sf\\xcd\\x9ew\\xf1\\xf2va\\x00`\\xe6\\x10\\x07\\x00<\\xf4\\xddG1\\xa9\\xf7\\x8allUE\\xa0\\xa2Ho\\x1c \\xe3x%\\xcf\\xc9\\x18\\xaf\\xd41\\x83\\xba\\x1c\\x95\\xc98%\\xcd\\xa6+\\x0eP\\xafD\\xe3\\xad\\x96\\xb5\\t\\xcb\\xaa?\\x8b\\xd3\\x1cSz\\x9e2\\xc6\\x14\\x7fVq\\x80\\xa0\\xe7\\xb3t\\xadA$\\x931\\x99\\rWX\\xa0t\\xf3\\x94\\r\\x9b\\x15\\xcc\\x00\\xc0\\x9c!\\x0e\\x00(\\xb6k\\xf5\\xed\\xb4\\xa4\\x82\\xfeSB\\x18\\x94\\xcf\\xae\\xcf\"\\xe4\\x9c\\xcd\\xb0\\xf7\\x82\\x18\\x00\\x98-\\xc4\\x01\\x00*\\xdf-\\x8f.\\xc8U\\xbc\\xf2v(\\x03C\\xfc\\xbc!\\xa6 _9b6j\\x05\\x00\\xcc\\x15\\xae\\x13\\x04PIIPt\\x19\\x15\\xc8\\xc0@/\\x8f\\r\\xcaJQ&\\xc6f1\\x000O\\x88\\x03\\x00\\xd8\\xa9\\xdf\\x92ll8g\\x17;\\x06\\x86\\xb3w\\xe4.\\x1eC\\x1c\\x00`\\xae\\xf0\\x9c!\\x00\\x96\\x9b\\xc3+\\x15h \\xab \\x9e\\xe7\\xf22\\x94\\x0c\\x00\\xcc\\x13\\xe2\\x00\\x00\\xd55\\xf4\\xfa\\xef\\x12\\x04=\\x94EL\\xa1D\\x14\\x05`\\xae\\x10\\x07\\x00\\x00\\x00X/\\xc4\\x01\\x00\\xf0Xx\\xf53\\x91\\x19\\x00\\x98\\'\\xc4\\x01\\x00L\\xddC\\x0fj\\xb6+H\\xd53\\x11n?\\x060[\\x88\\x03\\x00\\x98\\xbau\\x1bg\\xb4\\x15\\xc5a\\xdf\\x01\\x981\\xc4\\x01\\x00\\xaa\\xfbgQ\\xb1]q<\\xeaR\\x00\\xcc\\x18\\xe2\\x00\\x00\\xaa\\x10\\xd0\\xf9\\x98\\x00(\\x13\\'S=q\\x00\\x00\\xcc\\x14\\xe2\\x00\\x005\\xd4\\x07T\\x14\\x85PJDQ\\x00f\\x0bq\\x00\\x00\\x00\\x80\\xf5B\\x1c\\x00\\x00\\x8f\\x87\\xc3\\xd5\\x15\\x00f\\x0cq\\x00\\x005os\\x1cZ\\xb8+J\\xd5y\\x00\\xf6\\x1e\\x80\\xd9B\\x1c\\x00\\xa0\\xbe\\xe0\\x1d\\x97\\xbcW\\x14\\xaf\\xe4y\\x05\\x03\\x003\\x850\\x1e@u\\xa5\\x9bUu\\x84\\xb3\\xea\\x93%#G\\xf7g\\x00\\x00\\x88\\x03\\x00\\x98\\xbaf\\xbb\\xb2\\xee|\\x8b\\x8e\\x8e\\x1c8\\xf8ef\\xb8\\x1f\\xf7|\\xff\\xe1\\xd2\\xb9\\x0c\\x00\\xa0j\\xa1]\\x00@\\xd5-ne\\xdd\\xf9v\\xfd\\xc6\\x15V!\\xd7\\xafWpA\\x00\\x80\\xc7\\x818\\x00\\xa0\"2\\xb32\\xbf\\xfef\\xfd\\xa9\\x93\\xc7S\\xd3R\\xea\\xd7k\\xf8\\xc2\\x0b/\\xbe\\xd4\\xad\\x17\\x8d\\xd9\\xbce#M}\\xaec\\xab\\xf1\\xe3&\\xf7\\xeb;\\xe4\\x9f\\x7f\\x8e\\x1d:\\xfc\\xfb\\xc5K\\xe722\\xd2\\x1b\\x845\\x1e6lL\\x8b\\xe6\\xadh\\x86]\\xbb\\xb7o\\xfb\\xee\\xeb\\xc9\\x93f\\xce\\x9d7\\xbdW\\xaf\\xfe\\x91\\x917.\\\\8K\\xe3\\xff\\xf8c\\xff\\xe7\\xeb\\xb7\\xd6\\xab\\x1b\\xa6\\xebs\\xe7/\\x98A\\xb5\\x17/t|q\\xc9G\\xf3rss\\x1a6l\\xf2\\xc6\\xd8\\x89\\r\\x1a4\\x16\\xa6\\x9e8qt\\xd3\\xe6\\r\\xb7b\\xa3\\xdd\\xdd=BC\\xebO|\\xeb]\\x1f\\x1f_\\x1a\\x9f\\x93\\x93\\xb3\\xf8\\xc3\\xd9\\xe7\\xce\\xfdW\\xa7Nh\\xcf\\xee}5WXTT\\xf4\\xe5WkO\\x9e:~\\xef^B\\xe3\\xc6\\xcd{\\xf7\\xec\\xdf\\xb6\\xed3\\xcc \\\\\\xf1\\x13\\x1a\\x00\\xc0\\x1c\\xa1]\\x00\\x80\\xc9\\xe5\\x9c\\xdc\\xc0\\x90\\xf8\\xa3\\x8f\\xe6_\\t\\xbf8i\\xd2\\xcco\\xbe\\xdaI\\xc5\\xf0\\xc7\\xab>\\x0c\\x0f\\xbf8\\xf2\\xd57\\x06\\x0e\\x18NE\\xef\\xe1\\x83\\xa7)\\x08\\xc8\\xcb\\xcb\\xa3\\xd27??\\x7f\\xc6\\xbb\\xf3?X\\xbc*00h\\xd6\\xec\\xc9))\\xc9\\xb4\\xb8\\x9d\\x9d]NN\\xf6\\xbe};g\\xceX@E\\xef\\xaa\\x95\\x1bh%\\x9d;\\xbfD\\x0b\\xea\\t\\x02\\x88\\x8d\\x8dM\\xf8\\x95\\x8b\\x07\\xfe\\xfce\\xfd\\xba-\\xbf\\xee?nog/\\xb6&\\x9c>s\\xea\\xfdy\\xef\\xd0J\\xbe\\xdf\\xfe\\xcb\\xdc9K\\x12\\x13\\xe3W}\\xbaD\\x98\\xb4|\\xc5\\xc2\\xb8\\xb8\\xd8\\xe5\\xcb\\xd6-\\x9c\\xbf<:&\\x92J}q\\x85\\x9f\\xae\\xfeh\\xe7\\xaem\\xbd{\\r\\xd8\\xf6\\xedO\\x1d\\xdaw\\x9c;\\x7f\\xfa\\xd1\\xbf\\x0e2\\x83\\xf0\\x8c\\xc3s\\x86\\x00\\xcc\\x16\\xea\\x03\\x00\\x98B\\xc1+\\x8a\\x0cZ\\x82]\\xb8x\\x96\\x8a\\xfc\\xd6\\xad\\xda\\xd2\\xf0\\xd8\\xd7\\xde\\xea\\xd0\\xe1\\x05w7\\x8f\\x12\\xf3888l\\xdc\\xb0\\xdd\\xd1\\xd1\\x91\\xce\\xce\\xe9-\\xd5\\x07\\xec\\xdd\\xb7\\xf3\\xd2\\xe5\\xf3T\\xdc\\xd29=E\\t\\x03\\x07\\x8eh\\xd9\\xa253PnN\\xce;\\xd3\\xdewrr\\xa2\\xe1\\x8e\\xcfw\\xa5\\x8a\\x01:\\xdd\\xa7\\xb7_}\\xbd\\xae\\xfd\\xb3\\xcf\\xf7\\xed3\\x98\\xc6\\xd3\\'\\x8e\\x1f7e\\xda;\\xe3\\xaf]\\xbfR\\xcd\\xbb\\xfa\\xe1#\\x07\\xde\\x9d>\\xb7\\xa1\\xba\\xda\\xe0\\xf5\\xb1o\\xff\\xfd\\xcf_\\xc2\\xaa(F\\xf9\\xfd\\x8f\\x9f\\x07\\x0fz\\xb5G\\xf7>\\xf4\\xb6\\xdb\\x8b=/_\\xbe\\xb0y\\xcb\\x17\\xb4\\x85\\xcc\\x10\\x08\\x03\\x00\\xcc\\x17\\xe2\\x00\\x80\\x8ah\\xd2\\xa4\\xf9\\xf7?lMOOk\\xd6\\xb4e\\xeb\\xd6O\\xd5\\xaf\\xd7@\\xeblt\\xd2\\xbf\\xf1\\xcb\\xcf\\xce_8\\x93\\x9c\\x9c$\\x8cIKK\\x15\\xa7\\x86\\xd5o\\xc4\\x0c\\x17\\x10\\x18$\\x04\\x01\\xc4\\xc5\\xc5\\x95^333hLT\\xd4M\\xcd\\xf2\\x9bZ+\\xe8\\xf5\\xda\\xb5\\xf0\\x90\\xe0\\xba4P\\xbbv\\xf0\\xc3I\\xf5\\x1b\\xde\\xbcy\\x8d\\x06n\\xdc\\xb8ZPP\\xd0\\xba\\xd5S\\xe2\\xa4\\xe6\\xcd\\xcb\\n\\xa4X\\x00\\x00\\x10\\x00IDAT\\x9e\\xf8\\xf5\\xb7}\\xe9\\x19\\xe9\\xeen\\xee\\x0c\\x00\\xac\\x00\\xe2\\x00\\x00j\\xdd&\\x86\\x9d\\xd2\\xbe;}\\x1e\\xd5\\xeaS\\xdb?E\\x03.\\xce.\\xbd{\\x0f\\x18>\\xec5\\xaa\\xb4\\xd7\\x9c\\'11a\\xe2\\xe41-[\\xb4\\x993\\xeb\\x03j\\xc8\\xa7\\xcf\\xe8\\xd4\\xa5\\xad\\xe6\\x0c\\xd4:\\xc0\\x0c\\'\\xd3voCVV\\x16\\x9d\\xdc\\xdb\\xdb;\\x88c\\x84X\\x81\\x02\\x91\\xf4\\x8c4\\xd5[G\\'q\\x92\\xa3\\x83\\xe3\\x83\\xa52\\xe9\\xf5\\xad\\x89\\xa3K\\xac-5%\\xd9\\x808\\x00Ok\\x040g\\x88\\x03\\x00\\x98\\x92\\'\\x86\\x15en\\xaenC\\x87\\x8c\\x1a2x$U\\xa4\\x1f;~x\\xcb\\xd6/\\xe9\\xd4\\xbc\\x7f\\xbf\\xa1\\x9a\\xf3\\x1c9z\\x80\\xce\\xb6g\\xbc;\\x9f\\x9a\\x06\\xd8\\xa35\\x01\\x95\\x8e\\xda \\xe85//W\\x1c\\x93\\x9d\\x93M\\xaf\\xde^\\xd5\\x84\\x06\\x8b\\xbc\\xfc<qR\\x8ez\\x92jj\\xb5\\xea\\xf4:u\\xca,?\\xbf\\x00\\xcd\\xb5\\xd5\\xa8\\xe1\\xcb\\xca\\xcf\\xcaz_\\x00\\xb00\\x88\\x03\\x00T\\xfd\\n\\xcb\\xe4\\x06\\xcc\\x9f\\x9d\\x9dM\\xcd\\xea\\xd4\\x9aN\\xa5/5\\x10\\xd0_D\\xc4\\xf5\\x1b\\xea\\x9avM\\x19\\x19\\xe9\\xae\\xaenB\\x10@\\x0c\\xbe\\xfe\\xce\\x10T\\x15Am\\x13\\xe1\\xe1\\x17\\xc51\\xc2ppH]\\x0fwO\\x1a\\xa0xEh\\xbc(,,<}\\xe6\\x94\\x87\\x87j\\xa4\\xbf_\\xa0\\xbd\\xbd=\\r\\x08w1\\x90\\xd4\\xd4\\x14\\x8a\\x89\\xc4v\\x87\\xf2\\xa0\\xca\\x00\\xf4\\xca\\x0c`\\xbep\\xf8\\x020\\xa5\\x92W\\x1a\\xd23\\xae\\\\.\\xdf\\xb4y\\xc3\\xbc\\x05\\xefR\\xe1\\x9a\\x92\\x92\\xfc\\xc7\\x1f\\xfboF\\\\k\\xd2\\xb89M\\xf2\\xf7\\x0fLNN:~\\xfc\\xc8\\xed\\xdb\\xb7\\x82\\x83\\xeb\\xd2\\xf0\\xbe\\x9fv\\x15\\x15\\x15\\x9d\\xfa\\xf7\\xef\\xb3g\\xffuw\\xf7\\xb8w/A\\xeb:\\xe9\\x8c\\xfc\\xea\\xd5\\xcbg\\xcf\\xfdG%1\\xab\\x90\\xde\\xbd\\x06\\x1c?qd\\xd7\\xae\\xef223\\xce\\x9d?\\xbdv\\xdd\\xca\\x96-Z\\xd7\\r\\xad_\\xbdz\\x8d\\xc6\\x8d\\x9b}\\xf3\\xcdz\\xda$j;X\\xb4x\\x16\\xf7\\xa0\\x1e\\x9f\\xca\\xfbWG\\xbc\\xbey\\xcb\\x17\\x97.\\x9d\\xa7\\xaa\\x0b\\x8aT\\xa6M\\x1f\\xbf\\xea\\x93%\\x06}.U\\x06\\xf0x\\xee0\\x80\\xd9B}\\x00\\x80\\xc1\\xa8\\x1a`\\xc1\\xbce\\xab\\xd7,\\x13Z\\xd6\\xeb\\xd4\\ty\\xe3\\xf5I/v\\xedA\\xc3m\\x9f|\\x86\\x02\\x829s\\xa7\\x8d\\x18>\\xf6\\xd5\\x11co\\xdd\\x8a\\xa2R\\xf6\\xe3U\\x1f\\xb6n\\xd5\\xf6\\xdd\\xe9\\xf3\\xb6\\xef\\xd8\\xbc\\xed\\xbbo233\\xea\\x95\\xba\\xae\\xb0\\xfbK\\xaf\\xdc\\xb8q\\xf5\\x9d\\xe9\\x13\\x96.Y\\xdd\\xea\\x89\\'\\x99\\xe1:w~\\xe9~\\xd2\\xbd\\x1d?l\\xf9l\\xed\\n\\x1f\\x1f\\xdfVO\\xb4}m\\xcc\\x9b\\xc2\\xa4\\x993\\x16\\xacZ\\xf5\\xe1\\xd87\\x86Pe@\\xd7.\\xdd\\xa9&\\x83\"\\x06a\\xd2\\xc0\\x01\\xc3CB\\xeam\\xdb\\xfe\\r\\x85)\\xce\\xce.\\x8d\\x1a6\\x9d:u6\\x03\\x00\\xab\\xc1\\xf1h\\xd9\\x03\\xabwlw\\xd2\\xa5\\x13\\xa9\\xc3\\xde\\xaf\\xcb\\xc0p\\xdb\\x16G\\xf9\\xd4\\xb6\\xef5\\xc1\\x8f\\x01\\x80\\x19B}\\x00\\x80p\\xa1\\x1b\\xda\\xc8*J\\xc6p\\xc3\\x00\\x80\\xf9B\\x1c\\x00\\xc0\\xe4\\x1c\\'\\x9d\\x82\\xac{\\x8f\\xff\\xe9\\x9a\\xf4\\xee\\xbb\\xf3\\x9ey\\xfa\\x7fLjxf\\xe8]\\x97\\x00 \\x1d\\x88\\x03\\x00\\x98\\x82\\x97P\\xfb\\xd8\\x86\\r\\xdbtM\\xf2\\xf4\\xf0b\\x12\\x84\\xeb\\x04\\x01\\xcc\\x19\\xe2\\x00\\x00\\xf5\\x9do\\x92\\xa9\\x0f\\xa8\\xe9[\\x8b\\x01\\x00T\\x15\\xb4\\x89\\x02\\xa8\\xef|C\\xc5\\xf6c\\xb8w\\xff\\xde\\xce\\x9d;/_\\xbe\\xacP\\x18r\\xff%\\x00H\\x00\\xea\\x03\\x00T\\x95\\x012\\x84\\xc4\\x15\\xc61GG\\x87\\x9b7o\\xfe\\xf4\\xd3OW\\xaf^\\r\\t\\ti\\xd0\\xa0AXXX\\x03\\xb5\\x12}-\\x03\\x80\\xd4\\xe0\\x10\\x05\\xebEE\\xd7\\x85\\x0b\\x17.^\\xbc\\x98{\\xbbN\\x90\\xe7\\xb3\\x0c*\\x86cnn\\xee3\\xc7\\xcd\\x14\\xde\\xdd\\xb8q\\x83\\xa2\\x81k\\xd7\\xae\\xfd\\xf2\\xcb/4\\x10\\x14\\x14$\\x04\\x04BdP\\xb1G*\\x00\\x80\\xf1 \\x0e\\x00+\\x92\\x9d\\x9dM\\xa5>\\x95\\xfd\\x97.]\\xa2W\\x7f\\x7f\\xfff\\xcd\\x9a=\\xf9\\xe4\\x93|h\\x83[\\x17\\xd00PQJ\\xc6+\\x1f\\xee\\xbdzj={\\xf6\\x14\\xdeFDD\\\\U\\xfb\\xfd\\xf7\\xdf\\xe95  \\x80\\x02\\x82\\x86\\r\\x1b\\x86\\xa9\\t\\x8fE\\x00\\x00\\x13B?B`\\xe1bbb\\x84R\\x9f^\\xe3\\xe3\\xe3\\x9b6mJe\\x7f\\x93&M\\xe8U\\xec\\xf9\\xff\\xf8\\x9e\\xfb\\x17Od\\x0c\\x9b\\x1d\\xc2\\xc0p\\x06\\xf5#\\x14\\x19\\x19IU\\x05W\\xae\\\\\\xb9\\xa6V\\xb3fM\\xcd\\xda\\x02\\xf1\\x17\\x01\\x80*\\x83\\xfa\\x00\\xb04\\x85\\x85\\x85\\xc2I\\xbfP\\xf6{zz\\n\\xa5\\xfe\\xc0\\x81\\x03CCC\\xb5.\\xa2\\xba\\xeb\\r\\xf1p\\x85\\x19r\\xb7E\\x88\\xdaK/\\xbd$\\xbc\\x8d\\x8e\\x8e\\x16j\\x0b\\x0e\\x1f>L\\xaf>>>\\x9a\\xb5\\x05\\xce\\xce\\xce\\x0c\\x00\\x8c\\x0cq\\x00X\\x82\\xbbw\\xef\\n\\'\\xfd\\x84\\xce8\\xa9\\xd4\\xa7\\xf3\\xfe~\\xfd\\xfa-X\\xb0\\xc0\\xdd\\xdd\\x9d\\x81Q=\\xc6\\xdd\\x16u\\xd4\\xbau\\xeb&\\xbc\\xa5\\xca\\x1b\\xa1\\xb6\\xe0\\xe8\\xd1\\xa34\\xe0\\xed\\xed\\xdd\\xe0\\x01\\n\\x0b\\\\\\\\\\\\\\x18\\x00T6\\xc4\\x01`\\xae.>@e\\xbf\\x9d\\x9d\\x9dp\\xd2\\xdf\\xa3G\\x0f*0\\x98\\xa1xt\\x8b+\\tAj]\\xbbv\\x15\\xde\\xc6\\xc6\\xc6\\n\\xb5\\x05_|\\xf1\\x05\\x85\\x05\\x1e\\x1e\\x1e\\r4\\xb8\\xba\\xba2\\x00xl\\x88\\x03\\xc0l$%%\\t\\xa5>\\xbd\\xd2\\xd9?\\x15\\xfct\\xd2\\xdf\\xa5K\\x97\\xe9\\xd3\\xa7W\\xabV\\x8d=\\x06^J\\xfd\\t\\x82(P\\x8d~b\\xe1m\\\\\\\\\\x9c\\x10\\x16|\\xfd\\xf5\\xd7\\xf4\\xea\\xe6\\xe6&4\"\\x08\\xb5\\x05\\xa8\\xf8\\x01\\xa8\\x18\\xc4\\x01 it\\x16(\\x96\\xfd\\x05\\x05\\x05\\xc2U~\\x93\\'O\\xa6\\x01Vyd2\\xde\\xc6\\x16U\\x02\\x15d\\xe3\\xc0\\xd9\\xda\\xb3*\\xe0\\xaf\\xd6\\xa9S\\'\\xe1\\xed\\x9d;w\\x84F\\x84M\\x9b6\\xd1\\x80\\xb3\\xb3\\xb3\\xd8i\\x01\\xa1\\xca\\x03\\x06\\x00\\xe5\\x808\\x00\\xa4%##C,\\xf8Ipp0\\x15\\xf9\\xcf>\\xfb\\xec\\x84\\t\\x13j\\xd52V\\x87\\xbb5\\x02\\xed/\\x9f\\xc8`P!\\x85y\\n\\x0f_\\x13\\xe4$~j\\x1d;v\\x14\\xde\\xde\\xbd{\\x97\\xa2\\x01\\xaa\\'\\xf8\\xf6\\xdbo\\xe9\\xd5\\xc1\\xc1A\\xbc\\xe4\\x90\\xc2\\x02//I>\\x9a\\x01@\\x02p\\xdf \\x98^TT\\x94X\\xf6\\xa7\\xa4\\xa4\\x08\\'\\xfdM\\xd5\\xaa\\xac\\xdb\\x99\\r3\"\\xc3\\xda\\xb9\\xb7\\xe8\\xf0X\\xed\\x0bV\\xe8\\xd6\\xb5\\xf4c;\\xef\\x8f[\\x16\\xca$&!!A\\xbcA\\x91\\xc2\\x02[[[\\xb1\\xb6\\x80\\x06\\x1e\\xb3!\\t\\xc0\\x92 \\x0e\\x00\\x13\\xc8\\xcb\\xcb\\x13;\\xf3\\xa1\\xb2\\xbfF\\x8d\\x1ab\\xd9\\x1f\\x14\\x14\\xc4L\\xe1\\xd2\\x89\\xa4\\xbf~L\\x1b>Gr\\xe5\\x99\\xc4m]\\x1c\\x11\\xd6\\xc6\\xf5\\xb9\\xbe>L\\xda\\x12\\x13\\x13\\x85\\x80@\\xe8\\xeb\\x90\\xe38\\xcd\\xce\\x8f\\xabW\\xaf\\xce\\x00\\xac\\x15\\xe2\\x00\\xa8\"qqq\\xe2=\\xfd\\xb1\\xb1\\xb1bg>T\\xf6K\\xe4~\\xb0\\xf4\\xe4\\xbc-\\x1f\\xc4U\\xf7\\xb3\\x0fl\\xe8\\xec\\xean\\xa7\\xba/\\xfeQ\\xbc\\xea\\xbe\\x82r^F\\xc0\\xab\\xee\\xa9\\xe7U\\xbd\\x12p\\x0fG\\x95\\\\\\x98\\xd3\\xdem\\xc1#3\\xaa\\x86x^\\xc9=z\\x8b>\\xcf?r\\xcf~\\xa9U\\xeb\\x1a\\xa1\\xfa\\x02\\xbc\\x965\\xe8_\\x01\\xa7\\x9e[sbvVA\\xec\\xd5\\xcc\\xa4\\xb8\\x82\\xee\\xaf\\xfb\\xfa\\x87\\x9a\\xdf\\xed|\\xf7\\xef\\xdf\\x17\\x02\\x02!2\\xa0lP\\xb3\\xb6\\xc0\\xc7G\\xeaa\\r@%B\\x1c\\x00\\xc6\\xa2P(\\xc4{\\xfa\\xe9\\xa4\\xdf\\xd9\\xd9\\xb9\\x99\\x1a\\x15\\xff\\xf5\\xea\\xd5c\\x92\\x94p7\\xeb\\xc07IY\\xa9EJ\\x85\\xb6{\\xe2K\\x97\\xe4\\x8f\\xadD\\x81^\\xceO)\\xb1\\x14gx7H\\xfa\\x03\\x89\\x92\\x9bP\\xe2=\\xc7\\xd9\\xd8\\xf1\\x8e\\xce\\\\\\xbb\\xde\\xd5\\xeb6vc\\xe6/))I\\xb3\\xb6\\xa0\\xb0\\xb0P\\x08\\x08\\x84\\xcb\\x0b|}}\\x19\\x80\\xe5B\\x1c\\x00\\x95\\x89j_\\xc5\\xdb\\xfa)K\\x15\\xce\\xf8\\x85\\x93~OOO\\x06\\x15\\xd5\\xae]\\xbb\\xc3\\x87\\x0f\\xdb\\xdbW\\xc9u\\xf9V/%%E\\x08\\x08\\x84\\xcb\\x0b\\xa8\\x19K\\xb3;#\\xe3]\\xaf\\n`\\x12\\x88\\x03\\xe0q\\x85\\x87\\x87\\x8b\\x0f\\xef\\xa1\\xe4\\xd4\\xf4\\x81\\xc6\\x8d\\x1b3\\xa8$m\\xda\\xb4\\xf9\\xe7\\x9f\\x7f\\xe4r9\\x83*\\x97\\x96\\x96v\\xf5\\x01\\n\\x0b\\xb2\\xb3\\xb3\\x85F\\x04\\xa1\\xb6\\xc0\\xcf\\xaf\\\\\\x0fV\\x00\\x90,\\xc4\\x01`\\xb0\\xd4\\xd4T\\xcd[\\xfb(+\\x14\\x1f\\xde\\x83\\x1aTc\\xa0\\x83\\xb4u\\xeb\\xd6\\xa7O\\x9ff \\x01\\xe9\\xe9\\xe9B#\\x82P[\\x90\\x91\\x91\\xa1\\xd9\\xcb\\xa1\\xbf\\xbf?\\x030+\\x88\\x03\\xa0\\\\n\\xde\\xbc)\\x96\\xfdYYY\\x9a\\xb7\\xf6\\xe1$\\xd5\\xd8\\xa8\\xb9\\xfa\\xd9g\\x9f=y\\xf2$\\x03\\xe9\\xc9\\xcc\\xcc\\xbc\\xaa\\x81*\\x0f4\\xbb3\\n\\x0c\\x0cd\\x00\\xd2\\x868\\x00\\xb4\\xa3\\xc2^\\xbc\\xaf\\x8f\\xd0Y\\x8eX\\xf6\\x07\\x04\\x040\\xa8B999]\\xbat9v\\xec\\x18\\x03\\xc9\\xa3\\x03G\\xbc\\xe4\\x90$\\'\\'\\x0b\\xcfN\\x14\\x1a\\x11Lu[,\\x80\\x1e\\x88\\x03\\xe0\\xa1\\x98\\x98\\x18\\xf1*\\xbf\\xc4\\xc4D\\xf1\\xbe>\\x82\\x07\\xc3\\x9b\\x10\\xd5<\\xf7\\xec\\xd9\\xf3\\xf0\\xe1\\xc3\\x0c\\xccMvv\\xf655\\xa1\\x11\\x81\\x0e+\\xcd\\xda\\x82:u\\xea0\\x00SC\\x1c`\\xd5\\xa8\\xc2Y\\xb3\\xa5\\xdf\\xd3\\xd3S\\xbc\\xca/$$\\x84\\x814\\xa4\\xa4\\xa4\\x0c\\x180\\xe0\\xc0\\x81\\x03\\x0c\\xcc\\\\nn\\xaefmA||\\xbcfm\\x01\\x0e:0\\t\\xc4\\x01V\\xe7\\xee\\xdd\\xbb\\xe2m\\xfd\\x91\\x91\\x91\\xe2\\x19?\\xc1\\x13\\xdb\\xa4\\xe9\\xde\\xbd{#F\\x8c\\xf8\\xf5\\xd7_\\x19X\\x96\\xbc\\xbc<\\xcd\\xda\\x82\\xdb\\xb7ok\\xf6r\\x18\\x1a\\x8a\\xde-\\xa1*\\xe09CVA\\xac\\xed\\xa7\\xb2\\xdf\\xce\\xceN\\xa8\\xf0\\xef\\xd1\\xa3\\x07\\xe58\\x0c$\\x8f\\xaamlmm\\x19X\\x1c\\x07\\x07\\x87\\xe6j\\xc2\\xdb\\x82\\x82\\x02\\xe1\\xd6\\xc43g\\xcel\\xdd\\xba\\x95\\xda\\xe9\\xc4N\\x0b\\xe8U\\xb2\\xbdo\\x81\\xb9C}\\x80eJJJ\\x12\\xef\\xe9\\xa7\\x01*\\xf8\\x853~*\\xfe\\xf1\\x84\\x15\\xb3s\\xeb\\xd6\\xad\\xc9\\x93\\'\\xef\\xde\\xbd\\x9b\\x815)**\\x12;-\\xa0W\\xaa\\xbd\\x13{9\\xac_\\xbf>\\x82x\\xa8,\\xa8\\x0f\\xb0\\x1c\\x94Y\\x88\\x8d\\xfdtb!\\x94\\xfa\\x13\\'N\\xa4W\\x06\\xe6\\x8c\\xca\\x03\\x1b\\x1b\\x1c\\xaaV\\x87~\\xf4&j\\xc2[\\x85B!\\xc4\\x04t\\x8c\\x7f\\xff\\xfd\\xf7\\xd7\\xaf_\\xd7\\xec\\xe5\\x90^\\x19@\\x85 s1c\\x19\\x19\\x19\\x9aW\\xf9\\x05\\x07\\x07S\\xd9\\xff\\xec\\xb3\\xcfN\\x980\\x01]\\x9fZ\\x12\\xc4\\x01@\\xe4ryc5\\xe1-U\\xe5\\n\\xb5\\x05\\xe1\\xe1\\xe1\\xbbv\\xed\\xa2\\xf8\\x80*\\t4#\\x03\\x99L\\xc6\\x00\\xca\\x01\\x99\\x8b\\x99\\x89\\x8a\\x8a\\x12\\xcb\\xfe\\x94\\x94\\x14\\xe1\\xa4\\xff\\xb5\\xd7^\\xa3\\x01j\\xf8g`\\x89\\x10\\x07@i\\x1c\\xc75T\\x13\\xc7\\x88w\"\\xec\\xd9\\xb3\\x87\\x86\\xeb\\xd6\\xad+\\xde\\x89@\\x90\\x84@\\x17\\\\\\x1f uyyyB3\\xbfP\\xf6\\xd7\\xa8QC\\xec\\xcf\\x07}\\x92X\\x89\\xf3\\xe7\\xcf\\xaf^\\xbd\\xfa\\xcb/\\xbfd\\x00\\xe5F\\r\\x07\\xe2\\x9d\\x08\\xa4N\\x9d:\\x9a\\xfd\\x1f#,\\x00\\x11\\xe2\\x00)\\x8a\\x8b\\x8b\\x13\\xee\\xeb\\xa3\\xe2?66V\\xe8\\xba_(\\xfb]\\\\\\xcc\\xefY\\xef\\xf0\\x98\\xce\\x9c9\\xb3a\\xc3\\x86\\xcf?\\xff\\x9c\\x01T\\xd4\\xcd\\x9b75\\xfb?\\xa6\\xb3\\x08\\xcdk\\x0bP\\x9bh\\xcd\\x10\\x12J\\x82B\\xa1\\x10\\xef\\xe9\\xa7\\x01\\'\\'\\'\\xe1q\\xbd}\\xfb\\xf6\\xc5\\xcdB@\\xed\\x02x\\x88\\x03<\\xa6\\xbaj=z\\xf4\\x10\\xdeFDD\\x08\\x01\\xc1\\xef\\xbf\\xffN\\xaf\\x01\\x01\\x01b#\\x02\\x85\\x05x\\xc2\\xb5UA}\\x80\\xc9$&&\\x8a\\xb7\\xf5\\xd3q(\\x9c\\xf1\\x0b\\xa7\\xfe^^^\\x0c\\xe0\\x81\\x13\\'N\\xec\\xd8\\xb1\\xe3\\xd3O?e\\x00\\xc6\\x11\\x19\\x19)6\"Pv\\xe4\\xe7\\xe7\\xa7Y[\\xe0\\xe0\\xe0\\xc0\\xc0r\\xa1>\\xa0J\\x85\\x87\\x87\\x8b\\xb7\\xf5S\\x04&\\xdc\\xd3\\xdf\\xa5K\\x17\\xf1\\x1a`\\x80\\xd2\\xd0\\x8f\\x10\\x18[\\x88\\xdaK/\\xbd$\\xbc\\x8d\\x8a\\x8a\\x12j\\x0b\\x0e\\x1e<H\\xaf\\xbe\\xbe\\xbe\\x9a\\xd7\\x16\\xe0i#\\x16\\x06\\xf5\\x01\\xc6\\x95\\x9a\\x9a*^\\xdeOe\\x7f\\xfd\\xfa\\xf5\\x85\\xab\\xfc\\xe8\\xa4\\x9f\\x0e-\\x06P\\x0e\\x7f\\xfe\\xf9\\xe7\\x81\\x03\\x07\\x96.]\\xca\\x00L!&&F\\xf3\\xda\\x02\\x1f\\x1f\\x1f\\xb1\\xf3c\\x1apvvf`\\xceP\\x1fP\\xf9n\\xde\\xbc)\\x96\\xfdYYYB\\xc1?a\\xc2\\x04*\\xfbq\\x8d.T\\x00\\xee\\x1b\\x04\\xd3\\nR{\\xf1\\xc5\\x17\\x85\\xb7\\x14\\x16\\x08\\xcd\\x07\\xc7\\x8e\\x1d\\xa3Wooo\\xcd~\\x0bp-\\xb3\\xd9A}@%\\xc8\\xce\\xce\\xd6\\xec\\xcf\\xc7\\xdf\\xdf_\\xbc\\xb5/  \\x80\\x01<\\x9e\\x9f\\x7f\\xfe\\xf9\\xbf\\xff\\xfe\\x9b?\\x7f>\\x03\\x90\\x9e\\xd8\\xd8X\\xb1\\xaa\\x80\\xe2\\x03OOO\\xcd\\xa7%\\xb9\\xba\\xba2\\x906\\x9cdT\\x10E\\xc4\\xe2=\\xfd\\t\\t\\tB\\xc1?b\\xc4\\x08\\x1a@\\xe3\\x19T.\\xd4\\x07\\x80\\x94\\x05\\xaau\\xe9\\xd2Ex{\\xfb\\xf6m! \\xf8\\xfa\\xeb\\xafi\\xc0\\xdd\\xdd]\\xf3N\\x04777\\x06\\x12\\x83\\xcc\\xa5\\xbc\\n\\x0b\\x0b5O\\xfa)\\xe6\\x15\\xae\\xf0\\x1f4h\\x10\\x9e\\x1a\\x0eF\\x85\\xeb\\x04\\xc1\\x8c\\x04\\xa8u\\xee\\xdcYx\\x1b\\x17\\x17\\'\\xdc\\x89\\xb0i\\xd3&\\n\\x0b\\xa8z@\\xf3\\xda\\x02\\x0f\\x0f\\x0f\\x06\\xa6\\x86v\\x01}\\xa8u\\xff\\xc4\\x89\\x13\\xc2m\\xfd\\x91\\x91\\x91BU\\xbf\\x80\\x82\\\\\\x06P%\\xbe\\xfb\\xee\\xbb;w\\xeeL\\x9b6\\x8d\\x01\\x989J\\xc9b\\xff\\xc74@\\xb5\\xa7\\xe2\\xb5\\x05\\xad[\\xb7F\\xbd\\x97I \\x0e\\xd0g\\xf8\\xf0\\xe1\\xd4\\xd8/\\xdc\\xd6\\x8f\\xa7|\\x82\\xa9\\xec\\xde\\xbd;--m\\xd4\\xa8Q\\x0c\\xc0\\xb2\\xc4\\xc7\\xc7\\x0b1\\xc1\\xb9s\\xe7\\xa8\\x16a\\xee\\xdc\\xb9\\x0c\\xaa\\x1c\\x82/}\\xae_\\xbf\\xfe\\xd5W_!D\\x05\\xd3*((HNNf\\x00\\x16\\xa7\\xa6\\xda\\xf3\\xcf?Ou\\x03\\x0b\\x17.d`\\nx0\\xa5>\\x14\\x01\\x14\\x15\\x151\\x00\\x93B:\\x04\\x8b\\x87DnB8\\xd3\\xd5\\x07I\\x13\\xa4\\x00\\xe9\\x10,\\x1e\\x12\\xb9\\t!\\x0e\\xd0\\x07I\\x13\\xa4\\x00\\xe9\\x10,\\x1e\\x12\\xb9\\t!\\x0e\\xd0\\x07I\\x13\\xa4\\x00\\xe9\\x10,\\x1e\\x12\\xb9\\t!\\x0e\\xd0\\x07I\\x13\\xa4\\x00\\xe9\\x10,\\x1e\\x12\\xb9\\t!\\x0e\\xd0\\x07I\\x13\\xa4\\x00\\xe9\\x10,\\x1e\\x12\\xb9\\t!\\x0e\\xd0\\x07I\\x13\\xa4\\x00\\xe9\\x10,\\x1e\\x12\\xb9\\t!\\x0e\\xd0\\x07I\\x13\\xa4\\x00\\xe9\\x10,\\x1e\\x12\\xb9\\t!\\x0e\\xd0\\x07I\\x13\\xa4\\x00\\xe9\\x10,\\x1e\\x12\\xb9\\t!\\x0e\\xd0\\x07I\\x13\\xa4\\x00\\xe9\\x10,\\x1e%r\\x85B\\xc1\\xc0\\x14\\xd0\\x9f\\xa0>\\xc8\\x7fA\\n\\x90\\x0e\\xc1\\x1a\\xc8\\xe5r\\xa4s\\x93@\\x1c\\xa0\\x0f\\xf2_\\x90\\x02\\xa4C\\xb0\\x06H\\xe7\\xa6\\x82v\\x01}\\x90.A\\n\\x90\\x0e\\xc1\\x1a \\x9d\\x9b\\n\\xe2\\x00}\\x90.A\\n\\x90\\x0e\\xc1\\x1a \\x9d\\x9b\\n\\xe2\\x00}\\x90.A\\n\\x90\\x0e\\xc1\\x1a \\x9d\\x9b\\n\\xe2\\x00}\\x90.A\\n\\x90\\x0e\\xc1\\x1a \\x9d\\x9b\\n\\xc7\\xf3<\\x83G\\xb5h\\xd1\\x82\\xa9/^\\x15v\\x0e\\xaf\\x16\\x18\\x18\\xb8w\\xef^\\x06PUF\\x8e\\x1cy\\xfe\\xfcyN\\x8dR\\xa0\\xf0*\\x93\\xc9N\\x9f>\\xcd\\x00,\\x05\\xe5\\xb7\\x94\\xb6i@L\\xe7J\\xa5\\xf2\\xa9\\xa7\\x9eZ\\xbbv-\\x83*\\x81\\xfb\\x05\\xb4h\\xdb\\xb6-\\xe5\\xb6L\\x9d.\\t\\r\\xdb\\xd9\\xd9\\r\\x1e<\\x98\\x01T\\xa1\\x89\\x13\\'V\\xabV\\x8d\\x92\\x9f\\x90\\x08\\x85\\xd7\\x80\\x80\\x00\\x06`Aj\\xd7\\xae-S\\x13\\xd3\\xb9\\xa7\\xa7\\xe7k\\xaf\\xbd\\xc6\\xa0\\xaa \\x0e\\xd0\\x82\\xce\\xc3\\xbc\\xbd\\xbd5\\xc7\\xf8\\xfb\\xfb\\xf7\\xea\\xd5\\x8b\\x01T\\xa1\\xe6\\xcd\\x9b\\xb7l\\xd9R\\xb3\\xc6\\x8e\\xb2\\xc8\\x8e\\x1d;2\\x00\\x0b\\xd2\\xb3gO\\xe1\\xbcK\\x14\\x16\\x16&T\\xcaB\\xd5@\\x1c\\xa0E\\x9b6m\\x1a5j$\\xbe\\xa5\\xcc\\xb7{\\xf7\\xee\\xf6\\xf6\\xf6\\x0c\\xa0j\\x8d\\x1e=\\xbaF\\x8d\\x1a\\xe2[??\\xbf\\xfe\\xfd\\xfb3\\x00\\x0bB\\xe7]\\xb5j\\xd5\\x12\\xdf:;;\\x0f\\x192\\x84A\\x15B\\x1c\\xa0\\x1d\\xd5Jyyy\\t\\xc3\\x94\\xf9\\xf6\\xee\\xdd\\x9b\\x01T\\xb9z\\xf5\\xeaQT*\\x0cS\\xa3i\\xbbv\\xed4\\xc3\\x02\\x00\\xcb@\\x05\\xbf\\\\.\\x17\\x86\\xeb\\xd4\\xa9\\xf3\\xf4\\xd3O3\\xa8B\\x88\\x03\\xb4k\\xd8\\xb0!\\xd5\\xca\\n\\xc3\\x9d;wvwwg\\x00\\xa6@gK\\xd5\\xabW\\xa7\\x81\\x9a5k\\xe2\"\\x15\\xb0H\\xfd\\xfa\\xf5\\x0b\\x0c\\x0c\\xa4\\x01\\xaav\\x1d6l\\x18\\x83\\xaaU\\xae\\xfb\\x06\\xa3\\xaff(\\x0b\\xe5Z\\'q\\x8c\\t\\xad\\x97\\xbcz\\xb8\\xf4xM%\\xe6)1\\xb3\\xfaU\\xb8(Z\\xdb<\\x1c{0\\x9e\\xe7\\x18\\xc7\\xeb\\xf8,\\xf5l\\xda?\\xe7\\xe1l\\x9c\\xfas\\xb4m\\xe1\\x83\\x0f\\xe0e<\\xd7\\xb3\\xe3kI\\xb7\\xe8[sO6\\xee\\x19y1\\xfb\\xd1\\x19T\\xeb\\xd0\\xb9\\x06\\xf5\\xfa\\xb5n\\x9e\\x1e\\xe5\\x9a\\xed\\xd15\\x97w\\x92z\\x7f\\x94^\\xbf\\x9eO\\x94\\xdb*\\x82\\x1a\\xb81\\xf3\\xa1\\'\\x89j\\xa5\\x91\\xe4\\xb4\\x8c/{Y={[\\xc7\\xaa\\xca\\x99\\x0c\\xb4\\xad\\xa4\\xfa\\xff\\xda\\x0c\\xf8\\xe7\\x9f\\x93\\xad\\x9b\\xb5\\xceO\\xf1\\x8cL\\xc9\\xd66\\x8f\\xfe5\\x18F\\xfd\\xdd\\xd4\\xd7oWhU\\xad\\xe9\\x84\\x00\\x00\\x10\\x00IDAT\\x9b+\\xb0\\x012YQ\\x9d\\xc6\\xe6\\x14j\\xdf\\xbe\\x91]\\x98\\xab\\xe09\\x03\\x92\\x9c\\xee\\xfcO\\'u\\x9eg\\xc0\"\\xbc\\xfa\\xc4\\xce\\x90\\x9f\\xacd^Z\\xb9\\xf3\\x97\\xf3\\x0b\\x0b)\\xa4\\xffKo}\\xff\\xfd\\xf7\\x14\\xf2\\x06Uo[\"\\xbf\\xad\\x18\\xcd\\x0c_\\xf5\\xaf\\\\\\xcb\\x94}\\\\kY\\xbf\\xce\\x19\\xca\\xfe\\xf9\\xca\\xb3\\x8b\\xf4\\xafG<Z\\xb5O\\xe5\\x8b|\\x03\\xec\\\\\\xbc\\x1c\\x99\\xfe\\x8f\\xd0\\x7f\\xdf\\xe0\\xf6e\\xd1)\\x89\\n*3\\x15e\\xdd\\xd5ip\\x1a7\\x9d27\\xb5\\xcc\\x19\\x84\\xfb[\\x98\\x11\\xa8~p\\xdd\\x9f]\\xb1\\x9d\\xaco)\\x1d\\xd3\\xe4\\xea\\xf8\\xd0\\xbb\\xa6]\\xff)\\x81L\\xda\\xca\\x9fD\\xa1\\xbc\\xaa\\xfc`\\xa6\\xf2\\x94>\\xd0\\xdd[>df\\x1d&m?\\xae\\xb9\\x1d\\x1f\\x93O\\x03J\\xe3\\xa77\\x8d\\x93\\x1f\\xa3\\xd0\\x9f\\xdbh[\\xc0\\xc0\\x84a\\xb4\\x84d\\xd0\\x96\\x97\\x7f+\\xca9\\xa7\\xc1\\xfb\\xedqWU\\xf1\\x80\\\\ud\\xf1\\xcc\\xd6\\x81u}\\xb5f@]g\\x9d\\xb3\\xe9)\\xcf\\xb6~\\x14U\\x90\\xad|\\xb6\\xb7\\x8fo\\x1dW\\x06V\\xe6nT\\xe6\\x89=\\xf7\\x1c\\x9de\\x83\\xa6K7kV\\'Q\\xfe\\xd9\\xde5\\x90D\\xcd\\xdd\\xfd\\x84\\xdc\\x13\\xbb\\x13\\n\\xf3\\x94\\xa3\\xe6\\x870\\xa9\\xfa\\xe9\\x8b;\\xf11\\xb9m_\\xf6\\xaa\\xd3\\xd0\\x8b\\x01\\x98\\x89\\x13\\xfb\\xe2#\\xcee\\x0f\\x9b\\x15\\xe8\\xeem\\xa7u\\x06\\x9dq\\xc07\\xf3\\xa3\\xe4v\\xac\\xd7\\xf8`\\x06Vl\\xf7\\x9aH\\xbe\\x90\\xbd:W\\x8aY3\\x92\\xa8\\xe59\\xf0\\xdd\\xed\\xe4\\xd8\\xfc\\xd7>\\x08e\\xd2\\xb3\\xed\\xa3\\x98\\xbc\\x1cE\\xbf\\xc9\\xd2\\rS\\x00\\xf4\\xd8\\xbc b\\xc04\\xbfj5\\xb5\\xb4\\x11h\\xbfN0\\xfc\\x9f\\xd4\\xbcl%rXxeBHn6\\x7f\\xfdl:\\x93\\x18$Q\\x8b\\xd4iP\\x80\\x92g\\xc7\\xf7\\xdeg\\x12\\x93\\x9e\\x9c\\x9bz\\xaf\\x08A\\x00\\x98/\\x9f \\x87\\x9f\\xbfH\\xd0:I{\\x1cp\\xf5\\xdf\\x0c\\x07\\x17\\xdcJ\\x00*\\x0e\\xce\\xdc\\xe5\\xbf\\xd3\\x98\\xc4 \\x89Z*\\x17\\x0fy\\xf4\\xd5L&1\\x7f\\xff\\x9cj\\xef`.W@\\x01h\\x11\\xf6\\xa4sv\\x86B\\xeb$\\xed9i~\\x1e\\'\\xb7\\xc1#\\x88@\\xc5\\xc6\\xde6/[r9 \\x92\\xa8\\xa5rp\\xb6/\\xca\\x91\\\\z+\\xc8\\xe5K\\xf4y\\x07`^j\\x04\\xba\\xe9\\xba\\xdcP{NZT\\xa0\\xe4\\x95\\x08~AEA\\x89\\x81\\x93\\\\b@\\x12\\xb5TE\\xf9\\xca\\xc2\\x02c^%_!\\x85\\xf9\\xbc\\x04\\xb7\\n\\xa0\\xfc8%S*\\xb4\\xa7a\\x9cQA\\x19\\xf0@J\\x00\\x00s\\xa7\\xce\\xc9\\xb5\\x9f;i\\x8f\\x03T\\xf7\\xad2\\x00\\x15\\x99\\x8c\\xa3?\\x06\\x00\\x00f\\x8b\\xd3\\xdd\\x0f\\x81\\x8e8@\\xc6Q\\x1d\\x02\\x00Suk\\xcfs\\xd2\\x8b\\n\\xe56\\x1c\\xaf@tb\\x81\\xe8$\\x84\\x93^\\xdc\\xc91&\\xbd\\xc61\\x00\\x03\\xf0\\xc5}\\x84j\\xa1=\\x0e\\xa0V\\x04\\x9eG\\xaa\\x07\\x15N&\\xc5\\x1cPQ\\xc4\\xf3\\x08U-\\x11\\xd5^\\xf2J\\xc9\\x05\\x9e<\\x1a\\xc8\\xc0\\xccq\\xba\\xfbL\\xc6\\xf5\\x01P\\x06\\x8eqf\\xd3e4\\x98?U}\\x80\\xf4\\xd2\\x1b\\xc7\\xa9*I\\x19\\x80\\xf9\\xd2]\\xb1\\xab\\xf3\\xfa\\x00d\\xfd P\\xb7\\x0b 5@\\x15Q\\xd5\\x07H\\xef\\xcc[\\xdd\\xd3?*\\x04\\xc0\\x8c\\xe9I\\xc06:\\x16@%\\x18\\x14\\x93\\xd1y\\x90\\xf4\\xce\\x84\\xe4rN\\x89\\xf33K\\xa4:\\xf3\\x96\\xde\\xf5\\x01JIF\\'\\x00\\xe5\\'c:;\\xc0\\xd0Q\\x1f\\xc0$xe\\x18\\x98\\x86\\x14{\\x0f\\xa08U\\xf7\\xbd\\xb0`\\xde8&\\xc5\\xea\\'T\\x91\\x82\\x99\\xd3S\\x1f\\xa0=@\\xe0\\x11\\xfa\\xc2\\x032\\x8e\\x97`GjJ$Q\\x0b\\xc5\\xd3O+\\xc1\\x08\\x8fgh\\x16\\x00K\\x85\\xeb\\x04\\xa1\\x0c\\x94-s\\xd2\\xcb\\x97er\\x0e\\x91\\x80E\\x92\\xe6u\\x82\\x00\\xe6\\xce\\xe0\\xeb\\x03\\x90\\xc9\\x82H&\\xcd\\xf6Z\\xdc\\xdaj\\xa98)^\\x8f\\xa2\\xeaM\\x0b\\xe1\\t\\x983=\\tX{\\x85/g&\\r\\x03\\x8b?\\x98\\xfd\\xd6\\xc4\\xd1\\xcc\\xd4\\x0e\\x1f9\\xf0\\\\\\xc7Vii\\xa94\\xdc\\xb3w\\xc7\\xcd[62\\x93\\xd2\\xdc\\x9e\\xc7\\xa7T\\xf2\\x12l\\x89\\x97f\\xaf\\x06\\xa5I$\\x89\\x1aU\\xe5\\xa67j\\x17PJ\\xaf\\xff\\x00\\xd5Q`\\xb9\\xe7FR\\xc8\\xb5*`\\xd7\\xee\\xed\\x1d;\\xb5a\\x8f!**\\x82\\x92\\xee\\xc5\\x8b\\xe7\\x98T\\x8d\\x1c\\xdd\\x7f\\xd5\\'KXe\\xd0\\x93\\x80\\xb5\\xc7\\x01\\n%.\\x8e\\xad\\xa0\\x01\\xfd\\x875m\\xd2\\x82Y\\x10\\xd5\\xfd\\x02\\xd2\\xecW\\x18I\\x14\\xaa\\x8a\\xba\\x8e\\xc2\\xb0\\xa3\\xe0\\xc7=\\xdf\\x7f\\xb8t.\\x93\\xaa\\xde}:\\xdd\\x8d\\xbf#\\x0c\\x9bi\\xae\\xd5\\xb0A\\xe3aC\\xc7\\x08\\xc3\\x15\\xdb\\xdb\\x1e\\x1e\\x9e\\xc3\\x87\\x8d\\xa9Q\\xc3\\x97Y\\x03\\xdd\\xcf\\x0b\\xc0\\xf5\\x01\\x95l\\xf0\\xa0W\\x99eQJ\\xf2\\x86\\x01^\\x890\\x00\\xaa\\x0e\\xcf\\x1b\\xdc\\x7f\\xc0\\xf5\\xebW\\x98T%$\\xc4k\\xd6\\xdf\\x98i\\xae\\xd5\\xa0Ac\\xfa\\x13\\x86+\\xb6\\xb7\\xbd\\xbc\\xbcG\\xbe\\xfa\\x06\\xb3\\x12\\x94\\x84u\\xe4\\xe4\\x95\\x16\\x07\\xc4\\xc6\\xc6|\\xfd\\xcd\\xfa\\xf3\\x17\\xce\\xd0\\xf1\\xd2\\xa8Q\\xd3\\x81\\xfd\\x877i\\xd2\\x9c\\xc6\\x17\\x15\\x15}\\xf9\\xd5\\xda\\x93\\xa7\\x8e\\xdf\\xbb\\x97\\xd0\\xb8q\\xf3\\xde=\\xfb\\xb7m\\xfb\\x8c\\xb0Htt\\xe4\\xbe\\x9fv\\x9e=\\xf7_B\\xc2\\xdd\\xa0\\xda\\xc1\\xdd\\xba\\xf5\\xea\\xd9\\xa3/S\\xd7\\xd5\\x8c~m\\xe0\\x87\\x8bW-_\\xb9\\x88\\xe2\\xb5\\x8d\\x1b\\xbe\\xa3\\x91\\xff\\xfcs\\xec\\x93\\xd5K\\xef\\xdf\\xbf\\x17\\x1aR\\xafW\\xaf\\xfe/v\\xed!\\xac\\xc4\\xd6\\xc6\\xf6\\xfc\\xf93\\x8b?\\x9cM\\xc9\\x9a&\\xbd\\xf5\\xd6\\xf4\\x86\\x0fR\\x86.\\xbd^y\\xe1\\xd5\\x11\\xaf\\xc7\\xc5\\xc5\\xee\\xda\\xfd\\x1d\\xad\\xff\\xa9\\xb6\\xcf\\xbe9a\\xda\\x07K\\xe6\\x9c8q4 \\xa0\\xf6\\xd0\\xc1\\xa3:w~I\\x98\\xf3\\xb7\\xdf\\x7f\\xda\\xf7\\xd3\\xae\\xe8\\xe8\\x88:uB\\x9f\\x7f\\xaes\\x9fW\\x06\\x89-\\x97\\xeb?\\xff\\xe4\\x8f\\x03\\xfb\\x9d\\x1c\\x9d:v\\xec\\xea\\xef_[\\\\9\\xd5\\xb0\\xd1l\\x14c\\xd2\\xf0\\xee\\x1fw\\x9c<y\\xec\\xea\\xd5\\xcbv\\xf6\\xf6\\xcd\\x9a\\xb6\\x1c=z\\x82_-\\x7f\\xfd\\xdbFQ\\xed\\x96\\xad\\x1bW\\xad\\xdc0w\\xfe\\xf4\\x98\\x98\\xa8\\xe0\\xe0\\xd0~}\\x87t\\xed\\xd2]\\x98J[\\xb8i\\xf3\\x86[\\xb1\\xd1\\xee\\xee\\x1e\\xa1\\xa1\\xf5\\'\\xbe\\xf5\\xae\\x8f\\x8f\\xaf\\xfe\\xed\\xd1\\xb3\\xff\\xad\\x8d\\x19%\\xd1\\x97{t\\x18<h$em\\x7f\\x1d;\\xe4\\xec\\xec\\xdc\\xa4I\\x8b\\xf7f.tuq\\xa5I))\\xc9k\\xd7\\xad\\xbc\\x1c~!//\\xafu\\xeb\\xa7\\x86\\x0f\\x1dC\\x89\\x96\\xc6\\xdf\\xb8y\\xed\\xf57\\x86\\xce\\x9f\\xf7\\x11\\xa5\\x10\\xda<o\\xefj\\xcf\\xfd\\xaf\\xf3\\x84\\xf1S\\xf4\\x7f\\x90\\xfe\\xf4F{\\x8c\\xea$o\\xdc\\xbc*\\x97\\xdb\\x04\\x05\\x05\\xd3Q\\xd3\\xa2y+a\\x92\\xae\\xf4\\xc6\\xf4\\x1e5\\xd6c\\xde\\xfcw\\x8f\\xfeu\\x90\\x06\\xfe\\xf8c\\xff\\xe7\\xeb\\xb7^\\xbat~\\xdbw_O\\x9e4s\\xee\\xbc\\xe9\\x946\\xde\\x9a0MW\\xd2\\xa2\\xf1\\xa3\\xc6\\x0cX\\xbbf\\xd3\\xb6m_\\x1f?q\\xa4z\\xf5\\x1a\\xf4;\\x8e}\\xed-\\xb9\\\\NSO\\x9e:\\xb1c\\xc7\\xe6k\\xd7\\xc3\\xbd\\xbc\\xaa5n\\xdcl\\xec\\x98\\xb7\\xe8\\x87f\\xea\\xb4w\\xe8\\xf0\\xef\\x17/\\x9d\\xcb\\xc8Ho\\x10\\xd6x\\xd8\\xb01\\xe2/E?\\xe2\\x8a\\x8f\\x17S\\xd5w\\xad\\x9a~\\xcf>\\xfb\\xfc\\xa8\\x91\\xe3\\xc2\\xaf\\\\\\x9c2UU\\xf8\\r\\x19\\xda\\xf3\\xe9\\xa7;,Z\\xb0B3\\xd7\\xd2\\xf5\\xa3\\xebO*\\xba\\xcc_0\\x83~}\\xcac\\x97\\xadXH_!\\xac~\\xa3ys\\x97\\xee\\xd9\\xfb\\x03\\xa5R77\\xf7.\\x9d_~\\xe3\\xf5\\x89B\\xf2\\xa8\\xc0\\xe7R\\xbb\\x00\\x1d\\x0b\\x07\\x0f\\xfc;i\\xca\\xd8\\x0b\\x17\\xce\\x8a{\\xbb^\\xdd0]k\\xa3\\xfdO\\x9b\\xe1\\xe3Ss\\xfb\\x8e\\xcdt\\xb0\\xf8\\xfb\\x05\\xd2\\x81\\xfc\\xc9\\xc7_4m\\xdaB\\xd8\\xd4\\x17:\\xbe\\xb8\\xe4\\xa3y\\xb9\\xb99\\r\\x1b6yc\\xecD!\\xceHMM\\xf9p\\xc9\\xfb\\xb4\\xdf\\x02\\x03\\x82z\\xf6\\xecGe\\xc7\\xb1\\xe3\\x877}\\xbdS\\xffw\\xa7\\x82\\x86\\x82\\x8c\\xf4\\xf44\\xfa\\xb2\\x8e\\x8e\\x8e\\xad[=E\\x05\\x8d\\xf0{\\xe5\\xe4\\xe4\\xac\\\\\\xf5\\xc1\\xf9\\xf3\\xa7333\\xe8\\xd7\\x7f\\xf1\\xc5\\x9e\\xbdz\\xf6\\x13\\x96\\xa2\\xef\\xb8d\\xe9\\\\\\xca\\xe4\\x9b7o5\\xfcAm\\x87 <\\xfc\"\\xad\\xea\\xda\\xb5pwu\\xb15b\\xf8X\\xca\\x1cX\\xb9\\xa9w\\xb3\\xf6XV{\\xbb\\x80\\xba\\xeb\\x18V~\\x05\\x05\\x05\\xf4K\\xd0\\xfe]\\xbad\\xf5\\x8ae\\xebl\\xe46\\xb3fO\\xa6|\\x8a&}\\xba\\xfa\\xa3\\x9d\\xbb\\xb6\\xf5\\xee5`\\xdb\\xb7?uh\\xdf\\x91~K\\xe1\\xf0 k\\xd6\\xae\\xf8\\xef\\xbf\\x7f&\\xbe\\xfd\\xee\\x92\\x0f?\\xa5\\xc3\\xe0\\x93O\\x97R*\\xa7\\xf1\\xb6\\xb6\\xb6\\xf4\\xbay\\xebF\\xaa\\xad\\x9a:e6S\\xa7\\xf29s\\xa7\\x8d\\x1e5\\x81\\xe6|\\xe6\\x99\\xe7>Z\\xb6\\xe0\\xcf\\x83\\xbf\\t+I\\xbc\\x97@\\x87\\x13\\xe5\\x924\\xa9\\xa0\\xb0`\\xd9\\xf2\\x05e^\\xdb@\\xeb\\xdf\\xbecS``\\xd0\\xef\\xbf\\xfe=f\\xf4\\x84_\\x7f\\xdb7y\\xca\\xd8\\x8e\\xcfw=\\xf0\\xfb\\xc9\\xe7\\xfe\\xd7\\x89\\xd2kfV&\\xcdF\\x1f\\xb1\\xf4\\xa3\\xf9\\x94\\xa4\\xb6m\\xddG\\xb3\\xd1\\xb7\\xf8l\\xed\\na\\r{\\xf7\\xed\\xdc\\xbb\\xef\\x07\\xda\\xf2\\xb5k7\\xd7\\xac\\xe9\\xb7y\\xcb\\x17\\xa5?\\x85\\x8e\\xfc\\xd5\\x9f-k\\xd4\\xa8\\xd9\\x82\\x05\\xcbg\\xbc;\\x9fR\\x125\\x15\\xb3\\xb2\\xd0\\xb6eee\\xd2N{g\\xea\\x9cC\\x7f\\xfe\\xd7\\xa1\\xfd\\x0b\\xf4e\\x13\\x13\\x13h\\xd2\\xe93\\xa7\\xde\\x9f\\xf7\\x0e\\xc5(\\xdfo\\xffe\\xee\\x9c%\\x89\\x89\\xf1\\xab>]R\\xe6\\xf6\\xe8\\xd9\\xff\\xe5$\\x93\\xa9\\x1a\\xe3\\xa5\\xc6\\xb2\\x93(e^?\\xec\\xfc\\xf6\\xe5\\x97_\\xa14\\xf0\\xd1\\x92\\xcf(S\\xa3\\xb4D\\xe3\\x15\\n\\xc5\\xe4\\xa9\\xafS(3y\\xd2{_m\\xdc\\xe1\\xe9\\xe15~\\xc2\\x88;w\\xe3h\\x12}#z\\xdd\\xba\\xf5\\xcbE\\x0bWR\\xc2\\x9e0~*%\\x89\\xfd\\xbf\\xec\\xd1\\xffAz\\xd2\\x1b\\xa5\\xd87\\xdf\\x1aIU\\xa6\\x1b>\\xdf\\xb6f\\xf5\\xd7\\xf4Y\\x0b\\x17\\xbdG\\xf9\\x17\\xd3\\x9b\\xde\\xf4\\x1c5\\xe5$\\xcd\\xe7[Rb3h\\xa3\\xa8\\xb4\\xa3\"\\x84\\x8e\\xd6\\xc3\\x07O\\xd3\\xde\\xb0\\xb3\\xb3\\xcb\\xc9\\xc9\\xde\\xb7o\\xe7\\xcc\\x19\\x0b(\\xd0de%\\xad\\x15+\\x17Q\\x80\\xf5\\xc7o\\xff\\xcc\\x9a\\xb9\\xe8\\xfb\\x1f\\xb6\\x1e>r\\x80\\xa9C\\xbd\\x99\\xefMl\\xd1\\xa2\\xf57_\\xed|\\xfb\\xad\\xe9\\x91\\x917\\x96~4\\x8f\\xc6S2\\xa6(3??\\x9f\\xf2\\x99\\x0f\\x16\\xaf\\xa2\\x9c\\x8d\\xd26\\xc5\\x8bL}\\xdeO?b\\x93\\xc6\\xcdW,_7`\\xc0\\xf0\\x83\\x87~\\xa3\\xdf\\x9aJD\\nai\\xea\\xb7[\\xf7R\\x10\\xa0\\xb9\\xd9z~t=IE\\x0f\\x1b\\x1b\\x1b\\x8aY\\xe9\\xef\\x87\\x1d\\xbf\\xae_\\xbb\\x85\\x06&N~M\\xa9T\\xfc\\xbc\\xef\\xe8\\xdc\\xf7\\x97\\xd0W;\\xa5\\xfe\\xd6\\x8f\\xf9\\xb9\\x14%h\\xeem\\xfdk\\x8b\\x8a\\x8e\\xa0\\xbf\\xc5\\x0bW\\x96h\\n\\xa1M\\xa5\\x92\\xfe\\xc0\\x9f\\xbf\\xac_\\xb7\\xe5\\xd7\\xfd\\xc7\\xed\\xed\\xec\\xc5\\x86\\x86\\x8f\\x96/\\x88\\xbd\\x1d\\xb3\\xec\\xa3\\xb5tp\\xd1\\x06\\xd3\\x9f\\xac\\x1c\\xf7R\\xd3gQ\\xd0Fs\\xee\\xf9\\xf1\\xe0\\xa6\\xafw]\\xba|\\xfe\\x9bM\\x9f\\x0b\\x93f\\xbc\\xf7\\xf6\\xdd\\xbbq\\x0b\\x17\\xac\\xa0\\xcc\\xbc}\\xfb\\x8e\\xf4\\xeb_\\xbd\\x16N\\xe3\\x0b\\x0b\\x0b\\xdf\\x9d\\xf9V\\xf5\\xea>\\xf4\\x13\\xbf\\xfe\\xda\\xdb\\x14\\xac$\\'\\'\\t\\x8b\\xc4\\xdd\\xb9=m\\xfa\\xf8\\xbc\\xfc\\xbc\\xcfV\\x7f\\xbdp\\xfe\\xf2\\xa8\\xa8\\x9bTl\\xd19\\x0c+7^w\\'\\x18:\\xbe\\x8c\\x81\\x97\\xec\\xde\\xbe}\\x8bv=E\\x94\\xf4\\x1b\\x84\\x84\\xd4\\xa5\\x1fx\\xfe\\xfce\\xb4\\x89\\x944\\x7f\\xff\\xe3g\\xaat\\xea\\xd1\\xbd\\x8f\\xbb\\x9b{\\xb7\\x17{Rq+\\xe6\\x1as\\xe6|\\xb8l\\xd9\\xda\\x96-ZS\\xba\\xa4X\\xb8~\\xbd\\x06\\xff\\xfe\\xf7\\xb7\\xf0\\xe1\\xf4\\xda\\xbaU[\\x8a\\xfb\\x1a\\x845\\xa2a:\\x8dk\\xff\\xec\\xf3\\x9d^x\\x91F\\x0e\\x1b:\\x9a2_:\\xa8\\x84\\x95\\xdc\\xbf\\x9f8y\\xf2{\\xb4\\x86\\'Z\\xb6y\\xa5\\xf7@\\n\\xa6(\".s\\x83\\xeb\\x86\\x86\\xd1&\\xd1\\xc1\\xf9\\xbf\\x0e\\x9d\\xe8-\\x9d\\x1dR\\x04@\\xe9\\x80Bo\\xda\\xec\\xd8[\\xd14\\xf2\\x97_\\xf6P\\x908i\\xe2\\x0cOO/\\xda\\xc8\\x91#\\xde\\xd8\\xb3\\xe7{\\xfa\\x9aLu\\xa2\\xbf\\x9d\\x92#\\x95\\x19n\\xaen\\x14\\x99\\xd2\\xd4\\xd2\\x1fA\\xe1\\xe4\\xd7_~?d\\xf0H\\xda6\\xda\\xec\\xfe\\xfd\\x86R\\xc5@z9\\xb6\\x8d\\x92\\x02\\x05z\\xb48\\xed\\x07\\x8a\\x97\\xa9\\xcc\\x88\\x88\\xb8N\\xe3\\xbf\\xfaz\\x1d\\xed\\x84\\xbe}\\x06Se\\x00m\\xf0\\xf8qSN\\x9e<~M]\\x1b\\xa6k{\\xf4\\xef\\xffrR*\\x99\\x04\\x9f\\xe8\\xc3\\x1bx?\\xb7\\xd9%Q\\xaa9\\xa0U\\xd1\\x07QJ\\xa0\\x8f>r\\xe4\\x00%\\x0c\\n.)&\\xa0\\x90\\xe2\\xc96\\xed\\xa8Js\\xdc\\x1b\\x93\\xdc\\xdc=v\\xed\\xda&.E\\'|5}kQ\\xc2\\xa6\\xf4L\\xb5\\x05\\x07\\x1f\\xc4\"z\\xe8Jo\\x14\\x88P=\\xd6\\xb4\\xa9\\xb3\\xe9<\\xd2\\xdf?\\xf0\\x9di\\xef\\xd3I\\x12\\x15\\xffLo\\xfa\\xd7s\\xd4\\x94\\x13\\xcf+%x\\x9d \\xa5\\xb7\\xc7\\xd9(\\xda\\xb7TZ\\x0f\\x1c8\\xe2\\x05U\\xf5I \\xd3\\x9d\\xb4\\x04\\xb4{\\xff\\xd7\\xe1\\x05*H\\x9a5kI\\xfb\\xff\\xc6\\x8d\\xab4\\xf2\\xf2\\xa5\\xf3\\x0e\\x0e\\x0eC\\x87\\x8c\\xa2Z@J\\x00\\x14\\xce\\x0eR\\xd7\\xe7\\xd3\\xc8\\x8d\\x1b\\xb6O\\x9d2\\x8bVE\\x7fo\\xbc>)77\\x97J\\x1d\\x9aDq\\x98\\xbd\\x83\\x03\\x9d\\x95\\xd2\\x07Q\\n\\x1f=j\\xbc\\x10g\\xe8\\xa2\\xe7Gg\\xba\\x93\\x8a~\\x14\\x82\\xd3y0\\xe5Z\\xb5k\\xd7\\t\\xae\\x13J\\xb18m\\x8f\\x93\\x93\\x13m*\\xd5\\xa5EF\\xdd\\xac\\xf4\\xcf\\xd5\\xb36Z\\x03U\\xc0\\xcc\\x9f\\xfbQ\\xbbv\\xed\\xe9\\xd3K,\\x98\\x9b\\x93C3\\xd3RT\\x16P>@\\x99\\x06E\\x0ftBO9m\\xff~\\xc3\\xa8\\x1a\\x8f\\xce\\xe6)\\xee\\xa75\\xb0\\xf2\\xf1\\xf3\\x0b\\xa0\\xdf\\x8bj\\xf2hA\\xaa\\x0f\\x10~G\\n\\xf8\\xe8@\\xa6\\xb0\\x86\\xb2\\x0e\\xda-TFP\\xc5$\\x9d\\xe8\\xd3$\\xaa\\xff\\xbbw/\\x91\\x82x\\xfa\\x89\\xa9\\x1a\\x83\\xa2\\xbd,\\xf5I)\\xf9\\xf3\\xcf_\\xa9f\\x91\"\\x00\\x8a\\xf3h\\xd2\\xb4\\xa9snF\\\\\\xa7\\x1a#V~\\xbc\\x81\\xf7\\r*\\x15J^i@\\x1c@\\xfb\\x9a\\xf6)U\\xa7tz\\xa1[\\xf3fOP\\x85\\x95P\\tC\\xdf\\x96\\x12\\x01}\\x7fqN\\x9aJ\\xe7\\xdfT\\x1cR\\x9eK\\x9b\\xb5{\\xf7\\xf6S\\xff\\x9e\\xa0\\xdd-L\\xa5s\\x0bq\\xcezu\\x1b\\x14o\\x8cRIi\\xe5\\x85\\x17^\\x14\\'QU\\x928\\x1c\\x12RO\\xa8/%\\xeen\\x1eL\\x1d\\x1d\\xbb\\xbb3\\xfdhW\\n\\x03B\\xbdJPP\\x88\\xf0\\xd6\\xd1\\xd1\\x89^\\xa9\\xae\\x86>\\x94B\\xd7\\xe1\\xc3^\\x13\\x17\\xa10\\x9cFR\\xcd\\x1be\\xf7w\\xee\\xdc\\x16k}U\\x9bZ\\xafA\\xe9\\x8f\\xa0\\xe4N\\x11\\x1fE\\xfdW\\xaf]\\xce\\xce..\\x12\\xd2RST_\\xbc,a\\xea\\xa2\\x85\\xb8\\xba\\xba\\xd1\\xab\\x90\\x14(\\x00\\xa4\\x9cW\\x9c\\xa7~\\xbd\\x86\\xf4JuD\\x94\\x83\\xe8\\xda\\x1eJv\\xfa\\xf6\\x7f\\xf9\\xc8m8\\xb94\\xaf\\x134\\xa4\\xd3K\\xb3K\\xa2\\xd4\\xee#\\x0e\\xfb\\xd5\\n\\xa0\\xac\\x90\\x92\\x13e\\xee\\x94\\x8f\\x8b\\xe5.ej\\xb4\\xb5\\x17.\\x9e\\x15\\xe7\\xac\\xfb\\xe8R\\x7f\\x1e\\xfc\\x95\\x95\\x83\\xf6\\xf4\\x16\\x1dQ\\xb7n\\x18e\\x88\\xc2$:R\\x02\\xfckS\\x8a\\xa2\\\\XWz\\xd3s\\xd4h&]\\xfd\\xa4y;\\xa8\\xea(\\xb0y\\xdc\\r\\xa3Z\\xf1\\x87o\\xf4\\'-\\x8d,\\xc5\\xc5\\xc5U\\xf8E\\x1a7iN)g\\xe6\\xacI\\xad\\x9ex\\xf2\\xa9\\xa7\\xda\\xfb\\xfb\\x05\\x88\\x95\\xff\\x14tn\\xfc\\xf23\\xaa(\\x12O\\x1f\\x85\\xe6\\x7f\\xca4\\xe8G\\x14\\xda\\x14\\x08\\x05m\\xfak\\xf2u\\xfd\\xe8\\x0f\\xbf\\x82\\xb6\\xa4\\xa2\\x1f\\x95\\x85b\\xf0\\xe1\\xe8\\xe4\\xe4\\xedUM\\x9c\\xe4\\xec\\xe4\\xac?\\xb1U\\xecs\\xf5\\xaf\\xadv`\\x1d\\x8a\\x9c\\xb4.\\x18\\x10\\x18D\\x01\\x8a0\\xec\\xa2>f\\xa9,\\xb8s\\xf76\\rP\\x8e\\xf1`\\xbcK\\xcb\\x96m\\xa8z\\x80\\x95\\x83\\xe6\\xefH[\\x9e\\x9d\\x9d\\xc5TM?\\x11\\xb4\\x01u\\xea\\x84<\\x9c\\xadn\\x03\\xaa\\xaa\\xa1\\x01:\\xb2h\\x92\\xafoMa<E\\x0f5j\\xf8\\x08\\xc3\\xe1\\xe1\\x17\\xc2\\xd4q\\x83\\xf0\\x96\\xe6\\xa9U\\xcb\\x9f\\x8e,\\x8a\\x17Y9\\xc9\\x0c\\xecW\\xd8P\\xf6\\xf6\\xf6\\xd4\\xc4B\\x95\\x90\\x14~RS+m\\xdf\\xab\\xc3\\xc7v\\xea\\xd4M\\xf8\\xb5J\\xdf7\\x95\\x9a\\x92L9\\xe3\\x8c\\xf7&\\x16\\x16\\x16\\xbc6\\xe6Mj\\x08\\xa1\\xb7%f\\xa3\\x80N\\x18\\xa0\\xa4OY\\x89\\xbd\\xbd\\xf6_N\\xfc\\xb1\\xd9\\x83\\xb3\\xb4\\xf2(1g\\xe9J\\x1e*\\x1b(\\xe7\\xa5\\xefB\\x7f\\x9a\\xe3\\xe9\\xcc\\x86\\nu\\xaa\\x9e\\x15\"\\x06\\x81\\x83\\x83c\\xe9\\x8f\\xa0\\xb6\\xfc\\xd9\\xefO\\xa5X\\xef\\xf5\\xb1\\x13\\xe9\\x04\\x94j\\xf5\\xa7\\xbf\\xfb&\\xab\\xd0\\xe61U\\xba\\xcf\\xa23W\\xcd\\x9d \\xa4W:\\xfe\\xf5l\\x8f\\x9e\\xfd_\\xfe8@Q\\xc4K\\xb0GU\\xf5\\x1e2\\xa0\\xb9\\xc2\\xec\\x92\\xa8\\xe6\\xda\\x1c\\x1cU?(e\"\\xb4\\xb5\\x94,\\xc0J\\xa0e\\x00\\x00\\x10\\x00IDAT\\x9f\\xeb\\xd8JsN\\xcd\\xd3\\x1a\\xcd\\xa4H\\x19\\x8a\\x90\\xef\\x94I\\xebV\\xa5$\\'Q\\x0e\\xae9\\x866#\\'7GOz\\xd3s\\xd403GG\\x81\\xea@x<TO#\\x0cPj\\xd1\\x9f\\xb4\\xb4V;SU\\x165\"\\xfc\\xf5\\xd7\\xc1\\r_\\xac^\\xbb\\xeec\\xaa^\\xa2fo*\\x9f\\xa8\\x92|\\xe2\\xe41-[\\xb4\\x993\\xeb\\x03\\xe1\\xa4\\xb9S\\x97\\xb6\\xc2\"\\x94\\x00J\\x9f\\xf5\\xea\\xa1\\xebG\\x17\\xdfV\\xe0R\\x8f\\x12\\xdfE\\xebW\\xab\\xdc\\xcf\\xd5\\xbf6\\xf1\\xb0-sS\\x05\\x14\\n0U0\\xe1\"\\x8eq+w\\xe6\\xa9u\\xb3)V+QdPf\\x9e\\xab\\xde<\\xaa)\\xd4<\\xb2\\x98F>@\\xc7>\\xd5\\xfe\\x968\\xf6S\\xd5\\xad?\\xe5\\xa5\\xd4Y\\xaf[i\\xd7\\t\\xd2\\x196\\xd5RR\\x85\\xcf\\xd9\\xb3\\xff\\xd2\\xe9\\xd4\\x07K\\xde\\xaf\\x1d\\x14\\xec]\\xad:M\\xa2\\n\\xab\\x12\\xbf\\n\\xb5\\xdcP[\\x17\\x9d\\xcb._\\xb6\\x96R\\xb30\\x92\\xbeg\\xf5j5J\\xaf\\x99rp\\xfay\\xca\\x99\\xa3U\\x16\\xcaC\\xe9\\xb7\\xe9\\xdc\\xe9\\xa5\\xf6\\x8f\\x9e\\xc7\\xd4\\xaa\\xe9O\\xd1%\\xc5\\xd7\\xf9\\xf9y\\xe2\\xc8\\\\\\x8d\\xf4*\\xfa\\xf9\\x97\\x1f\\xa9\\xb6\\x87\\x9aH\\x85\\xb7\\xe5\\t\\x9c\\xf5o\\x0fS\\x957\\xb9\\xe2\\x98lu\\xb53\\x05\\xd7z\\xb6G\\xcf\\xfegf\\x8e\\xaa\\x8e\\r\\xbd\\xb5\\xd5\\xbc\\x92\\xa8\\xe6\\xda\\xf2rU\\xbf;\\xe5\\x1dt~\\xe0\\xe8\\xe8\\xb8x\\xd1\\xc7\\x9as\\xcaerqX3\\x99Qt\\xa25B-\\'\\'g\\xe7<\\x8dD\\xc5\\xd4\\xb5\\xa6\\xfe~\\x81z\\xd2\\x9b\\x9e\\xa3\\x86\\x95\\x9b5\\xf4\\'X\\xfe\\xa4U\\x025\\x07\\xd0\\x1f\\xa5\\xe13gN\\xed\\xda\\xfd\\xdd{\\xb3&\\xed\\xdeu\\xe0\\xc8\\xd1\\x03\\x14\\x81\\xcdxw\\xbe\\xa3:^\\xd4\\xbc\\x11\\x80J\\xaf\\xec\\x07\\xedS\\xe5\\xa1\\xebGgFV\\xb9\\x9f[\\xb9k\\x13J\\xe2\\xc2\\x82\\x02qLj\\xdac\\xc5\\xb5t\\x04i\\xe6\\xe4L\\x9d\\x99W\\xf3VeD\\x14a\\x94(M\\xc4\\xe6E/\\xefjT\\xa0\\x94\\xb8\\xbbA\\xa8_||:\\xfa\\x112\\xf0\",j\\xb3\\xa4\\x8c\\x95\\xa93\\x02jw\\x997w)\\x9d\\x03Q=\\x0c\\xedz{u\\xf0%4\\\\\\xd1_P\\xed`\\xaa\\x96\\xa1\\xcc\\x82\\x1a]h\\xbc\\x98\\xf4\\xa9\\xd1\\x94\\xfe\\xb4\\xae\\x9c2\\x9d\\xfa\\xf5\\x1b\\n\\xcd]\\x82/6~\\xb6f\\xedJfdT\\x9d\\x9b\\x99\\x95)ny\\xe3F\\xcd\\xa8\\xd0\\xa5Z\\x1a\\xda5>>5\\xc3\\xc3/\\x8as\\x9e<u\\xbc\\xf4\\xe2\\x14\\xd9i\\x1e\\xd8\\xc7\\x8e\\x1db\\x8f\\x81\\xf6\\'\\xd5\\xffk~\\xa80\\x1c\\x1cRW\\xcf\\xf6\\xe8\\xd9\\xff\\xac\\xdcdr\\x8e\\xfe\\x98\\xd4\\x18\\xb8Ef\\x97D/\\\\8#\\x0eSC m-E*\\x94&\\xa9\\xe9\\x97b\\x14qk\\xe9\\xa7\\xd7lA8\\xaf\\xb1\\x14\\xb5\\xa1Rs,\\xab(jx\\xbaz\\xf52\\x9d\\xdf\\x0bo323n\\xc5FSe\\xa6\\xfe\\xf4\\xaf\\xeb\\xa8a\\xe5\\'\\xc9\\'\\xfaP\\xacU\\x89W/\\x96?ii:\\x7f\\xfe\\xcc\\xa9\\x7fU\\xd7\\x10T\\xabV\\xbdK\\x97\\x97\\xa9\\x15\\x99vuBb<e5T\\xe7,\\x04\\x01D\\xf3B`J\\x96T\\x9f,^Mv\\xf0\\xd0\\xef\\xd3\\xde\\x19O\\xd59\\xba>B\\xd7\\x8f\\xce\\x8c\\xacr?\\xb7r\\xd7&\\xdc\\x8f\\x13\\x1d\\x13)\\xbc\\xa5J9:\\x91`\\x8f\\x816\\x8fb\\xf4\\x9b\\x1a\\x978\\xd0\\xd6\\x06\\xa97\\xcf\\xd7\\xa7&M\\x8a\\x8a\\x8a\\x10\\xc6GD\\xdcHJ\\xba/\\x0c\\x87\\x04\\xd7\\xbdw/\\xa1Y\\xd3\\x96\\xe2\\xc1\\xe5\\xe9\\xe1%6p\\x97\\x87\\xc1\\xfd\\t\\xcaTM\\xaf\\x06$zJ\\x88\\x1f-[\\xb0n\\xfd\\xaa\\xb8;\\xb7\\xa9\\xb9\\xeb\\xdbm_S\\xca\\xa3,\\x802S\\xaa\\xb9\\xda\\xbc\\xe5\\x0b\\xa1\\x15\\x96\\x12\\xe8\\xb4\\xe9\\xe3\\x85\\xde\\x91(\\xb7\\xa5\\xacm\\xc7\\xf7[\\xe8G\\x12.\\x87n\\xdd\\xaa-\\xa5i\\xad\\xeb\\xef\\xd9\\xbd\\xef\\x7f\\xff\\xfdC3\\x9f;\\x7fz\\xef\\xbe\\x9d\\xdfm\\xdfT\\x05I\\xf3\\xb5\\xd1o\\x9e8q\\xe4\\x97_\\xf7R%\\x1em\\xff\\x82\\x853\\xa7L{\\xa3@\\x1d\\x15>\\xf7\\xbfN\\x7f\\x1d;$\\\\\\xc4K\\x1bs\\xe5\\xca\\xa5\\xd2\\x8b\\x87\\x86\\xd4\\xfb\\xef\\xf4I\\xda`\\xda\\x15?\\xec\\xfcV\\x18\\xa9\\xeb\\x0b\\x96G\\xef^\\x03\\x8e\\x9f8\\xb2k\\xd7w\\xb4\\xc7h\\xb5k\\xd7\\xad\\xa4vb\\xa1=X\\xd7\\xf6\\xe8\\xd9\\xff\\xe5\\xa7TH\\xb2?A\\x03;\\x9f5\\xbb$z?\\xe9\\x1e%\\x1b\\xca\\xb2\\xe9\\xa3\\x7f\\xde\\xbf\\xfb\\xb9\\xe7:S\\xbcB\\xa7\\x8fm\\xda\\xb4[\\xbe|!U\\x05SY\\xb2g\\xef\\x0fo\\x8c\\x1b\\xf6\\x9b:\\xbe\\x11\\xfcw\\xfa\\x1f\\xa1\\xa8\\xa0\\xa4B[\\xa2y\\xc9\\x82\\xa1\\xbaw\\xefCu\\x12+V.\\xa6\\xcf\\xa2R\\xea\\xc3%\\xef;\\xd8;t{\\xb1\\x17\\xd3\\x9b\\xfe\\xf5\\x1c5\\xe5\\xc4K\\xf2\\xbaT\\xa5\\x82\\x19z\\xf5\"\\xc5m\\x94\\xbf\\x9f=\\xf7_\\xe9f\\x11\\x83\\x92\\x96\\xe8r\\xf8\\x85y\\xf3\\xa7\\xff\\xf4\\xf3n:\\xe3\\xbfr\\xf5\\xf2\\xee\\x1f\\xb7S@@%Gpp]\\xaaj\\xde\\xf7\\xd3.J\\xd2\\xf4\\xebS)E\\xad\\xc8Tf\\xd0\"/u\\xebE;\\x7f\\xe5\\xc7\\x1fP\\xbb\\xe4\\xb1\\xe3\\x87\\xbf\\xd8\\xb8\\x9a*\\xc0(l\\rP\\x97\\x1fG\\x8e\\x1c\\xa0\\xf5h~\\x84\\x9e\\x1f\\xdd\\xa8\\x1e\\xffs5\\xf7v\\xe5~\\x0b\\xbfZ\\xfe\\xb5k\\xd7\\xd9\\xb4y\\xc3\\x9d\\xbbq\\x14\\x04\\xac\\xfa\\xe4C\\xcd+9*\\x80\\x0eaj\\x97\\\\\\xb9r1\\xd5\\xf3\\xa7\\xa4$S#\\x1am\\xf9\\x80~\\xc3hR\\xbbv\\x1d\\xa8\\xf1h\\xf9\\xcaE\\x14\\rP\\x04\\xb0`\\xd1L\\xb1\\r\\xa2o\\xdf!tL}\\xb6v\\x05M\\xa2\\x1c\\xec\\xf3\\r\\x9f\\x8e\\x1a3 *:\\xa2\\xfc\\x9f\\xab4\\xf4:A\\x85\\xea\\x1aq\\x03rYj\\xa3\\x9a2\\xf9\\xbdo6}\\xfe\\xfd\\x0f[\\xe9m\\xab\\'\\x9e\\\\\\xb9b}PP0\\r\\x0f\\x1c0\\x9cN\\x11\\xb6m\\xff\\x86R\\'UR5j\\xd8t\\xeaT\\xd5}V>>\\xbe\\xb3\\xde[D;\\xb7g\\xaf\\xe7\\xe9\\'\\x9c5sarJ\\xd2\\x9c\\xf7\\xa7\\x8d\\x18\\xd9w\\xf1\\xc2\\x92\\'R\\x14\\xfcfd\\xa6\\xd3\\xcc\\xd46IU\\xa3c_{\\xab\\xdb\\x8b=\\x99\\x91Q%\\xcc\\x86\\xf5\\xdfR\\x81A{\\x9c\\xaaqh\\xcb\\x17-\\\\)\\x9c;\\x0e\\x1d2\\x9a\\x0eE:z)\\x9b\\xa3\\xd9\\xc6\\x8f\\x9b\\xb2\\xf8\\x83\\xd9%\\xea\\xa9G\\x8d\\x1aOU:\\xb3\\xe7L\\xa1\\x13\\xb8Wz\\x0f\\xa4Z\\xbb\\xf8\\xf8;3f\\xbeM\\xdf\\xfa\\x85\\x8e]\\x99\\xe1:w~\\x89\\xca\\x86\\x1d?l\\xa1\\xa4@{\\xaf\\xd5\\x13m\\xa9qQ\\x98\\xa4g{t\\xed\\x7fs\\xa7\\xea\\xe5\\xd5\\xa2\\x93\\xe8\\xcb/\\xf5\\xa6snj\\x06\\xa6a\\n\\xf8\\xdez\\xf3\\x1da\\xfc\\x87\\x8bWQ\\x8eO\\x19\\x04\\x95\\xbet\\xa6B%\\xfd+\\xaf\\x0c\\x14\\x97\\x1a<\\xf0\\xd5/\\xbf\\\\C\\xc9\\x8c\\xda)h<\\x15\\x03\\xac\\xa2\\xfc\\xfd\\x02\\xe6\\xbe\\xbfd\\xcb\\x96\\x8d\\x03\\x07\\xbfL\\xe5J\\x83\\x06\\x8d?Y\\xb5Q\\xb8\\xaeVOz\\xd3s\\xd4\\x985Nfp}@\\xf7\\x97^\\xa1\\n\\xa7w\\xa6OX\\xbadu\\x89I\\x06%-Q\\xff~Ci\\xb7\\x7f\\xb6f9\\x95\\xebTZ<\\xff\\\\\\x97\\x8fWnP_\\xd9\\xde\\xe5\\xd6\\xad(\\x8ae?^\\xf5!\\xc5\\x13\\xefN\\x9f\\xb7}\\xc7\\xe6m\\xdf}C\\r\\xdb\\x94\\xe6\\x97|\\xf8)\\x05\\x8eT\\x19F\\xbfB\\x97\\xce/\\x8fQg\\x1aT\\xb6u\\xed\\xd2\\xfd\\xebo\\xd6S(\\xfc\\xf1\\xca\\xcf\\xc5\\x8f\\xd0\\xf3\\xa3\\x1b\\xd5\\xe3\\x7f\\xae\\xe6\\xde\\xa6\\xa3\\xbbr\\xbf\\xc5\\xf4i\\xefS\\xd9<lxo:)\\xef\\xd4\\xa9\\x1b\\xe5\\x12W\\x1f\\x8d\\x9f\\x0cB?\\xd9\\xa2\\x05+\\xd6\\x7f\\xbej\\xfc\\x84\\x11\\xf4;R\\x18\\xb7p\\xc1r\\xa1/\\x13\\x17\\x17\\x97\\x0f\\x16\\xaf\\xda\\xb0\\xe1\\xd3\\x97{t\\xa0\\x9a\\xcb\\xb1\\xaf\\xbd-^\\xea\\xeb\\xe6\\xea\\xf6\\xe5\\xc6\\x1d\\xdb\\xb7oz}\\xdcP\\x8a\\x1d\\xc3\\xc2\\x1a\\xbd3mN\\xbd\\xbaa\\xac2h\\x7f\\x92\\xc0\\xa6\\x851\\xbc\\x92\\xeb3\\xa96\\x03\\xab\\xb7\\xeb\\x93[\\x94\\x01\\x0e\\x9f#\\xad\\xc4\\xb0yq\\x0c\\xaf\\xe0^\\x99h\\x99IT\\xb3_\\x97r\\x12\\xba6\\x12zDa\\xe6\\xec\\x97\\x8dq\\xe9\\xf7\\x0b\\xc6.\\tfR\\xb2\\xf3\\x93\\xb8\\xe4\\xf8\\x82\\xc13\\xa5\\xb5UP5\\xa8\\xee\\x8d\\xce\\xc2\\xc5N\\xdbf\\xce\\x9ad#\\xb7\\xa1\\xc2\\x9b\\x99\\x95\\xbcl\\xc5\\x8e\\x8f\\xa2\\xdf\\\\\\xa5\\xa5\\xadPz\\x1d\\xc4\\x80\\xc4\\x18\\xde\\xa1jU\\xe0\\xf1\\x08\\x0c\\xa8B\\xaa\\xfa\\x00<n\\xd0Z\\xcd_0c\\xf2\\x94\\xb1\\xd4\\xb0B\\x01\\xc1\\x96\\xad_\\x9e9s\\xaa\\x87\\xba\\xf3G\\xf3\\xa2\\'#\\xb7\\xc0\\xe7\\x0bP\\xab\\xe4{\\xb3&\\xe9\\x9a\\xbau\\xcb\\x1e\\xf1\\x16L\\x93\\xa0X\\xf2\\xf2\\xa5\\xf3Z\\'u\\xeb\\xd6k\\xdc\\x1b\\x93\\x98\\xc4\\x18z\\xd1h\\xd5\\xa0JZ\\xf3}\\xeep\\x99I\\x94U\\x1e\\xb3Kor9\\'\\xb7\\x91\\xde\\xf9\\t\\xe2N\\x1d\\xcc.\\x81U\\xc0\\xdc\\xb9K\\x97-_\\xf0\\xc5\\xc6\\xcf\\xee\\xdfO\\xac\\x1dXg\\xee\\x9c%\\xd4\\xfe\"\\xf1\\x82\\xa64=\\x0f\\xca\\xd2\\x1e\\x07P\\xce\\xaf\\xf3\\x8aR\\xc9S\\xb5Pn\\xd8\\xa6k\\xaa\\xc9\\x7f\\x9biSf\\x17\\x14j\\xbfl\\xca\\xc9\\xd1\\x80\\xcb\\xf8\\xab\\x8cD\\x0b[\\xd5\\xa3\\xb3\\xcc5c.3\\x89\\xee\\xfd\\xd1\\xb0\\xbe\\x9fIpp\\xe8\\xe1\\x83\\xa7K\\x8f7\\xbb\\xf4\\xa6Pw(\\xc8$\\x86\\x93\\xe4]\\x0cR`v\\t\\xac\\x02\\xdc\\xdd\\xdcKt\\xc0\\xcc$_\\xd0\\xe8\\xa0=\\xcf\\xd4\\xd1\\x9f\\xa0\\x81\\x9d\\xb6JMM\\xdfZL\\xaa\\x84\\xe7L\\x98\\x17^z\\xa7B\\xaa[Z\\xcc\\xb9Q\\xab\\xca\\x92\\xa8\\xf9\\xa57i\\xf6c\\xadzA \\xa0\\x859fh\\x95E\\xca\\x05\\x8d\\x0e\\x06=_\\x80I\\xb1\\x0b90\\t\\xd5\\xedR\\xd2\\xab\\x81/R(%x7#X,\\x8eqx\\xd25\\x983=\\x15\\xa8\\x16x}\\x00T.\\xd5\\xf3\\x06%\\xd8\\x8d\\x90\\x8c\\x93`t\\x02\\x96\\x8a\\x13_\\x00\\xcc\\x93\\xfa\\xfa\\x00C\\xda\\x05T\\x10\\xfb\\x82@\\x8a\\xd5\\x01B\\xff\\x01\\x0c,\\x8f4\\xfb\\x15V]\\x94\\xca!\\xc1\\x81\\x19S\\xd7\\x07\\x18\\xd2.`\\r]|C9\\xa9.\\x16\\x91^{\\xad\\xbe\\x8b_\\xc1\\x9cI\\xb3\\xb0\\xe5UW/2\\x00\\xf3\\xa5\\'\\xcb\\xd4q}\\x00\\x87\\\\\\x16$M\\x86\\xeb\\xb7-\\x15/\\xc5;\\xf4d2}\\xdd\\xb3\\x03H\\x9f\\xe1\\xd7\\x07\\xf0\\xfa\\xfa\"\\x06\\xab\"\\x93q2\\t\\xde\\xce\\x8d\\xfb\\xb9\\xa1J!\\x08\\x00\\xf3fp\\xff\\x01\\xea\\xae\\xdb\\x91\\xeeA\\x85\\x97\\xe8\\xf9\\x19\\x878\\xc0\"\\xa9\\xea\"\\xa5\\x17w\\xaa\\xafGA\\x82\\x033\\xa6\\xa7>\\x00\\xfd\\nC\\x19T\\xf9\\x9f\\x04\\x9f\\xff\\xa6\\xe4\\x95\\xc8\\x96-\\x91*\\xeeDK<@\\x15\\xc2}\\x83\\x00\\x00e0\\xf3\\x9e\\xd5\\x00\\xf4\\xd1\\x1e\\x07\\xd8\\xd9rEJ\\xb4\\x0b\\x80\\x8a\\xdc\\x86\\x97\\xc9$\\x97\\x07\"\\x89Z*\\x1b[^n\\'\\xc1\\xf4\\xc6\\xdb\\xda#\\xbd\\x81\\x19\\x93\\xcbu\\xde\\x06\\xa8\\xbd]\\xc0\\xde\\x85S\\x16\\x99\\xef\\x13\\x06\\xa02)\\n\\x99\\x93\\x9b-\\x93\\x18$QK\\x95\\x97\\xc7;8I\\xae\\x9e\\xd2\\xde\\xcd\\x06\\xfdW\\x82Y\\xbb\\x1b\\x93%\\xd7q`i\\x8f\\x03\\x9a\\xb5w\\xcd\\xc9D&\\x0b*\\xb9Y\\x8a\\x16\\xcf\\xb92\\x89A\\x12\\xb5T\\x99\\xc9\\x05\\xa1M%\\xf7|\\x9a\\xe7\\xfa{\\xe7\\xe7\\xe2\\xb2\\x050cW\\xfeIsr7\\xa4\\x1f\\xa1\\x90\\xa6\\x9e.\\x9e6\\xbb>\\x89b`\\xddv~\\x1c\\xe1\\xe6-\\xab\\xd3\\xd0\\x9dI\\x0c\\x92\\xa8E\\xda\\xb7>\\xca\\xd6\\x9e=\\xd9\\xad:\\x93\\x18;;\\xbb\\xea\\x01\\xb6;\\x96E2\\x00\\xf3t?\\xaep\\xd0\\xf4\\x00\\xad\\x938=7\\xc3\\xfc\\xb8&.\\xf9n^\\xb3\\xffy\\x87\\xb5\\xf1d`e\\xae\\x9cL\\xbdt,\\xb5\\x9a\\xbfm\\xaf7\\x02\\x98T\\xfd\\xb86.\\xf9\\x0e\\x92\\xa8%\\x88\\xba\\x94~\\xf6`\\x92\\x9d\\xbd|\\xc8\\x8c &U\\x87v&\\xde8\\x9d\\xd9\\xb8\\x9d{\\xb3\\x0e\\x92\\x8bT\\x00\\xb4\\xcaJ\\xcf=\\xf5s\\xd2\\xdd\\xa8\\xfc1\\x0b\\xeb\\xd89\\xca\\xb5\\xce\\xc3\\xe9\\xbf)\\xf6\\xc7\\xb5\\xb7\\x13o\\x15(\\x8a\\x0c\\xebS\\xb3\\xf8i\\x06\\xba:3\\xe6\\r\\xe9\\x93C\\xdb\\xcc\\x9c\\xb6\\x1e\\xef\\xe9{\\x94\\xb8\\x08B\\xfbC\\x15J\\xaf\\xf0\\xd11\\\\Y\\x17\\x06\\x97\\x9e\\xa1\\xc4G?\\xb2y\\xe5^\\xb9\\xce\\xa5\\x1eYC\\xf1\\x1b]\\xeb\\xe1x\\xd5\\xbf\\x92c\\xb5\\xedCa\\x9b\\xe9O\\x9d\\x00JN\\x96\\xc9U\\x7f\\xb5\\x82\\x1dz\\xbe\\xee\\xcf\\xa4MO\\x12\\xd5\\x96$x\\xadO\\xd2\\xe4t>C\\xc1\\xa0\\xc4Z\\x06\\xf5\\x87h_\\x9b\\xbe\\x84\\xc1\\xe9\\xbd\\xf3\\x97\\x95\\xbd\\x8d\\xaa\\x83\\\\w_xe&\\xf8\\xca\\xd8\\x07e\\xacB&S]\\xc4\\xe4Y\\xcbf\\xc0\\xa4 &m\\xbf|\\x13\\x17{-OQ\\xa8\\xba\\xb9\\xd1l\\xae\\x17(}$H\\x15\\'\\xc9\\xa7\\x99\\x98/\\xca\\xc6iw:\\xb8p\\x83\\xa6\\xd5rtq\\xd45\\x1bW\\x9e\\xce1rSs\\xb3r\\xb5\\xc7\\x11L\\xdb\\xe378&\\xe3\\x99RgY\\xa51^\\x1c\\xd6_\\xb0q\\\\qJ\\x166Vki\\xa7\\x1a\\xa1n\\xe5\\x10\\xbf\\x90\\xd6\\xd9d\\xea\\x94\\xa6\\xe7;s\\xdc\\xc3}\\xb2w\\xcf\\x8f2\\x99\\xacG\\xf7\\x9eb\\xd2,~d\\x13\\xf7\\xc8*\\x1en\\x98z\\xe52\\x8e)\\xb5m\\x03W\\xbc\\x99|\\x89\\xa5\\x98\\x96\\xbc\\xbex\\x7f\\xa8\\xc7k,\\xf2`m\\x94o>\\xec\\xdeG\\xe3\\'Pm<\\x13\\x1e\\x8a\\xc2\\x1e\\xdd@\\xf5\\xd1\\xa5d\\x1as\\xaa\\x16\\x97\\xd1/\\xc5+\\x8b\\xbf\\x9d\\xc6z\\\\\\x1c\\x15\\x8e\\x9e:\\x13\\x8d\\x04iM\\xa2\\xa5\\xf3\\x94\\xe2}\\xfe`\\xd7\\x97\\x91\\xa2t\\x14\\xc0\\x9czO>L\\x12\\\\\\x89\\xf4T2-k$\\x0f\\x9dG\\x04\\xd3]\\x18\\xab\\x1e\\xac\\xa8\\xe4\\xde\\x18\\xf7\\xfa\\'\\x9f~bgg\\xcf\\xca\\x89{\\x10\\xe3\\x95\\xfav%6\\xb8\\xf4w\\x7f$e\\xaa\\xd3:_F\\x84]\\x9c\\xbeX\\xc9]Q\\xbc\\xaaG\\x0eyN\\xcb\\xe1g\\xe7\\xa0p\\xf72\\xa7\\xf4VPP\\x90~_\\xc18\\xb9\\x9ey\\xca>\\xa3\\xd0\\xb6+\\xb8\\x07Y\\x84\\xd6\\xa9\\xe5T\\xe2\\xa3K\\xe6<z\\x82N}\\xdb\\xacm\\xa2\\x10^\\x18\\xb6\\xa1\\xda?\\x84\\xbe\\xf8\\xb2e\\xcb\\xba\\xbd\\xd8\\xb5Q\\xe3\\xc6\\x1a\\x05\\x04\\xa7\\xf5\\x10,\\xbd\\x862v\\xa6\\xee\\x82\\x86\\xd3\\x91h\\xf5\\x8f\\xa2\\xa2F\\xa91\\xb2\\xec\\x95<\\xfa^\\xebfh\\xe66z~\\xfdR?\\xee#\\xbb\\xa8\\xe4\\x9a\\x15\\x8a\\xea\\x01e\\x1fY\\xe5\\xba.\\x97\\x8a\\x04G\\xab\\xacv\\xcdS\\xdewqr\\xa9\\xe6g\\xc7@\\xda,>\\x89\\xdeN\\x0c\\xf7\\xf1w\\xb4\\xb1A\\x87\\x1f\\x92\\xa0\\xba\\\\\\xc0\\x8fA\\xe5J\\xcb\\xb9\\xe5\\xec\\xa5\\xacV\\x0b\\xf9mUC\\xb6\\xa2Oaa!r^\\x90\\x02\\x85B\\x81\\xa4\\x08\\x96\\xad\\xa8\\xa8\\x08\\x89\\xdc$\\xb0\\xd3\\xf5\\xa18\\xc0\\xd6Vr\\xb7\\xce\\x83\\xb5A\\xfe\\x08\\xd6\\x00\\xe9\\xdcT\\xb0\\xd3\\xf5A\\xba\\x04)@:\\x04k\\x80tn*\\xd8\\xe9\\xfa\\xa0>\\x00\\xa4\\x00\\xf9#X\\x03\\xa4sS\\xc1N\\xd7\\x07q\\x00H\\x01\\xaeS\\x01k\\x80\\xfc\\xd6T\\x90\\xb9\\xe8\\x83\\xf8\\x14\\xa4\\x00\\xe9\\x10\\xac\\x01\\xd2\\xb9\\xa9`\\xa7\\xeb\\x83t\\tR\\x80t\\x08\\xd6\\x00\\xe9\\xdcT\\xb0\\xd3\\xf5A\\xba\\x04)@:\\x04k\\x80tn*\\xd8\\xe9\\xfa ]\\x82\\x14\\xa0\\xdd\\x14\\xac\\x01\\xd2\\xb9\\xa9\\xa0\\x90\\xd3\\x07q\\x00H\\x01\\xd2!X\\x03\\xa4sS\\xc1N\\xd7\\x07\\xe9\\x12\\xa4\\x00\\xe9\\x10\\xac\\x01\\xd2\\xb9\\xa9`\\xa7\\xebC\\xe9\\x12\\xf5T`r\\xc8\\x1f\\xc1\\x1a \\x9d\\x9b\\nv\\xba>H\\x97 \\x05h7\\x05\\x8b\\xa7P(8\\x8e\\x93\\xc9d\\x0c\\xaa\\x1c\\n9}\\x10\\x07\\x80\\x14 \\x1d\\x82\\xc5C\"7!\\xecw}\\x904A\\n\\x90\\x0e\\xc1\\xe2!\\x91\\x9b\\x10\\xf6\\xbb>H\\x9a \\x05H\\x87`\\xf1\\x90\\xc8M\\x08\\xfb]\\x1f$M\\x90\\x02\\\\\\x1f\\x00\\x16\\x0f\\x89\\xdc\\x84P\\xc8\\xe9\\x838\\x00\\xa4\\x00\\xe9\\x10,\\x1e\\x12\\xb9\\ta\\xbf\\xeb\\x83\\xa4\\tR\\x80t\\x08\\x16\\x0f\\x89\\xdc\\x84\\xb0\\xdf\\xf5A\\xd2\\x04)@:\\x04\\x8b\\x87DnB\\xd8\\xef\\xfa i\\x82\\x14\\xa0?+\\xb0xH\\xe4&\\x84BN\\x1f\\xc4\\x01 \\x05H\\x87`\\xf1\\x90\\xc8M\\x08\\xfb]\\x9fF\\x8d\\x1aM\\x9d:\\xb5y\\xf3\\xe6\\xcd\\x9a5\\xa3W\\xf4u\\x05&agg\\xe7\\xed\\xed\\xcd\\x00,NTT\\xd4\\x95+W\\xae^\\xbdz\\xfe\\xfcy\\xcao\\x19\\x98\\x02\\xe2\\x00}\\xd6\\xae]\\xfb\\xdf\\x7f\\xffQ\\x02]\\xb7n\\x9d\\x90L) h\\xd1\\xa2\\x05\\xbdzzz2\\x80*\\x91\\x9f\\x9f\\x9f\\x9c\\x9c\\xcc\\x00\\xcc_ll\\xacP\\xf0_Q\\xabU\\xabV\\xc3\\x86\\r\\x1b4h\\xd0\\xb5k\\xd7\\xc6\\x8d\\x1b30\\x05\\x8e\\xe7y\\x06\\xe5s\\xe9\\xd2\\xa5\\x0b\\x17.\\x9c;w\\x8e^]]]\\x9b\\xabQL\\x10\\x14\\x14\\xc4\\x00\\x8c\\xe6\\x87\\x1f~\\x88\\x8c\\x8c\\x9c1c\\x06\\x0307w\\xef\\xde\\xd5,\\xf8\\xbd\\xbc\\xbc\\x84\\x82\\xbf\\xa1\\x9a\\x83\\x83\\x03\\x03SC\\x1cPA\\x14\\xd5\\x9eW\\xa3\\x98 --\\xad\\x99\\x9a\\x10\\x160\\x80J\\xf5\\xe3\\x8f?\\x86\\x87\\x87\\xcf\\x9e=\\x9b\\x01H\\xde\\xbd{\\xf7\\xc4\\x82\\x9f^\\x1d\\x1d\\x1d5\\x0b~\\x17\\x17\\x17\\x06\\x12\\x83v\\x81\\n\\nT\\xeb\\xd1\\xa3\\x07\\rS\\x1cpA\\xed\\x93O>\\xb9x\\xf1\\xa2fL\\xe0\\xee\\xee\\xce\\x00\\x1e~\\x17\\xd4|\\x00\\x00\\x10\\x00IDAT\\x8f\\x8d\\x8dMQQ\\x11\\x03\\x90\\xa4\\xd4\\xd4T\\x8aS\\xc5\\x82\\x9f\\xe38\\xa1\\xe0\\x1f4h\\x10\\rxxx0\\x906\\xd4\\x07T>\\xa1\\x92@x\\xa5J0!& \\x01\\x01\\x01\\x0c\\xc0p\\xbf\\xfe\\xfa\\xeb\\x89\\x13\\'\\x16-Z\\xc4\\x00$ 33S\\xb3\\xe0\\xcf\\xcb\\xcbk\\xd4\\xa8\\x91x\\xc6_\\xadZ5\\x06f\\x05q\\x80qEGG\\x0b1\\x01\\xc9\\xce\\xce\\x16/3\\xc4\\x151P~\\x07\\x0e\\x1c8x\\xf0\\xe0\\x92%K\\x18\\x80)\\xe4\\xe6\\xe6j\\x16\\xfcT\\x03\\xaaY\\xf0\\xfb\\xfa\\xfa20g\\x88\\x03\\xaaNJJ\\x8ax\\x99!\\x1dK\\xe2\\xed\\x88\\xf4\\x8a63\\xd0\\xe3\\xf0\\xe1\\xc3\\xfb\\xf7\\xef_\\xbe|9\\x03\\xa8\\x12\\x85\\x85\\x85W\\x1e\\xa0\\xcc*!!A\\xb3\\xe0\\xf7\\xf7\\xf7g`A\\x10\\x07\\x98\\x86B\\xa1\\xd0l>\\xa0\\x80Z\\xbc\\xaa\\xc0\\xcf\\xcf\\x8f\\x01h8v\\xec\\xd8\\xae]\\xbbV\\xadZ\\xc5\\x00\\x8c\\x83\\n\\x02\\xcd\\x82?&&\\xa6\\xa1\\x06\\xdc\\x12e\\xd9p\\x9d\\xa0i\\xc8\\xe5\\xf2\\'\\xd4\\x84\\xb7\\x11\\x11\\x11\\x14\\r\\x9c:u\\xea\\xf3\\xcf?\\xcf\\xcf\\xcf\\x17\\x9b\\x0f\\xe8\\x08d`\\xf5p\\x9d \\x18\\xc3\\xf5\\xeb\\xd7\\xa9\\xc8\\x17*\\xfc\\xaf]\\xbb&\\x14\\xf9\\x94\\xf3\\x0c\\x192$44\\x94\\x81\\xd5@\\x1c \\t\\xa1j}\\xfa\\xf4\\xa1\\xe1\\xa4\\xa4$\\xa1\\xf9\\xe0\\x97_~\\xb9y\\xf3\\xa6\\xd8|@\\x1c\\x1d\\x1d\\x19X\\x1f\\xc4\\x01P)\"##\\xc5\\x82\\x9f\\xce\\xfb)\\xcf\\x11\\xca~\\xcay\\xc2\\xc2\\xc2\\x18X+\\xb4\\x0bH\\x1a\\xb5\\xd2\\x89\\xcd\\x07$  @\\xac*\\xc0\\xb59\\xd6\\x83\\x82\\xc25k\\xd6l\\xdc\\xb8\\x91\\x01\\x18\\xe2\\xd6\\xad[b\\x07>\\x84\\xda\\xf5\\xc5\\xaa~j\\xec\\xa7ZI\\x06\\x80\\xfa\\x00\\x89\\xb3\\xb5\\xb5m\\xad&\\xbc\\xbdq\\xe3\\x06\\xc5\\x04G\\x8f\\x1e\\xfd\\xf4\\xd3O)\\x80\\x13\\xaa\\n\\x08by\\xcb\\x86\\xfa\\x00(\\'\\xb1\\xf3>\\xe1\\xa4\\xdf\\xdb\\xdb[(\\xf2\\x9f\\x7f\\xfeyz\\xb5\\xb7\\xb7g\\x00\\xa5 \\x0e0\\'\\xf5\\xd4\\xfa\\xf5\\xebG\\xc3\\x89\\x89\\x89BU\\xc1\\xbe}\\xfbbbb\\xc4\\xb6\\x03\\x1a\\xc0\\xd1na\\x10\\x07\\x80.b\\xe7}B\\xc1\\xef\\xe4\\xe4$\\x14\\xfc\\xa3G\\x8f\\xa6W\\xdc\\x88\\x04\\xe5\\x81v\\x01K\\x90\\x97\\x97\\'\\xb6\\x1d\\xd0@\\x9d:u\\xc4\\x98\\xa0F\\x8d\\x1a\\x0c\\xcc\\xdc\\xcd\\x9b7\\xe7\\xcc\\x99\\xb3}\\xfbv\\x06V/%%E\\xb3\\xbb~\\x99L&\\x14\\xfc\\xc2}}\\xe8\\xbc\\x0f*\\x00q\\x80\\x05\\xbav\\xed\\x9a\\x18\\x13\\xd0\\xa9\\xa4XU\\x80k\\x80\\xcdTtt\\xf4;\\xef\\xbc\\xb3s\\xe7N\\x06\\xd6\\'##C\\xb3\\xbb\\xfe\\xfc\\xfc|\\xcd\\xee\\xfa\\xd1y\\x1f<>\\xc4\\x01\\x16\\x8e\\xda\\x0b\\xc5\\xaa\\x82\\xf8\\xf8x\\xcd\\xe6\\x03\\n\\x11\\x18\\x98\\x83\\xb8\\xb8\\xb8\\t\\x13&\\xec\\xdd\\xbb\\x97\\x81\\x15(\\xd1y_zz\\xbaf\\xc1\\x8f\\x0b\\x84\\xa1\\xd2!\\x0e\\xb0\"\\xd9\\xd9\\xd9b\\xcfE\\xf4Z\\xbf~}\\xf1JC\\x9cUHYBB\\x025\\xf7\\xee\\xdf\\xbf\\x9f\\x81%*,,\\xd4,\\xf8\\xd1y\\x1fT1\\xc4\\x01\\xd6\\x8b\\xb2\\x1e!& \\x0e\\x0e\\x0ebUApp0\\x03\\t\\x18>|\\xf8\\xbd{\\xf7h\\x80\\xaa\\x82\\xe9\\xa4\\xd0\\xd1\\xd1\\x91\\n\\x0c\\x85Bq\\xe6\\xcc\\x19\\x06\\xe6\\xact\\xe7}\\x9a\\x05?:\\xef\\x83*\\x868\\x00T\\xa8\\xe6Yl>\\xb8\\x7f\\xff\\xbe\\xd8K\\x01\\x91\\xc9d\\x0cL\\xe1\\xcf?\\xff\\x9c7o^^^\\x9e\\xe6\\xc8Z\\xb5j\\xed\\xdb\\xb7\\x8f\\x81\\xb9\\xd1\\xday\\x9f\\x00\\x17\\xee\\x80i!\\x0e\\x80\\x92233\\xc5\\xe7!\\x91\\xc6\\x8d\\x1b\\x8bU\\x05\\xb8\\x1a\\xb9\\x8a\\x8d\\x1d;\\x96\\xce\\xfe9\\x8e\\x13\\xdeRe@\\xdf\\xbe}g\\xcd\\x9a\\xc5@\\xf2tu\\xdeG\\xd0\\xe1\\x07H\\n\\xe2\\x00(\\xc3\\xc5\\x8b\\x17\\xc5\\xaa\\x02www\\xf1\\x19\\x89\\xa8\\xbd\\xac\\x02\\'O\\x9e\\x9c1cFVV\\x96\\xf0\\x96*\\x03>\\xfe\\xf8\\xe3\\x90\\x90\\x10\\x06\\xd2\\x83\\xce\\xfb\\xc0L!\\x0e\\x00\\x03PN\\'^i\\x98\\x96\\x96&\\xc6\\x04\\x84\\x81q\\xbc\\xf5\\xd6[\\x7f\\xff\\xfd7U\\t\\xd0\\xa1\\xfa\\xe2\\x8b/.Z\\xb4\\x88\\x814\\xdc\\xb9sG\\xb3\\xe0\\xafV\\xad\\x9a\\xe6\\xad\\xfc\\xe8\\xce\\x0b\\xcc\\x05\\xe2\\x00\\xa8 \\x8a\\x03\\xc4\\x98\\x80\\xea\\x0c\\x84h@\\xb8\\xaa\\xc0\\xcd\\xcd\\x8dA%\\xa1};u\\xea\\xd4\\xd4\\xd4\\xd4\\x1a5j,[\\xb6\\x8c\\xca\\x18\\x06&\\x92\\x98\\x98\\xa8Y\\xf0\\xbb\\xb8\\xb8h\\x16\\xfc\\xce\\xce\\xce\\x0c\\xc0\\x0c!\\x0e\\x80J@\\xa9H\\xb8\\x98@\\xb8\\xaa\\xc0\\xdb\\xdb[\\xec\\xa5   \\x80\\xc1\\xe3\\xa1\\xa6\\x81?\\xfe\\xf8\\xa3S\\xa7NK\\x97.eP\\x85\\x92\\x93\\x93\\xc5\\x82\\x9f\\x06\\xa8n_\\xf3V~j&c\\x00\\xe6\\x0fq\\x00T\\xbe\\xe8\\xe8h\\xb1C\\xc3\\x9c\\x9c\\x1c\\xb1\\xf9\\xa0q\\xe3\\xc6\\xcchN\\xfez/\\xfcxFA\\x01S\\x141\\x9di\\x9a&p\\xbaW\\xa1\\x7f\\xaa~z\\x96}\\x9c\\xd5V\\xe0\\xe38\\xa6\\xf3\\xfb\\xeb^J\\xcfB\\xda\\xe7\\xe7\\x19\\xcf\\x95w=\\x94\\xc7p\\xdaf\\xa6\\x16s[{Yhs\\xa7\\xe7\\xfaI\\xa5o\\x1c\\xa1\\xf3>\\xb1\\xe0/,,\\x14\\x0b~zE7\\x1b`\\x91\\x10\\x07\\x80q\\xd1\\x19\\x95\\xd8|p\\xed\\xda5\\xa1\\xf9@\\x08\\x0b*\\xf1!(\\x17\\x8e\\xa5\\xfc\\xb3?\\xc5\\xbf\\x9eS\\xbd\\x96nv\\x0er&S]\\x93\\xc5=(\\xf8\\x84$\\xce\\xa9\\xffG\\xa5\\x97X\\x86\\x15\\x0f\\xa8K)\\xf5D\\xd5\\x1b\\x8d\\x12\\xaex\\xd1R\\xb3\\xb1\\x87+RM\\xe5\\xd4\\xcb\\xa8f\\xd7,\\x1d\\x1f~\\xca\\x83Of\\xa5\\x8aIq\\x93\\x1e\\xae\\xa7x<W|hrL\\xebR<\\xf7p\\\\\\xa9\\xa92\\x9eS\\xb2R\\xdbY\\xbc\\t\\\\\\xe9%\\x98L\\xbd\\xa9\\xa5>Bs\\x91G6\\x8f\\tE;\\xd3\\x12U\\xc8\\x94\\xaa\\x7f%F\\x96XV\\xa4\\xc8/\\xbcy>3&<\\xabAk\\xb7\\x0e}L\\xf3 \\x0c\\x8aS5\\x0b~\\x8a\\x03\\xc4[\\xf9\\xe9\\x15\\x9d\\xf7\\x815@\\x1c\\x00U\\xa7\\xa8\\xa8Hh>\\x10\\xc2\\x02\\xcad\\xc5\\x98\\xc0\\xcf\\xcf\\x8fU\\xd4\\xbe/\\xe2\\xe2\\xa3\\xf2\\x06\\xcf\\xc0M\\xd8\\xe6j\\xfb\\xd2\\x08\\xb7\\xea\\xb6\\x03&\\xd7f\\xc6WPP\\xa0Y\\xf0\\xdf\\xbbwO\\xb3\\xe0G\\xe7}`\\x85\\x10\\x07\\x80\\xc9DDD\\x881\\x01\\xe5\\xceb/\\x05\\x94\\x1d\\xebZ\\xa4O\\x9f>t\\x027r\\xe4\\xc8\\xfe\\xfd\\xfb\\x8b#\\xd7L\\x8b\\xe839\\xd0\\xd9\\xc5\\x8e\\x81\\xd9\\xda\\xbc \\xa2\\xef\\x14_\\x1f\\xbf\\xca\\x7fN\\xaeR\\xa9\\xd4,\\xf8ccc5o\\xe7\\xc3\\xed\\xaf\\x00\\x88\\x03@\\x12\\xee\\xdf\\xbf/\\xf6R\\x10\\x19\\x19\\xa9\\xf9<$GGGq\\xb6n\\xdd\\xba\\xd1\\t\\x9c\\x9b\\x9b[\\xe7\\xce\\x9dg\\xcc\\x98Ac\\xfe\\xdc\\x1e\\x1f})w\\xe0t\\xf4\\x85l\\xde~\\xf88\\xda\\xdb\\xd7\\xb6\\xe7\\x1b\\x95s:N-Pb\\x1f>7n\\xdc\\xd0,\\xf8\\xd1y\\x1f@\\t\\x88\\x03@r\\xa8n@\\x8c\\th 00Pl>\\xe8\\xd1\\xa3\\x07\\x9d\\xde1\\xd5%f\\xf26m\\xda\\xac^\\xbdz\\xef\\xba\\xb8\\xe4\\x84\\xc2~S\\xea00g\\xfb\\xd6\\xdc\\xe2\\xe4l\\xf0\\xbb\\x0f\\x9b\\x06\\xe8\\x87\\x9e<yrTT\\xd4O?\\xfdT\\xe6\\xe2T\\xb7\\xa4yG_\\xbdz\\xf5\\xc4\\xdb\\xf9\\xd0y\\x1f\\x80~\\x88\\x03@\\xea\\xae_\\xbf.6\\x1f\\xc4\\xc7\\xc7\\x8b\\xcf;\\xa0r\"$$\\xa4W\\xeb%Y)\\xdc\\xe0\\x99\\xa8\\x0f0o;W\\xc5\\xc89n\\xf8\\xfb\\xc5q\\x00\\x9d\\xd0\\xcf\\x9e=\\x9bj\\x86<==\\x0f\\x1d:Tz\\xfe\\x98\\x98\\x18\\xcd\\x82\\x9f\\x82E\\xf1v>\\x82\\x87b\\x00\\x94\\x1f\\x9e@\\x0fRW_M\\xb8 \\xa0e\\xcb\\x96\\xe2x\\xca\\xeb\\xa9\\x9c\\x88\\xf2\\x8e\\xaa\\xe1\\x8e~v\\xcd\\x9e\\xea\\x19\\n\\x0f\\xee>\\xd8\\xbbw\\xef\\xc6\\x8d\\x1b)\\xe6\\xa3Z\\x9f\\xf4\\xf4tad\\\\\\\\\\x9c\\xf8d^\\xaa\\xf0\\xafQ\\xa3\\x86P\\xf0w\\xec\\xd8\\x91^\\xed\\xecpu\\x08@\\x05!\\x0e\\x00\\xb3\\xd1\\xbd{w\\xe1<Oh\\x1a\\xb0\\xb5\\xb5\\xa5\\xc2@}\\xbb\\x1b\\xea\\xb4,@q\\xcd\\xe4\\xb2e\\xcb\\xfe\\xf8\\xe3\\x8f\\xd4\\xd4\\xd4\\x07c\\xf97\\xdf|\\x93\\n~777\\xa1\\xe0\\x1f3f\\x0c\\xbd:991\\x00\\xa8\\x0c\\x88\\x03\\xc0l$\\'\\'S\\xee\\xef\\xed\\xedmcc\\x13\\x1a\\x1a\\xda\\xaaU+j\\x06\\xbe\\xfe\\xa7Grb!\\x033\\xa7\\x8a\\x02x~\\xdc\\xb8q\\xc2\\xcd#\\x9a\\x93\\x86\\x0e\\x1dJ\\x05?:\\xab\\x060\\x12\\xc4\\x01`6\\xfe\\xfe\\xfb\\xef\\x9f~\\xfa\\x89\\xca~j&\\x10G^?\\x14\\xc7\\xc0\\xfcQ\\xbb\\x80\\x9c\\xe3n\\xdc\\xb8\\x91\\x97\\x97\\'\\x8c\\x11\\xea~\\xe8u\\xe1\\xc2\\x85\\xfb\\xf7\\xefg\\x00`\\x1c\\x88\\x03\\xc0\\x9cP\\xd3@\\x891\\x9c\\x8c\\xa3?\\x06\\xe6\\x8eS\\xf5\\xd7\\xf8\\xe5\\x97_\\x9e={\\xf6\\x9f\\x7f\\xfe\\xb9y\\xf3fFFFZZ\\x1aS\\xf7\\xf5\\xcb\\x00\\xc0h\\x10\\x07\\x80\\x99\\xa3\\ne\\xdc\\xf3b\\x01\\x94\\x9cR\\xc6\\x07\\xa9\\xbd\\xf2\\xca+4\\xe2\\xd2\\xa5Kg\\xce\\x9c9}\\xfa4\\xc5\\x04\\x0c\\x00\\x8c\\x06q\\x00\\x987\\x84\\x01\\x96A\\xc9x\\xb9\\xf2\\x91z\\x9d&j\\xaf\\xbe\\xfa*\\x03\\x00cB\\x1c\\x00\\xe6\\x8dC\\xb3\\x80E\\xe0\\x98\\xf6g\\x12\\x02\\x80\\xb1!\\x0e\\x00\\xf3\\xc6\\xf3\\xbc\\x12\\xf5\\x01\\xe6\\x8f\\x931\\xc6\\xe1\\x87\\x040\\x01\\xc4\\x01\\x00 \\t\\x1cC\\x85\\x00\\x80\\t \\x0e\\x00\\x00\\tPrJ\\x84\\x01\\x00\\xa6\\x80^\\xb8\\xc1\\xbcq\\x0cg\\x91\\x96\\x80g<~G\\x00\\x93@\\x1c\\x00\\xe6\\x8dG\\xaf\\xc2&r\\xf8\\xc8\\x81\\xe7:\\xb6JKKe\\x00`\\xce\\x10\\x07\\x00\\x18]\\xef>\\x9d\\xee\\xc6\\xdfa\\xa0\\x97\\x12\\x11\\x1d\\x80)\\xe0\\xfa\\x00\\x00\\xe3JH\\x88\\xc7Isy\\xc8\\xd0\\xc2\\x03`\\n\\x88\\x03\\xc0\\xbcU\\xe0\\x14\\xb2g\\xef\\x8e\\xc3\\x87\\x8e\\xf9\\xeb\\xf8\\xa1\\x8b\\x17\\xcf\\xed\\xdds\\xc8\\xcd\\xd5-<\\xfc\\xe2\\xa6\\xcd\\x1b\\xae]\\x0bw\\xf7\\xf0|\\xaa\\xed\\xb3#\\x86\\x8fuvv\\xa69g\\xcd\\x99bkc[\\xbbv\\x9d\\xed;6+\\x95\\xca\\xe0:\\xa1\\xefL{?4\\xb4\\x9e\\xb0\\x9e\\x13\\'\\x8e\\xd2R\\xb7b\\xa3\\xdd\\xdd=BC\\xebO|\\xeb]\\x1f\\x1f_\\x1a?w\\xdet\\xb9\\\\\\xee\\xe3S\\x93\\x96zu\\xc4\\xeb\\xdfl\\xfa\\x9cF\\x0e\\x19\\xda\\xf3\\xe9\\xa7;,Z\\xb0B\\xcf\\x86]\\xb9ri\\xd5\\'K\\xe2\\xee\\xc46i\\xd2\\x82\\xb6p\\xfd\\x86O\\xe8\\x13\\'O\\x9aI\\x93RR\\x92\\xd7\\xae[y9\\xfcB^^^\\xeb\\xd6O\\xd1\\xd4\\x80\\x80\\xda4\\xfe\\xc7=\\xdfo\\xd9\\xbaq\\xd5\\xca\\rs\\xe7O\\x8f\\x89\\x89\\n\\x0e\\x0e\\xed\\xd7wH\\xd7.\\xdd\\xf5\\xef\\x01\\xfdK\\xe9\\xfa^d\\xfd\\xe7\\x9f\\xfcq`\\xbf\\x93\\xa3S\\xc7\\x8e]\\xfd\\xfdk\\x8b+,**\\xfa\\xf2\\xab\\xb5\\'O\\x1d\\xbfw/\\xa1q\\xe3\\xe6\\xbd{\\xf6o\\xdb\\xf6\\x19f\\x08\\xb9\\x0c\\xb5\\x93\\x00\\xa6\\x81#\\x0f\\xcc\\x9b\\\\\\xa6z\\xc2\\x80A\\x8b\\xd8\\xda\\xda\\xfe\\xfc\\xcb\\x8fT\\xc2-\\xfbh\\r\\x15iqwnO\\x9b>>/?\\xef\\xb3\\xd5_/\\x9c\\xbf<*\\xea\\xe6\\xe4)c\\xa9`\\xa39m\\xe46\\xe7\\xce\\x9f\\xa6\\x81\\xdf~9\\xb1\\xe9\\x9b]^\\xde\\xd5f\\xbf?E\\xa1P\\xd0\\x98\\xd3gN\\xbd?\\xef\\x9d\\xce\\x9d_\\xfa~\\xfb/s\\xe7,IL\\x8c_\\xf5\\xe9\\x12q\\xfdQ\\xd1\\x11\\xf4\\xb7x\\xe1\\xca\\x9e=\\xfa~\\xb8x\\x15\\x8d\\xfcv\\xeb^\\xfdA\\x00\\x15\\xf0\\xef\\xcd\\x9e\\xec\\xe9\\xe9\\xf5\\xd5\\xc6\\xefG\\x8f\\x1a\\xbff\\xdd\\xca\\xfb\\xf7\\x139\\xf5W\\xa3O\\x9c<\\xf5\\xf5\\xf3\\x17\\xceL\\x9e\\xf4\\xdeW\\x1bwxzx\\x8d\\x9f0\\xe2\\xce\\xdd8\\xe1\\xb3\\xb2\\xb22?]\\xfd\\xd1;S\\xe7\\x1c\\xfa\\xf3\\xbf\\x0e\\xed_\\xf8h\\xd9\\x82\\xc4\\xc4\\x842\\xf7\\x80\\xae\\xa5\\xf4|\\xaf\\xbd\\xfbv\\xee\\xdd\\xf7\\xc3\\xc4\\xb7\\xdf]\\xbbvs\\xcd\\x9a~\\x9b\\xb7|!\\xae\\x90V\\xb5s\\xd7\\xb6\\xde\\xbd\\x06l\\xfb\\xf6\\xa7\\x0e\\xed;Rxq\\xf4\\xaf\\x83\\xcc\\x10\\n%\\xfd\\xc7\\x00\\xa0\\xea!\\x0e\\x00\\xf3\\xa6T\\xf2\\xbc\\x81\\x1d\\x0bS\\xe1\\xea\\xe6\\xe6\\xfe\\xd6\\x84i\\xad\\x9ex\\xd2\\xc6\\xc6\\xe6\\xcf?\\x7f\\xa5\\x93~\\x8a\\x00\\x02\\x03\\x83\\x82\\x82\\x82\\xa7M\\x9ds3\\xe2\\xfa\\xf1\\x13G\\x84\\x99\\x0b\\n\\xf2\\x87\\r\\x1dC\\x8b\\xd4\\xaa\\xe97\\xf2\\xd57\\xa8\\xb0\\xbct\\xe9<\\x8d\\xff\\xea\\xebu\\xed\\x9f}\\xbeo\\x9f\\xc1t\\xd2\\xdc\\xa8Q\\xd3\\xf1\\xe3\\xa6\\x9c<y\\xfc\\xda\\xf5+\\xc2\\xfa\\x13\\x12\\xee\\xce\\x9f\\xfbQ\\xbbv\\xed=<<\\xcb\\xb9Ut2\\x9d\\x9e\\x9e\\xf6\\xfa\\xd8\\x89\\xbe\\xbe5\\xeb\\xd5\\r{m\\xcc\\x9bbqN\\x9f\\x18\\x1b\\x1b\\xf3\\xde\\xcc\\x85O\\xb6i\\xe7\\xe5\\xe5=\\xee\\x8dIn\\xee\\x1e\\xbbvm\\x13\\xa6\\x16\\x16\\x16R\\x05F\\xc3\\x86M\\xe8s\\xbbt~\\x99\\xf6FD\\xc4\\xf52?N\\xd7Rz\\xbe\\xd7\\xee\\x1f\\xb7S\\xc4@\\xc5<\\xd5\\xa0P\\xe5A\\xcb\\x16\\xad\\x85U\\xe5\\xe7\\xe7\\xff\\xfe\\xc7\\xcf\\x83\\x07\\xbd\\xda\\xa3{\\x1fw7\\xf7n/\\xf6\\xec\\xf8|W\\xcd(\\xa1<T\\xfd\\x08\\xc9p}\\x00\\x80\\t \\x0e\\x00\\xb3W\\x81\\xd2\\xa3~\\xbd\\x86\\xe2px\\xf8\\x85\\xb0\\xb0FT\\xec\\to\\xa9\\x18\\xaeU\\xcb\\xff\\xe2\\xa5s\\xc2\\xdb:uB)V\\x10\\x86\\xfd\\xfd\\x02\\xe9\\x95*\\xcc\\xe9\\x95\\xaa\\rh\\xa9\\x12+\\xa4\\x96\\x05\\xe1m\\xed\\xc0:\\x0e\\x0e\\x0e\\xcc\\x10\\xd1\\xd1\\x11...TE/\\xbcm\\xd1\\xbc\\x95\\xab\\xab\\x9b0|\\xe9\\xf2y:\\x83\\x17\\xcb]*\\xb9\\x9b7{\\xe2\\xc2\\xc5\\xb3\\xe2\\xb2\\xe2\\x96\\x08\\x8b\\xd0\\xb9~y>Q\\xebR\\xba\\xbe\\x17\\x05\\nw\\xee\\xdc\\xa68I\\x9cT\\xaf^\\x03a\\xe0\\xc6\\x8d\\xab\\x05\\x05\\x05\\xad[=%N\\xa2\\xcd\\x8b\\x8a\\x8aH\\xcfHg\\xe5\\xc6+U]\\x080\\x00\\xa8r\\xb8>\\x00\\xcc\\x1c\\xc7*\\xd0\\x83\\x80\\x9d\\x9d\\x9d8L\\xe5\\x1f\\x9d\\xef>\\xd7\\xb1\\x95\\xe6\\x0c\\xa9)\\xc9\\xc2\\x80\\x83\\xfd\\xc3\\xe2\\\\(\\xda\\xb3\\xb3\\xb3\\x08\\x9d\\x04\\xdbkLrrr\\xa2\\xd7\\x9c\\x9c\\xec\\xe2\\xf5\\xdb\\xdb3\\x03efe:99k\\x8e\\x11\\xeb\\x12h\\x0b\\xe9\\xf4\\xbd\\xc4\\x16j\\xd64p\\x15\\xea\\x9a\\xbf\\xf4Rz\\xbe\\x17\\xa1\\xe6\\tGG\\'q\\x92\\x83\\x83\\xa3\\xb8y\\xf4\\xfa\\xd6\\xc4\\xd1%\\xd6F\\xfb\\x90\\xaa\\x07\\x18\\x00H\\x1b\\xe2\\x000s<{\\xcc\\x1e\\x04\\xa8\\xd5\\xbfI\\x93\\xe6T\\xe7\\xaf9\\xd2\\xdd\\xad\\xb8z\\x80J}q$5\\xe1\\xd3+\\x15\\x93B@\\x90\\x97\\x97+N\\xcaVG\\x00\\xde^\\xd5XEQ\\xc0Ag\\xd5\\x9ac\\x92\\x93\\xef\\x0b\\x03\\xde\\xde\\xd5\\x1c\\x1d\\x1d\\x17/\\xfaXs\\xaa\\\\&g\\x95M\\xcf\\xf7rvv\\x96\\xcb\\xe5\\xf9\\xf9y\\xe2\\xa4\\xdc\\xdc\\x9c\\xe2\\xcd\\xabV\\x9d^\\xa7N\\x99\\xe5\\xe7\\x17\\xa0\\xb9\\xb6\\x1a5|Y\\xb9\\xc9mdx^\\x14\\x80I \\x0e\\x00\\xf3\\xc6\\x19~\\x9d`\\t!\\xc1u\\xff8\\xb0\\xbfY\\xd3\\x962Yq3YLL\\x94\\xbf\\x7f\\xa00\\x1c\\x19u\\x93\\x9a\\xed\\x85V\\x03\\xaa\\x00\\xa7W\\xaa\\xba\\xa7\\x96\\x82\\xfa\\xf5\\x1a\\x84\\x87_\\x14W\"\\x0c\\x07\\x87\\xd4e\\x15E\\x85hZZjJJ\\xb2\\x97\\x977\\xbd=w\\xfetNNqA\\x1b\\x12R/77\\x97\\x8aU\\xbfZ\\xfe\\xc2\\x98\\xbb\\xf1w<\\xdc\\xcb{\\xe5A\\xf9\\xe9\\xf9^Ty\\xe0\\xe3SS\\xf5\\xb6_\\xf1\\xa4\\x93\\xa7\\x8e\\x0b\\x03\\xd4\\\\b\\xaf\\xae\\xff\\xa0\\xb6\\x0caLjj\\n\\xb5#\\x08u\\t\\xe5\\xa4(R\\xe2\\x81\\x83\\x00&\\x81\\xeb\\x03\\xc0\\xbc\\xf1J\\xfa\\xf7X\\xf5\\x01}\\xfb\\x0eQ*\\x95\\x9f\\xad]A\\xa7\\xfb\\xb7o\\xdf\\xfa|\\xc3\\xa7\\xa3\\xc6\\x0c\\x88\\x8a\\x8e\\x10\\xa6\\xba\\xb9\\xb9\\x7f\\xba\\xfa\\xa3\\x8c\\xcc\\x0c\\xfa\\xdb\\xbc\\xe5\\x0b\\x1f\\x1f\\xdf\\xa6MZ\\xd0\\xf8\\xde\\xbd\\x06\\x1c?qd\\xd7\\xae\\xefh<\\x95\\xd9k\\xd7\\xad\\xa4\\xf6\\xfb\\xba\\xa1\\xf5K\\xaf? 0\\x88^\\x8f\\x1c9p\\xe5\\xeae=\\x9b\\xd1\\xf6\\xc9g\\xe8\\x84{\\xf5g\\xcb\\xa8\\x06>\\xee\\xce\\xed-[6V\\xaf^C\\x98\\xf4D\\xcb6m\\xda\\xb4[\\xbe|abb\\x02\\x05%{\\xf6\\xfe\\xf0\\xc6\\xb8a\\xbf\\xfd\\xb6\\x8f\\x19\\x81\\x9e\\xef\\xf5\\xdc\\xff:\\xfdu\\xec\\xd0\\xe1#\\x07h\\xf8\\xbb\\xed\\x9b\\xae\\\\\\xb9$,B\\xe5\\xfd\\xab#^\\xa7\\x9ds\\xe9\\xd2y\\xaa\\xd28\\xfa\\xd7\\xc1i\\xd3\\xc7\\xaf\\xfad\\t\\x03\\x00s\\x80\\xfa\\x00\\xb0vn\\xaen_n\\xdc\\xb1}\\xfb\\xa6\\xd7\\xc7\\r\\x8d\\x8d\\x8d\\t\\x0bk\\xf4\\xce\\xb49\\xf5\\xea\\x86\\tS\\x83\\xeb\\x84\\x06\\x05\\x85\\xf4\\x1f\\xf0\"5\\x9c\\xd7\\xf4\\xad\\xb5h\\xc1J*\\xadi|\\xe7\\xce/\\xddO\\xba\\xb7\\xe3\\x87-\\x14@Pp\\xd0\\xea\\x89\\xb6\\xaf\\x8dyS\\xeb\\xfa\\xe9$\\xbek\\x97\\xee_\\x7f\\xb3\\xbeq\\xa3f\\x1f\\xaf\\xfc\\\\\\xd7fP\\xe5\\xff\\xe4I3\\xbf\\xfcjm\\x9f~\\x9d\\xeb\\xd6\\r\\x1b1|,\\xc5\\x0466\\xb6\\xc2\\xd4\\x0f\\x17\\xaf\\xda\\xf7\\xd3\\xae\\x05\\x8bfR\\xe9\\x1b\\x10P\\xfb\\x85\\x17^|\\xe5\\x95\\x81\\xcc\\x08\\xf4|\\xaf\\xa1CFS\\x8d\\x05m\\xd5\\x82\\x853\\xa9%e\\xfc\\xb8)\\x8b?\\x98-\\xdc\\xac1p\\xc0p\\xaa\\xb4\\xd8\\xb6\\xfd\\x9b\\xb3g\\xffuvvi\\xd4\\xb0\\xe9\\xd4\\xa9\\xb3\\r\\xf9X\\xa6\\xaa\\xd4\\xc1Y\\t\\x80)p<\\x8f{u\\xc0\\x8c\\xed^}\\'9\\xbe`\\xe0\\xbbu\\x98\\x11\\xcc\\x9d7=++s\\xc5\\xf2u\\xacJ\\xdc\\xb9\\x1b\\xe7\\xea\\xea\\x188\\xdfO\\x00\\x00\\x0c\\xe3IDAT\\xe6\\xa6\\xbez\\x9f\\x0e\\xcc\\x97{t\\x18\\xf5\\xea\\xb8>}\\x061+\\xb0sU\\x8c\\x9c\\xe3\\x86\\xbf_\\x9b\\x01@\\xd5B}\\x00\\x987\\xf5e\\x82\\x96\\x10\\xcbR\\x85\\xff\\xf8\\t#BC\\xea\\x8d\\x1e=\\xc1\\xd3\\xd3\\xeb\\xcb/\\xd7\\xc88\\xd9\\xff\\xfe\\xd7\\x89Y\\x07\\xd5U\\x1e\\xb8<\\x00\\xc0\\x14\\x10\\x07\\x80yS_\\x1f\\xc0\\xcc\\x025\\x9f\\xbf7k\\x92\\xae\\xa9[\\xb7\\xecY\\xf2\\xc1\\'_l\\xfc\\xec\\xfd\\xb9\\xd3\\n\\xf2\\xf3\\x1b4h\\xbc\\xe6\\xb3o\\xa8\\xb1\\x80U\\xc8\\xccY\\x93.\\xab\\xfb;*\\xad[\\xb7^\\xe3\\xde\\x98\\xc4$F\\xd5\\x1b\\x14\\x02\\x01\\x00S@\\xbb\\x00\\x98\\xb7]\\x9f\\xc6Q\\xbb\\xc0\\xa0\\x19\\xc1\\xcc\\x1cd\\xea\\xee\\xe1\\xc7\\xd5\\xc5\\x95U\\x9e\\x9c\\x9c\\x1c\\x85R{?\\xbd\\xb66\\xb6\\x86\\xf6qT\\x05v\\x7fzK\\xc6\\xb1a\\xb3\\xd1.\\x00P\\xd5P\\x1f\\x00\\xe6\\x8d\\xe2X3\\ne+\\xb7\\xb0\\xd7\\xc3\\xa0{\\xf6\\xa4@\\xa9\\xe4\\xd10\\x00`\\x12\\x88\\x03\\xc0\\xbcq\\x1c\\x8f\\xfb\\xce-\\x80*\\x08\\xc0\\xcf\\x08`\\n\\x88\\x03\\xc0\\xbcQ\\xab\\xb2e\\\\\\'h\\xedx\\xf5?\\x00\\xa8r\\xb8c\\x17\\x00L\\x8f\\x82\\x00T\\x08\\x00\\x98\\x04\\xea\\x03\\x00\\x00\\x00\\xac\\x17\\xe2\\x000o29\\xc3\\x03j,\\x00U\\x06p\\xa8\\x9d\\x040\\x05\\x1cy`\\xde\\x94\\n\\xd5\\xa5\\xe6\\x0c\\xcc\\x1dna\\x060\\x11\\xd4\\x07\\x00\\x80\\xe9!\\x08\\x000\\x15\\xc4\\x01\\x00\\x00\\x00\\xd6\\x0bq\\x00\\x987\\x1b9\\'G*6\\x7f6\\xb62\\x8eS2\\x00\\xa8r\\xb8>\\x00\\xcc\\x9b\\x9d\\xaa\\xdf<\\xd4)\\x9b\\xbd\\xa2\\xc2B{\\'\\\\\\xef\\t`\\x02\\x88\\x03\\xc0\\xbc5\\xeb\\xe0U\\x90\\x8f8\\xc0\\xec\\xe5\\xe7\\xf0u\\x9b\\xbb0\\x00\\xa8r\\x88\\x03\\xc0\\xbc\\xf9\\x858:\\xb9\\xcb\\xf6\\xad\\x8bf`\\xb6~\\xdb\\x14cg\\xcf5\\xef\\xe0\\xcd\\x00\\xa0\\xca\\xe1f\\x1d\\xb0\\x04\\xdf.\\x8d\\xc9\\xcd-\\xea=!\\xd0\\xce\\xce\\x8e\\x81Y\\xd9\\xbb.&?\\xa7h\\xf4\\x82P\\x06\\x00\\xa6\\x808\\x00,\\xc4\\xb7\\x1fF\\xa5\\xdeW\\xda\\xda\\xb1\\xa2\\x02V\\xfa\\xc9C\\x9c\\xc6S\\x08\\xc4aN\\xce\\xf8R\\xcf\\xe6UMe\\x8f\\\\r \\xce\\xcf\\xab\\xba\\xbb)~\\xcbi\\xce\\xa2~#\\x8cy\\xb8r\\xf5[:\\xbe\\xc4\\xc7\\xe8q\\x1c\\xd3\\xe8C_5\\x9e\\xd7\\xf6)\\x0fV\\xff\\xc8$\\xf6\\xf0\\xce:^x(O\\xe9\\xafSz3\\x1eN\\xa2\\xcd\\x90q\\xe2\\x18q\\xe3\\xc5\\xb7L\\xe3#4\\xbf\\x9aL\\xbd\\x8bJ\\x7f\\xaf\\x87\\x0b\\n\\x9f\\xa3\\xb1\\x9e\\xe2\\xd9\\x84\\x01\\xf5\\xe7\\x16\\xcf$~\\xe8\\x83\\x01\\x1b\\x1b\\xa6(\\xe2]<\\xe5\\xc3g\\xd7a\\x00`\"\\x88\\x03\\xc0\\xa2\\xfcw )\\'CY\\xba\\xa7\\xfaG\\xbb\\xaf\\x7fP\\x12q\\xba.1Tjo2\\x13\\n\\xd2\\x07Ea\\xa9\\x859\\xa1$\\xe5J/\\xa1\\xb9!\\xa57\\xa3\\xe4\\xa6j\\xe9g\\xff\\xe8\\xd1\\xa3\\xcf<\\xf3\\x8c\\\\.\\x7f0\\xb5x\\xd9\\x07\\xab\\xe7K\\xad\\xa48\\x9e\\xd1\\xb1\\x19Z?Z\\xdb\\xc8\\xd2Q\\x89\\xf6E\\xb4|wV\\x1c\\x06\\xc9\\xb4\\xee(\\xfa\\x9f\\x833\\xf7\\xc4\\xf3\\x9er;9\\x03\\x00\\xd3A\\x1c\\x00`\\x06\\x9e|\\xf2\\xc9\\x13\\'N\\xd8\\xd8\\xe0\\x16I\\x00\\xa8d\\xc8V\\x00\\xcc\\x80B\\xa1@\\x10\\x00\\x00\\xc6\\x80\\x9c\\x05@\\xea\\x8a\\x8a\\x8a\\xa8E\\x80\\x01\\x00\\x18\\x01\\xe2\\x00\\x00\\xa9\\xa38\\x00\\x95\\x01\\x00`$\\xc8\\\\\\x00\\xa4\\x0eq\\x00\\x00\\x18\\x0f2\\x17\\x00\\xa9C\\x1c\\x00\\x00\\xc6\\x83\\xcc\\x05@\\xea\\x10\\x07\\x00\\x80\\xf1 s\\x01\\x90\\xba\\xc2\\xc2B[[[\\x06\\x00`\\x04\\x88\\x03\\x00\\xa4\\x0e\\xf5\\x01\\x00`<\\xc8\\\\\\x00\\xa4\\x0eq\\x00\\x00\\x18\\x0f2\\x17\\x00\\xa9C\\x1c\\x00\\x00\\xc6\\x83\\xcc\\x05@\\xea\\x10\\x07\\x00\\x80\\xf1 s\\x01\\x90:\\\\\\'\\x08\\x00\\xc6\\x838\\x00@\\xeaP\\x1f\\x00\\x00\\xc6\\x83\\xcc\\x05@\\xea\\x10\\x07\\x00\\x80\\xf1 s\\x01\\x90:\\xc4\\x01\\x00`<\\xc8\\\\\\x00\\xa4\\x0e\\xd7\\x07\\x00\\x80\\xf1 \\x0e\\x00\\x90:\\xd4\\x07\\x00\\x80\\xf1 s\\x01\\x90:\\xc4\\x01\\x00`<\\xc8\\\\\\x00\\xa4\\x0eq\\x00\\x00\\x18\\x0f2\\x17\\x00\\xa9C\\x1c\\x00\\x00\\xc6\\x83\\xcc\\x05@\\xea\\x10\\x07\\x00\\x80\\xf1 s\\x01\\x90:\\xc4\\x01\\x00`<\\xc8\\\\\\x00\\xa4N.\\x97{yy1\\x00\\x00#@\\x1c\\x00 u\\x05\\x05\\x05\\xe9\\xe9\\xe9\\x0c\\x00\\xc0\\x08\\x10\\x07\\x00H\\x1d5\\nP\\xd3\\x00\\x03\\x000\\x02\\xc4\\x01\\x00R\\x878\\x00\\x00\\x8c\\x07q\\x00\\x80\\xd4!\\x0e\\x00\\x00\\xe3A\\x1c\\x00 u\\x88\\x03\\x00\\xc0x\\x10\\x07\\x00H\\x1d\\xe2\\x00\\x000\\x1e\\xc4\\x01\\x00R\\x878\\x00\\x00\\x8c\\x07q\\x00\\x80\\xd4!\\x0e\\x00\\x00\\xe3A\\x1c\\x00 u\\x88\\x03\\x00\\xc0x\\x10\\x07\\x00H\\x1d\\xe2\\x00\\x000\\x1e\\xc4\\x01\\x00R\\x878\\x00\\x00\\x8c\\x07q\\x00\\x80\\xd4!\\x0e\\x00\\x00\\xe3A\\x1c\\x00 u\\xb6\\xb6\\xb6\\x85\\x85\\x85\\x0c\\x00\\xc0\\x08\\x10\\x07\\x00H\\x1d\\xea\\x03\\x00\\xc0x\\x10\\x07\\x00H\\x1d\\xe2\\x00\\x000\\x1e\\xc4\\x01\\x00R\\x878\\x00\\x00\\x8c\\x07q\\x00\\x80\\xd4!\\x0e\\x00\\x00\\xe3\\xe1x\\x9eg\\x00 =#G\\x8eLHH\\x90\\xcb\\xe5\\x14\\x04\\xdc\\xbf\\x7f\\xdf\\xd7\\xd7W&\\x93\\x15\\x14\\x14\\xfc\\xfe\\xfb\\xef\\x0c\\x00\\xa0\\x92\\xc8\\x18\\x00HR\\xaf^\\xbd\\xb2\\xb2\\xb2(\\x14HJJ\\xe28.111>>\\x9e\\x01\\x00T*\\xc4\\x01\\x00\\x12\\xd5\\xb3g\\xcf\\xc0\\xc0\\xc0\\x125vM\\x9a4a\\x00\\x00\\x95\\x07q\\x00\\x80t\\x8d\\x181\\xc2\\xc9\\xc9I|\\xeb\\xe5\\xe55x\\xf0`\\x06\\x00Py\\x10\\x07\\x00HW\\xe7\\xce\\x9dCBB\\x94J%\\rS\\xc5@XXX\\xcb\\x96-\\x19\\x00@\\xe5A\\x1c\\x00 i\\xa3F\\x8d\\xf2\\xf0\\xf0\\xa0\\x0177\\xb7\\x01\\x03\\x060\\x00\\x80J\\x858\\x00@\\xd2\\xda\\xb7o\\x1f\\x1a\\x1a\\xaaP(\\xea\\xd5\\xab\\xf7\\xf4\\xd3O3\\x00\\x80J\\x85\\xfb\\x06\\x01*G\\\\D\\xd6\\x85\\xbf\\xd2R\\x12\\x8a\\xf2\\xb2\\x95E\\x05tX\\xf1J%\\'N\\xe58\\xa6y\\xa8\\xd1[%\\xcfd\\x8f\\x8ed4\\xfc`\\tN\\xfd\\xee\\xc1x^\\xc9+e\\x9c\\xea\\x1f\\xcd\\xaf^H\\xcb\\x9a\\x1fY\\xa4\\xf8\\xad\\xc6\\x1a5?\\x86c2\\x19g\\xef\\xc8U\\xf3\\xb3o\\xd4\\xd6-\\xa4\\xa9+\\x03\\x00k\\x858\\x00\\xe0q\\xfd\\xb8&\\xeent\\x1e\\xaf`2\\x1bf\\xeb`k\\xebhcc/\\xe78N\\xa6\\xa5\\x0c.\\xa6.\\x9f\\x1f\\x16\\xd2t\\x18\\xd2\\xfc\\xaa\\xe2\\x9d\\xd39\\xb7\\x8ew\\xc5oy\\xf5Z8\\x8d\\xe5\\xd5\\xe3K\\xc4\\x06*J\\x05\\xc5\\'\\xbc\\xa2@Y\\x90[\\xa4\\xc8W(\\x8a\\x94r\\x1bV\\xc3\\xdf\\xbe\\xcf\\xdb\\x01\\x0c\\x00\\xac\\x0f\\xe2\\x00\\x80\\x8a\\xdb\\xb3\\xfeN\\xdc\\xf5\\\\\\x1b;\\xce\\xbd\\xa6k\\xcd\\xfa\\xde\\xcc<\\xdd\\x8bJI\\xbb\\x9bU\\x90\\xa3\\xf0\\r\\xb2\\xeb;1\\x90\\x01\\x805A\\x1c\\x00PAk\\xdf\\x89\\xa0\\xf3\\xed\\x80\\xa65\\\\\\xbd\\x9d\\x99\\xf9\\xcb\\xcd-\\x88\\xfd/AY\\xa4\\x1c8\\xdd\\xd7\\xb3\\xba%|#\\x00(\\x0f\\xc4\\x01\\x00\\x06\\xbb\\x7f\\'w\\xc7\\x8a;n\\xbe\\x8e\\x81M|\\x99e\\x89\\xbf\\x99\\x9c\\x1c\\x9d\\xd1ih\\x8d\\xfaO\\xb81\\x00\\xb0\\x02\\x88\\x03\\x00\\x0c\\x93v\\xbf`\\xeb\\x87\\xb1\\xf5\\xdb\\xfb\\xdb\\xda\\xdb2\\x0bu\\xf9\\x8f\\xe8\\x1e\\xe3j\\x05\\xd6sb\\x00`\\xe9\\x10\\x07\\x00\\x18 \\xe1V\\xee\\xceO\\xee4\\xeeT\\x87Y\\xba\\xf0\\x83\\xd1\\xcf\\xf4\\xf6n\\xf6\\xb4\\'\\x03\\x00\\x8b\\x86\\xfe\\x03\\x00\\x0c@A\\x80_\\xb3j\\xcc\\n\\xd4{\\xd6\\xff\\xd8\\xaed\\x06\\x00\\x96\\x0eq\\x00@ymx/\\xc2\\xde\\xc5\\xc6\\xb3\\x86U\\xdcmokg\\xebR\\xcda\\xdd;\\x11\\x0c\\x00,\\x1a\\xe2\\x00\\x80r9\\xf5{rA\\x1e\\xab\\xfb\\x94\\x15\\xddd\\x1f\\xd4\\xa2\\xa6R\\xc9\\x0e|\\x8b\\x87\\x1d\\x03X2\\xc4\\x01\\x00\\xe5r\\xee`\\x9a\\xbb\\xaf\\xd5\\xddM\\xe7\\x1d\\xe4~\\xfdt6\\x03\\x00\\xcb\\x858\\x00\\xa0lW\\xfeM-*\\xe2\\x03\\x9a\\xd4`\\x92\\x94\\x95\\x9d:m\\xce\\x93\\xe7/\\xfd\\xc9*\\x9bo\\xa8\\x17\\xbd\\xfe\\xf5c\"\\x03\\x00\\x0b\\x858\\x00\\xa0lg\\x0e\\xa4\\xd9:\\xda0\\xab\\xe4\\xe0n{\\xfdt&\\x03\\x00\\x0b\\x858\\x00\\xa0l\\xe9\\xc9\\n\\xcfZ.\\xcc*\\xf9\\x84z\\xe5\\xe70\\x00\\xb0TVz\\x8a\\x03P~Yi\\x05\\x8cg5\\x82\\x8du\\'}Ff\\xf2O\\xbf\\xae\\x8a\\xb9}\\xb1\\xa0 \\xaf~\\xdd\\xb6/t\\x18U\\xa3zm\\x1a\\x7f\\xe2\\xe4\\x0f\\x07\\x8e~5n\\xd4\\xba\\xcd\\xdbg&\\xde\\x8b\\xaa\\xe9\\x13\\xda\\xbe\\xdd\\xa0\\xd6-_\\x16\\x96:w\\xf1\\x8f\\xdf\\x0e~\\x9e\\x9b\\x9b\\xd10\\xec\\xd9\\x0eO\\x0faF\\xe3\\xea\\xad\\xeaM\\xe8\\xfa\\x99\\xf4\\xfaO\\xb83\\x00\\xb08\\xa8\\x0f\\x00(\\xc3\\xe5S\\x19\\xcch\\x14\\n\\xc5\\xfa\\xaf\\xc6G\\xc6\\x9c\\xed\\xd3}\\xc6\\xd47\\xb7\\xb98{}\\xbaaTRr\\x1cM\\x92\\xdb\\xd8\\xe6\\xe6f\\xee\\xd9\\xbf\\xbc\\x7f\\xaf\\xf7\\x96-8\\xd9\\xb4\\xf1\\xf3\\xdf\\xefY\\x94\\x9a\\x96@\\x93\\xe2\\x13#\\xb6\\xed|\\xbfU\\x8bn3&\\xedj\\xd5\\xfc\\xa5\\xbd\\xfbW0c\\x92\\xd9p\\xb7\\xae\\xa0N\\x00\\xc02!\\x0e\\x00(CjB\\x81\\xcch\\x15g\\xd1\\xb1\\xe7\\xef%\\xc5\\x0c\\xea;?\\xac\\xdeSn\\xae\\xde\\xdd\\xbb\\xbe\\xed\\xec\\xe4q\\xec\\x9f\\xed\\xc2T\\x85\\xa2\\xb0\\xd3scj\\x074\\xe18\\x8e\\xca{\\x9e\\xe7\\xef\\xc4\\xdf\\xa0\\xf1\\x7f\\x9f\\xda\\xe5\\xe1\\xee\\xdb\\xe9\\x7f\\xa3\\x9d\\x9c\\xdcB\\x83\\x9fx\\xb2U/fL2\\x1bYfz\\x11\\x03\\x00K\\x84v\\x01\\x802\\x14\\xe6\\xf1T\\x0c3\\xe3\\x88\\xb9uA.\\xb7\\xad\\x1b\\xdcJxK\\x1f\\x14R\\xa7eT\\xcc9q\\x86@\\xbfF\\xc2\\x80\\x93\\xa3\\xea\\xc1?\\xb9y\\xaaK\\xf6\\x92Rn\\xfb\\xfa\\x04\\x8b\\xf3\\x04\\xf85d\\xc6$\\xe3\\xb8\\xa2|t@\\x0e`\\x99\\x10\\x07\\x00\\x94\\x81\\xa3b\\x903V\\xcdYn^\\x16\\x9d\\xf4O\\x9b\\xf3\\xa4\\xe6H\\x17\\xe7\\x87\\xd7\"h\\rArr2\\xaay?\\xec\\xd1\\xc8\\xce\\xce\\x91\\x19\\x15\\xa7\\xda\\t\\x0c\\x00,\\x11\\xe2\\x00\\x8028:sJ^\\xc9\\x8c\\xc3\\xd5\\xc5\\x9bJ\\xf1QC\\x1ei\\xe0\\x97\\xc9\\xca\\x08;\\xa89\\xa0\\xb00O|\\x9b\\x9fo\\xdc\\xae~\\x94J\\xa5\\x9d\\x03\\xf2\\n\\x00\\xcb\\x84c\\x1b\\xa0\\x0c>\\xb5\\x1do\\x9c5VA\\xebW\\xb3^AA\\xae\\x87\\x87O5/\\x7faLr\\xca\\x1d\\xcd\\xfa\\x00\\xad<=j^\\xb9v\\x8c\\x8ag!b\\xb8r\\xfd83&e\\x11\\xef\\xe5c\\xb1\\x0fY\\x06\\xb0r\\xb8N\\x10\\xa0\\x0cM\\x9e\\xf6P*U\\x17\\xf63#\\xa8\\x1b\\xd2:\\xac\\xeeS?\\xecY\\x9c\\x9a\\x96\\x90\\x95\\x9dv\\xe2\\xd4\\xceO\\xd6\\xbf\\xfa\\xef\\xd9\\x9f\\xf4/\\xd5\\xac\\xd1\\x0bY\\xd9\\xa9{\\xf6\\xaf\\xe0y>\"\\xea\\xcc\\xdf\\xa7v2cR*\\xf8zO\\xb81\\x00\\xb0D\\xa8\\x0f\\x00(\\x9b\\xad\\x1d\\x17\\x7f=\\xc5\\xbfauf\\x04\\xa3\\x86\\xae\\xfc\\xe7\\xbf\\xdd[\\xbf\\x9f}\\xeb\\xf6\\xa5\\xea\\xd5j\\xb7l\\xd6\\xf5\\xd9\\xa7\\x06\\xe8_\\xa4~\\xdd\\'_\\xee\\xf2\\xd6?\\xff\\xee~\\xe7\\xfd\\xb6\\x1e\\xee\\xbeC\\xfa\\xcd_\\xb3\\xf1u\\xc6\\x8cr)\\xdf\\xbd\\x98T\\xaat\\xf0\\xadm\\xe4K\\x10\\x00\\xc0D8:\\x9f`\\x00\\xa0\\xd7\\xee\\xcfn\\xdf\\xbbS\\x18\\xd6\\xbe6\\xb3>7\\xff\\x8est\\xe2\\x87\\xce\\x0cb\\x00`\\x89\\xd0.\\x00P\\xb6\\x97\\xc7\\xfa\\x14\\xe5\\x19\\xebRA\\x89\\xcb\\xcf.l\\xd7\\xdb\\x9b\\x01\\x80\\x85B\\xbb\\x00@\\xd9\\xec\\xec\\xec\\xdc\\xbcl\"O\\xde\\ti\\xeb\\xa7u\\x86\\xa2\\xa2\\xc2yK\\xbb\\xea\\x98T \\x97\\xdbj\\xbd\\xfd\\xcf\\xb7z\\xf0\\x9bc\\xbf`\\x95\\xe7\\xcb-S\\xa2c/h\\x9dTX\\x98okk_z\\xbc\\xab\\xb3\\xd7\\xbb\\x93~`:D\\x9fM\\xb0w\\xe4\\x82\\xc3\\\\\\x19\\x00X(\\xb4\\x0b\\x00\\x94KAV\\xc1\\x869\\xb1\\x8d;\\xd7\\xd15CJ\\xea]\\xad\\xe3\\xf3\\xf2\\xb2\\x1c\\x1c\\xb4?\\xa3H&\\xb3\\xf1p\\xaf\\xccg\\x19gd$\\x15)\\n\\xb4N\\xca\\xce\\xc9pv\\xd2r\\xad\\x1f\\xc7\\xc9<=|\\x99\\x0e\\x97\\x0fD\\xbf8\\xd2\\'\\xa4\\t\\xe2\\x00\\x00\\x8b\\x858\\x00\\xa0\\xbc\\xf6\\xae\\xbb\\x13\\x7f+?\\xac\\x83\\xb5\\\\%p\\xe3x\\xac\\xab\\xa7l\\xd04k\\xbc*\\x02\\xc0z\\xe0\\xfa\\x00\\x80\\xf2\\xea9\\xce\\xcf\\xc6\\x8e\\xdd:\\x1b\\xcf\\xac\\xc0\\x9d+\\xf7y\\x85\\x12A\\x00\\x80\\xc5C\\x1c\\x00`\\x801\\x0b\\x82s\\xd2\\xf3b\\xce\\xdce\\x16-\\xeeZrz|\\xd6\\xebKB\\x18\\x00X:\\xb4\\x0b\\x00\\x18l\\xe3\\xecH\\x99\\x83<\\xf8\\x89\\x00f\\x89n]\\xbc\\x9b}\\xbf`\\xfcr\\x04\\x01\\x00V\\x01q\\x00@El\\x98\\x19\\xa1P\\xc8\\x1a<gi\\xd5\\xe67\\x8e\\xc7*\\x8b\\x14o,\\re\\x00`\\x1d\\x10\\x07\\x00T\\xd0\\xae\\xcf\\xe2\\xe2#\\xf3\\x1c=\\xecB\\xda\\xf81\\xf3\\x17u&>\\'9\\xcf\\xdb\\xdfv\\xd0T\\\\\\x13\\x00`E\\x10\\x07\\x00T\\\\VJ\\xc1\\x0f\\x9f\\xde\\xc9NW\\xd8:\\xc8]k8\\xd7\\n3\\xbf\\xfev\\x12o\\xa6\\xa4\\'f\\x17\\xe4\\x1698\\xcb\\xba\\x0c\\xf7\\t\\xa8\\xeb\\xcc\\x00\\xc0\\x9a \\x0e\\x00x\\\\)\\xf1\\xb9\\x7f~w?\\xe9n\\x81RA\\x87\\x14\\xe3\\xe8O\\xc6\\xe4r\\x99\\x92\\x7f\\xd0w\\x10WF\\xdf\\xff\\xda\\xa7\\xd3\\x8a\\x1e=<\\xd5}\\x11qJZ/\\xf7p\\x14\\x1d\\xc2\\x9c\\xe6\\xf2\\x9cz1^\\xfb\\x1a\\x8a\\xc7)y\\xfaS*T\\x93hS\\xbdk\\xda\\xb6\\xebQ-\\xb0\\x1e\"\\x00\\x00k\\x848\\x00\\xa0\\xd2(\\x95\\xca3\\x07R\\x13n\\xe5\\xe6\\xe6*\\xf9\"N\\xa1(>\\xb8\\xa8\\xac\\xe5\\xc5^\\x89\\xb5\\x95\\xf9\\x9c:zP>\\xdas1-Esj\\x1e\\xa0\\x9c\\xfa\\xfe\\x1e\\x9eV\\xfb \\x10\\x10\\nz\\xcd\\xf5s2\\xd5$*\\xe6\\xc5\\xa92\\xd9#k\\xa6\\xb7r\\x1b\\xce\\xceQV\\xa3\\x96m\\x93\\xf6\\xee.\\xeeZ:\\x19\\x04\\x00\\xeb\\x818\\x00\\x00\\x00\\xc0z\\xe1\\xf9\\x02\\x00\\x00\\x00\\xd6\\x0bq\\x00\\x00\\x00\\x80\\xf5B\\x1c\\x00\\x00\\x00`\\xbd\\x10\\x07\\x00\\x00\\x00X/\\xc4\\x01\\x00\\x00\\x00\\xd6\\x0bq\\x00\\x00\\x00\\x80\\xf5\\xfa?\\x00\\x00\\x00\\xff\\xff\\x9a;:%\\x00\\x00\\x00\\x06IDAT\\x03\\x00z\\x9a\\xb0F9\\x1e\\\\\\xad\\x00\\x00\\x00\\x00IEND\\xaeB`\\x82'"
      ]
     },
     "execution_count": 452,
     "metadata": {},
     "output_type": "execute_result"
    }
   ],
   "source": [
    "from langchain_core.runnables.graph import CurveStyle, MermaidDrawMethod\n",
    "graph = builder.compile()\n",
    "graph.get_graph().draw_mermaid_png(\n",
    "    output_file_path=\"Due_Dligence_Agent_flow.png\",\n",
    "    curve_style=CurveStyle.LINEAR,\n",
    "    draw_method=MermaidDrawMethod.API, # or MermaidDrawMethod.LOCAL if you have local setup\n",
    "    background_color=\"white\"\n",
    ")\n"
   ]
  },
  {
   "cell_type": "code",
   "execution_count": 453,
   "id": "fd90e511",
   "metadata": {},
   "outputs": [
    {
     "data": {
      "image/png": "[encoded data removed]",
      "text/plain": [
       "<IPython.core.display.Image object>"
      ]
     },
     "execution_count": 453,
     "metadata": {},
     "output_type": "execute_result"
    }
   ],
   "source": [
    "from IPython.display import Image\n",
    "Image(filename='Due_Dligence_Agent_flow.png') "
   ]
  },
  {
   "cell_type": "markdown",
   "id": "0eff7ec9",
   "metadata": {},
   "source": [
    "### AGENT DEFINITION COMPLETE"
   ]
  },
  {
   "cell_type": "markdown",
   "id": "bf8cd8d7",
   "metadata": {},
   "source": [
    "### LOADING THE TEST SET\n",
    "Here the baseline solution is the results by Chatgpt using the same prompt as the prompt in the START_NODE"
   ]
  },
  {
   "cell_type": "code",
   "execution_count": 454,
   "id": "f604da60",
   "metadata": {},
   "outputs": [
    {
     "data": {
      "text/html": [
       "<div>\n",
       "<style scoped>\n",
       "    .dataframe tbody tr th:only-of-type {\n",
       "        vertical-align: middle;\n",
       "    }\n",
       "\n",
       "    .dataframe tbody tr th {\n",
       "        vertical-align: top;\n",
       "    }\n",
       "\n",
       "    .dataframe thead th {\n",
       "        text-align: right;\n",
       "    }\n",
       "</style>\n",
       "<table border=\"1\" class=\"dataframe\">\n",
       "  <thead>\n",
       "    <tr style=\"text-align: right;\">\n",
       "      <th></th>\n",
       "      <th>name</th>\n",
       "      <th>overall_risk_rating</th>\n",
       "      <th>is_red_flag</th>\n",
       "      <th>summary</th>\n",
       "      <th>name_query</th>\n",
       "    </tr>\n",
       "  </thead>\n",
       "  <tbody>\n",
       "    <tr>\n",
       "      <th>0</th>\n",
       "      <td>Axact (Axact Pvt. Ltd.)</td>\n",
       "      <td>High</td>\n",
       "      <td>Yes â€” major adverse-media, criminal convicti...</td>\n",
       "      <td>Axact has been the subject of high-profile inv...</td>\n",
       "      <td>NaN</td>\n",
       "    </tr>\n",
       "    <tr>\n",
       "      <th>1</th>\n",
       "      <td>Gurmeet Singh Jolly (aka Shera)</td>\n",
       "      <td>Low â†’ Medium (reputational exposure)</td>\n",
       "      <td>No (not a PEP or sanctions-listed). Moderate r...</td>\n",
       "      <td>Gurmeet Singh Jolly, widely known as Shera, is...</td>\n",
       "      <td>NaN</td>\n",
       "    </tr>\n",
       "    <tr>\n",
       "      <th>2</th>\n",
       "      <td>Joe Marsh (claimed location: Mumbai, Maharashtra)</td>\n",
       "      <td>Unknown / Ambiguous</td>\n",
       "      <td>No clear evidence of sanctions, PEP status, or...</td>\n",
       "      <td>There are many public profiles and bylines for...</td>\n",
       "      <td>Joe Marsh (claimed location: Mumbai, Maharashtra)</td>\n",
       "    </tr>\n",
       "    <tr>\n",
       "      <th>3</th>\n",
       "      <td>Mukesh Dhirubhai Ambani</td>\n",
       "      <td>Medium</td>\n",
       "      <td>Partially â€” requires Enhanced Due Diligence ...</td>\n",
       "      <td>Mukesh Ambani is a high-profile Indian busines...</td>\n",
       "      <td>NaN</td>\n",
       "    </tr>\n",
       "    <tr>\n",
       "      <th>4</th>\n",
       "      <td>Oyo (Oravel Stays Pvt. Ltd. / Oyo Hotels &amp; Homes)</td>\n",
       "      <td>Medium â†’ High</td>\n",
       "      <td>Yes â€” multiple legal, regulatory, and reputa...</td>\n",
       "      <td>Oyo has been repeatedly exposed in adverse med...</td>\n",
       "      <td>NaN</td>\n",
       "    </tr>\n",
       "    <tr>\n",
       "      <th>5</th>\n",
       "      <td>Sheikh Mohamed bin Zayed Al Nahyan (MBZ)</td>\n",
       "      <td>High</td>\n",
       "      <td>Yes â€” given his status as a senior political...</td>\n",
       "      <td>Sheikh Mohamed bin Zayed is the President of t...</td>\n",
       "      <td>NaN</td>\n",
       "    </tr>\n",
       "  </tbody>\n",
       "</table>\n",
       "</div>"
      ],
      "text/plain": [
       "                                                name  \\\n",
       "0                            Axact (Axact Pvt. Ltd.)   \n",
       "1                    Gurmeet Singh Jolly (aka Shera)   \n",
       "2  Joe Marsh (claimed location: Mumbai, Maharashtra)   \n",
       "3                            Mukesh Dhirubhai Ambani   \n",
       "4  Oyo (Oravel Stays Pvt. Ltd. / Oyo Hotels & Homes)   \n",
       "5           Sheikh Mohamed bin Zayed Al Nahyan (MBZ)   \n",
       "\n",
       "                      overall_risk_rating  \\\n",
       "0                                    High   \n",
       "1  Low â†’ Medium (reputational exposure)   \n",
       "2                     Unknown / Ambiguous   \n",
       "3                                  Medium   \n",
       "4                         Medium â†’ High   \n",
       "5                                    High   \n",
       "\n",
       "                                         is_red_flag  \\\n",
       "0  Yes â€” major adverse-media, criminal convicti...   \n",
       "1  No (not a PEP or sanctions-listed). Moderate r...   \n",
       "2  No clear evidence of sanctions, PEP status, or...   \n",
       "3  Partially â€” requires Enhanced Due Diligence ...   \n",
       "4  Yes â€” multiple legal, regulatory, and reputa...   \n",
       "5  Yes â€” given his status as a senior political...   \n",
       "\n",
       "                                             summary  \\\n",
       "0  Axact has been the subject of high-profile inv...   \n",
       "1  Gurmeet Singh Jolly, widely known as Shera, is...   \n",
       "2  There are many public profiles and bylines for...   \n",
       "3  Mukesh Ambani is a high-profile Indian busines...   \n",
       "4  Oyo has been repeatedly exposed in adverse med...   \n",
       "5  Sheikh Mohamed bin Zayed is the President of t...   \n",
       "\n",
       "                                          name_query  \n",
       "0                                                NaN  \n",
       "1                                                NaN  \n",
       "2  Joe Marsh (claimed location: Mumbai, Maharashtra)  \n",
       "3                                                NaN  \n",
       "4                                                NaN  \n",
       "5                                                NaN  "
      ]
     },
     "execution_count": 454,
     "metadata": {},
     "output_type": "execute_result"
    }
   ],
   "source": [
    "test_df =pd.read_excel('./test_set.xlsx')\n",
    "test_df"
   ]
  },
  {
   "cell_type": "markdown",
   "id": "db257872",
   "metadata": {},
   "source": [
    "Query list containing a tuple of 3 values for each query \\\n",
    "(Name of the person/Entity, Description and inputs for the person/Entity, transaction file if any)"
   ]
  },
  {
   "cell_type": "code",
   "execution_count": 461,
   "id": "97d582ef",
   "metadata": {},
   "outputs": [],
   "source": [
    "query_list = [\n",
    "    ('Axact','Search for an entity named Axact',None),('Oyo','Search for an entity named Oyo',None),('Mukesh Ambani','Search for a person named Mukesh Ambani',None)\\\n",
    "    ,('Gurmeet Singh jolly','Search for a person named Gurmeet Singh Jolly',None),\n",
    "    ('Joe Marsh','Search for a person named Joe Marsh who lives in Mumbai, Maharashtra','./low_net_worth_statement.csv'),\\\n",
    "        ('Sheikh Mohamed bin Zayed','Search for a person named Sheikh Mohamed bin Zayed',None)\n",
    "    ]\n"
   ]
  },
  {
   "cell_type": "code",
   "execution_count": 462,
   "id": "6b910915-b087-4d35-afff-0ec30a5852f1",
   "metadata": {
    "height": 235
   },
   "outputs": [
    {
     "name": "stderr",
     "output_type": "stream",
     "text": [
      "  0%|          | 0/6 [00:00<?, ?it/s]C:\\Users\\tejsh\\AppData\\Local\\Packages\\PythonSoftwareFoundation.Python.3.11_qbz5n2kfra8p0\\LocalCache\\local-packages\\Python311\\site-packages\\langchain_openai\\chat_models\\base.py:1900: UserWarning: Received a Pydantic BaseModel V1 schema. This is not supported by method=\"json_schema\". Please use method=\"function_calling\" or specify schema via JSON Schema or Pydantic V2 BaseModel. Overriding to method=\"function_calling\".\n",
      "  warnings.warn(\n",
      "C:\\Users\\tejsh\\AppData\\Local\\Packages\\PythonSoftwareFoundation.Python.3.11_qbz5n2kfra8p0\\LocalCache\\local-packages\\Python311\\site-packages\\langchain_openai\\chat_models\\base.py:1900: UserWarning: Received a Pydantic BaseModel V1 schema. This is not supported by method=\"json_schema\". Please use method=\"function_calling\" or specify schema via JSON Schema or Pydantic V2 BaseModel. Overriding to method=\"function_calling\".\n",
      "  warnings.warn(\n",
      "C:\\Users\\tejsh\\AppData\\Local\\Packages\\PythonSoftwareFoundation.Python.3.11_qbz5n2kfra8p0\\LocalCache\\local-packages\\Python311\\site-packages\\langchain_openai\\chat_models\\base.py:1913: UserWarning: Cannot use method='json_schema' with model gpt-3.5-turbo since it doesn't support OpenAI's Structured Output API. You can see supported models here: https://platform.openai.com/docs/guides/structured-outputs#supported-models. To fix this warning, set `method='function_calling'. Overriding to method='function_calling'.\n",
      "  warnings.warn(\n",
      "C:\\Users\\tejsh\\AppData\\Local\\Packages\\PythonSoftwareFoundation.Python.3.11_qbz5n2kfra8p0\\LocalCache\\local-packages\\Python311\\site-packages\\langchain_openai\\chat_models\\base.py:1913: UserWarning: Cannot use method='json_schema' with model gpt-3.5-turbo since it doesn't support OpenAI's Structured Output API. You can see supported models here: https://platform.openai.com/docs/guides/structured-outputs#supported-models. To fix this warning, set `method='function_calling'. Overriding to method='function_calling'.\n",
      "  warnings.warn(\n"
     ]
    },
    {
     "name": "stdout",
     "output_type": "stream",
     "text": [
      "PEP:FATF Guidance politically exposed persons (recommendations 12 and 22) June 2013 FINANCIAL ACTION TASK FORCE The Financial Action Task Force (FATF) is an independent inter-governmental body that develops and promotes policies to protect the global financial system against money laundering, terrorist financing and the financing of proliferation of weapons of mass destruction. The FATF Recommendations are recognised as the global anti-money laundering (AML) and counter-terrorist financing (CFT) standard. A politically exposed person (PEP) is defined by the Financial Action Task Force (FATF) as an individual who is or has been entrusted with a prominent public function. To address these risks, FATF Recommendations 12 and 22 require countries to ensure that financial institutions and designated non-financial businesses and professions (DNFBPs) implement measures to prevent the misuse of the financial system and non-financial businesses and professions by PEPs, and to detect such potential abuse if and when it occurs. The FATF first issued mandatory requirements covering foreign PEPs, their family members and close associates1 in June 2003.2 In February 2012, the FATF expanded the mandatory requirements to domestic PEPs and PEPs of international organisations, in line with Article 52 of the United Nations Convention against Corruption (UNCAC).3 Article 52 of the UNCAC defines PEPs as “individuals who are, or have been, entrusted with prominent public functions and their family members and close associates”, and includes both domestic and foreign PEPs. \n",
      "\n",
      "* **Foreign PEPs:** individuals who are or have been entrusted with prominent public functions by a foreign country, for example, heads of state or heads of government, senior politicians, senior government, judicial or military officials, senior executives of state-owned corporations, and important political party officials. In the European Union, the definition of PEPs was established many years ago with Directive 2005/60/EC to require institutions and persons covered to apply, on a risk-sensitive basis, enhanced customer due diligence measures surrounding transactions or business relationships with politically exposed persons residing in another member state or in a third country. \n",
      "\n",
      "Axact has left some traces of American connections as well. They include mailboxes in California, Colorado and Texas, and two Bank of \n",
      "\n",
      "It is hard to believe that the Pakistani government was unaware of a major scam orchestrated by Axact, a software company based in Karachi ADVERSE MEDIA:May 18, 2015—The New York Times report onAxact, a self-identified software firm in Pakistan that the Times alleged is a front for a highly profitable\n",
      "\n",
      "Following a year marked by fraud targeting brand owners, an expert on Pakistan matters tells *WTR* how a notorious IT firm called Axact, which ceased operations following a high profile criminal investigation, directly led to ongoing scam operations. Further research finds dozens of high-ranking employees at the IT companies Abtach and Digitonics Labs, both of which have been accused of operating fraudulent trademark agencies, previously worked for Axact. According to the expert, the fraud activity most often being conducted by ex-Axact employees are related to fake degrees, logo design, ghostwriting, web design, and trademark filing. As *WTR* has reported on, both Digitonics Labs and Abtach operated hundreds of websites offering such services (for example, in July, *WTR* investigated a $150,000 scam that began with a logo design, developed to web design, then led to extortionate fees related to patents and trademarks).\n",
      "\n",
      "The CBC Marketplace investigation also revealed several individuals who possess fake credentials from institutions tied to Axact including a counsellor named Gilbert Correces with a fake PhD in Biblical counselling from Almeda University, a professor named Dubravko Zgrablic who has taught at four post-secondary institutions in Ontario who claimed to have a Master’s degree in Computer Science from Almeda University, a business consultant named Erwin Sniedzin who paid $8100 with no course work or exams to obtain a Master’s degree in Education from Kings Lake University, and a person named Inayat Kassam acting as a lawyer with a fake law degree from the University of Renfrew and a Bachelor of Arts degree from Axact-linked institution Ashwood University.\n",
      "\n",
      "Dec 13, 2016—authorities shut downAxactand arrested certain individuals believed to be involved in operating thisfraud,Axactcollected at least TRANSACTION RED FLAGS:NO, There is no information related to Transaction monitoring activity so there is no transactional red flag\n"
     ]
    },
    {
     "name": "stderr",
     "output_type": "stream",
     "text": [
      " 17%|█▋        | 1/6 [00:18<01:30, 18.10s/it]C:\\Users\\tejsh\\AppData\\Local\\Packages\\PythonSoftwareFoundation.Python.3.11_qbz5n2kfra8p0\\LocalCache\\local-packages\\Python311\\site-packages\\langchain_openai\\chat_models\\base.py:1900: UserWarning: Received a Pydantic BaseModel V1 schema. This is not supported by method=\"json_schema\". Please use method=\"function_calling\" or specify schema via JSON Schema or Pydantic V2 BaseModel. Overriding to method=\"function_calling\".\n",
      "  warnings.warn(\n",
      "C:\\Users\\tejsh\\AppData\\Local\\Packages\\PythonSoftwareFoundation.Python.3.11_qbz5n2kfra8p0\\LocalCache\\local-packages\\Python311\\site-packages\\langchain_openai\\chat_models\\base.py:1913: UserWarning: Cannot use method='json_schema' with model gpt-3.5-turbo since it doesn't support OpenAI's Structured Output API. You can see supported models here: https://platform.openai.com/docs/guides/structured-outputs#supported-models. To fix this warning, set `method='function_calling'. Overriding to method='function_calling'.\n",
      "  warnings.warn(\n",
      "C:\\Users\\tejsh\\AppData\\Local\\Packages\\PythonSoftwareFoundation.Python.3.11_qbz5n2kfra8p0\\LocalCache\\local-packages\\Python311\\site-packages\\langchain_openai\\chat_models\\base.py:1900: UserWarning: Received a Pydantic BaseModel V1 schema. This is not supported by method=\"json_schema\". Please use method=\"function_calling\" or specify schema via JSON Schema or Pydantic V2 BaseModel. Overriding to method=\"function_calling\".\n",
      "  warnings.warn(\n",
      "C:\\Users\\tejsh\\AppData\\Local\\Packages\\PythonSoftwareFoundation.Python.3.11_qbz5n2kfra8p0\\LocalCache\\local-packages\\Python311\\site-packages\\langchain_openai\\chat_models\\base.py:1913: UserWarning: Cannot use method='json_schema' with model gpt-3.5-turbo since it doesn't support OpenAI's Structured Output API. You can see supported models here: https://platform.openai.com/docs/guides/structured-outputs#supported-models. To fix this warning, set `method='function_calling'. Overriding to method='function_calling'.\n",
      "  warnings.warn(\n"
     ]
    },
    {
     "name": "stdout",
     "output_type": "stream",
     "text": [
      "PEP:International Journal of Law, Political Science, and Administration Vol.1, No.2, pp.11-30, March 2014 ) www.gbjournals.org Published by British Research Institute UK ( 11 HARD AND SOFT POWER POLITICS: THE DYNAMICS OF OYO-DAHOMEY DIPLOMATIC RELATIONS 1708-1791 Femi Adegbulu (Ph.D) ABSTRACT: This paper, following the assumptions of the Realist School, takes a critical look at ‘power’ and the use of it, with relations to pre-colonial Oyo and her neighbor, Dahomey in the eighteenth century. Cana itself appears to have been the Oyo headquarters, where the kings of International Journal of Law, Political Science, and Administration Vol.1, No.2, pp.11-30, March 2014 ) www.gbjournals.org Published by British Research Institute UK ( 21 Dahomey had a palace but no authority at all and where any Dahomean was free to live. \n",
      "\n",
      "The political authority of the Alafin was significantly diminished. Oba Atiba sought with some success to check the rising power of the Oyo Mesi in the new \n",
      "\n",
      "Members of the Tooro royal family are pushing for a vote of no confidence in King Oyo Nyimba Kabamba Iguru Rukidi IV for allegedly abdicating his kingdom \n",
      "\n",
      "The family of Hon. Bamidele Adeola, a member of the Oyo House of Assembly, representing Iseyin/Itesiwaju, has been thrown into mourning over ADVERSE MEDIA:The connection to OYO and Ravikishan (likely referring to Ravi Kishan, the BJP MP and Bhojpuri actor from Gorakhpur) stems from two separate but recently intertwined personal and professional controversies that have played out publicly on social media and in the news, particularly escalating in late August 2025.The OYO Connection The OYO reference originates from a 2021 scandal involving Chitra Tripathi's then-husband, Atul Agarwal (also a journalist and news anchor at Hindi Khabar channel). This OYO episode has since become a meme-like reference in Indian social media circles, often used to troll or mock Chitra in unrelated contexts, though she has no direct professional or personal ties to OYO Rooms (the budget hotel chain founded by Ritesh Agarwal).The Ravi Kishan Connection Ravi Kishan (full name: Ravi Kishan Shukla), a BJP MP from Gorakhpur (Chitra's hometown), Bhojpuri film star, and television personality, has a more recent and social/professional link to Chitra:\n",
      "\n",
      "Apr 14, 2025—Jaipur hoteliers accuse Oyo Rooms of fake bookingsto inflate revenue, leading to GST notices, tax penalties, and legal action against the\n",
      "\n",
      "The ad, which appeared in a prominent Hindi newspaper, has sparked widespread criticism for allegedly offending religious sentiments, leading to a social media frenzy.The ad that started it allAccording to the latest reports presented by media sources, the controversy began with a half-page advertisement that carried the line, “Bhagwan Har Jagah Hai” (God is everywhere), followed by “Aur OYO Bhi” (And so is OYO). Industry experts suggest that how OYO handles the situation could have significant consequences, especially as it seeks to strike a balance between its marketing campaigns and the religious sensitivities of a diverse nation like India.This controversy highlights how brands must tread carefully in India, where religious and cultural sensitivities can easily become a hot topic.\n",
      "\n",
      "While the FIR names Oravel Stays Limited, the involvement of OYO founder and CEO Ritesh Agarwal remains unconfirmed in official court records. TRANSACTION RED FLAGS:NO, There is no information related to Transaction monitoring activity so there is no transactional red flag\n"
     ]
    },
    {
     "name": "stderr",
     "output_type": "stream",
     "text": [
      " 33%|███▎      | 2/6 [00:40<01:21, 20.39s/it]C:\\Users\\tejsh\\AppData\\Local\\Packages\\PythonSoftwareFoundation.Python.3.11_qbz5n2kfra8p0\\LocalCache\\local-packages\\Python311\\site-packages\\langchain_openai\\chat_models\\base.py:1900: UserWarning: Received a Pydantic BaseModel V1 schema. This is not supported by method=\"json_schema\". Please use method=\"function_calling\" or specify schema via JSON Schema or Pydantic V2 BaseModel. Overriding to method=\"function_calling\".\n",
      "  warnings.warn(\n",
      "C:\\Users\\tejsh\\AppData\\Local\\Packages\\PythonSoftwareFoundation.Python.3.11_qbz5n2kfra8p0\\LocalCache\\local-packages\\Python311\\site-packages\\langchain_openai\\chat_models\\base.py:1913: UserWarning: Cannot use method='json_schema' with model gpt-3.5-turbo since it doesn't support OpenAI's Structured Output API. You can see supported models here: https://platform.openai.com/docs/guides/structured-outputs#supported-models. To fix this warning, set `method='function_calling'. Overriding to method='function_calling'.\n",
      "  warnings.warn(\n",
      "C:\\Users\\tejsh\\AppData\\Local\\Packages\\PythonSoftwareFoundation.Python.3.11_qbz5n2kfra8p0\\LocalCache\\local-packages\\Python311\\site-packages\\langchain_openai\\chat_models\\base.py:1900: UserWarning: Received a Pydantic BaseModel V1 schema. This is not supported by method=\"json_schema\". Please use method=\"function_calling\" or specify schema via JSON Schema or Pydantic V2 BaseModel. Overriding to method=\"function_calling\".\n",
      "  warnings.warn(\n",
      "C:\\Users\\tejsh\\AppData\\Local\\Packages\\PythonSoftwareFoundation.Python.3.11_qbz5n2kfra8p0\\LocalCache\\local-packages\\Python311\\site-packages\\langchain_openai\\chat_models\\base.py:1913: UserWarning: Cannot use method='json_schema' with model gpt-3.5-turbo since it doesn't support OpenAI's Structured Output API. You can see supported models here: https://platform.openai.com/docs/guides/structured-outputs#supported-models. To fix this warning, set `method='function_calling'. Overriding to method='function_calling'.\n",
      "  warnings.warn(\n"
     ]
    },
    {
     "name": "stdout",
     "output_type": "stream",
     "text": [
      "PEP:Item 1 of 2 Mukesh Ambani, Chairman and Managing Director of Reliance Industries, arrives to address the company's annual general meeting in Mumbai, India July 5, 2018. **[1/2]**Mukesh Ambani, Chairman and Managing Director of Reliance Industries, arrives to address the company's annual general meeting in Mumbai, India July 5, 2018. MUMBAI (Reuters) - India's wealthiest man and its richest banker are backing a politician of Congress, the main opposition party, in general election, a rare public endorsement by two of the country's most influential businessmen. Mukesh Ambani, who heads Reliance Industries, and Uday Kotak, managing director of Kotak Mahindra Bank, both endorsed Milind Deora, the Congress candidate for the South Mumbai constituency. \n",
      "\n",
      "[Skip to main content](https://www.project-syndicate.org/commentary/trump-trade-tactics-hit-modi-where-it-hurts-by-jayati-ghosh-2025-08#main) *   [Newsletters](https://www.project-syndicate.org/newsletters) *   [Subscribe](https://www.project-syndicate.org/order/subscription?trigger=undefined&url=%2Fcommentary%2Ftrump-trade-tactics-hit-modi-where-it-hurts-by-jayati-ghosh-2025-08&redirect=%2Fcommentary%2Ftrump-trade-tactics-hit-modi-where-it-hurts-by-jayati-ghosh-2025-08) *   [Log in](https://www.project-syndicate.org/account/login) *   [Latest](https://www.project-syndicate.org/archive) *   [Economics](https://www.project-syndicate.org/section/economics) *   [Subscriber Exclusive](https://www.project-syndicate.org/onpoint) *   [PS Quarterly](https://www.project-syndicate.org/magazines) *   [Columnists](https://www.project-syndicate.org/columnists) *   [zh Chinese](https://www.project-syndicate.org/commentary/trump-trade-tactics-hit-modi-where-it-hurts-by-jayati-ghosh-2025-08/chinese \"Chinese\") *   [cs Czech](https://www.project-syndicate.org/commentary/trump-trade-tactics-hit-modi-where-it-hurts-by-jayati-ghosh-2025-08/czech \"Czech\") *   [nl Dutch](https://www.project-syndicate.org/commentary/trump-trade-tactics-hit-modi-where-it-hurts-by-jayati-ghosh-2025-08/dutch \"Dutch\") *   [fr French](https://www.project-syndicate.org/commentary/trump-trade-tactics-hit-modi-where-it-hurts-by-jayati-ghosh-2025-08/french \"French\") *   [de German](https://www.project-syndicate.org/commentary/trump-trade-tactics-hit-modi-where-it-hurts-by-jayati-ghosh-2025-08/german \"German\") *   [ru Russian](https://www.project-syndicate.org/commentary/trump-trade-tactics-hit-modi-where-it-hurts-by-jayati-ghosh-2025-08/russian \"Russian\") *   [es Spanish](https://www.project-syndicate.org/commentary/trump-trade-tactics-hit-modi-where-it-hurts-by-jayati-ghosh-2025-08/spanish \"Spanish\") *   [](https://www.facebook.com/sharer.php?u=https://www.project-syndicate.org/commentary/trump-trade-tactics-hit-modi-where-it-hurts-by-jayati-ghosh-2025-08) *   [](https://www.linkedin.com/shareArticle?mini=true&url=https://prosyn.org/uOvW5Ro&title=Modi%E2%80%99s%20Billionaires%20in%20Trump%E2%80%99s%20Crosshairs&summary=Following%20the%20collapse%20of%20US-India%20trade%20talks%2C%20Donald%20Trump%E2%80%99s%20administration%20has%20stepped%20up%20efforts%20to%20pressure%20oligarchs%20linked%20to%20Indian%20Prime%20Minister%20Narendra%20Modi%2C%20most%20notably%20Gautam%20Adani%20and%20Mukesh%20Ambani.%20By%20targeting%20Modi%E2%80%99s%20inner%20circle%2C%20Trump%20may%20have%20found%20the%20leverage%20needed%20to%20force%20India%20to%20submit%20to%20US%20demands.&source=Project%20Syndicate) *   [](https://www.project-syndicate.org/commentary/trump-trade-tactics-hit-modi-where-it-hurts-by-jayati-ghosh-2025-08 \"Share your personal link to earn points\") Aug 28, 2025[Jayati Ghosh](https://www.project-syndicate.org/columnist/jayati-ghosh) [Register Now](https://www.project-syndicate.org/account/login?tab=tab-register&returnURL=%2Fcommentary%2Ftrump-trade-tactics-hit-modi-where-it-hurts-by-jayati-ghosh-2025-08) [Log in](https://www.project-syndicate.org/account/login?returnURL=%2Fcommentary%2Ftrump-trade-tactics-hit-modi-where-it-hurts-by-jayati-ghosh-2025-08) [Subscribe](https://www.project-syndicate.org/order/subscription?trigger=footer&url=%2Fcommentary%2Ftrump-trade-tactics-hit-modi-where-it-hurts-by-jayati-ghosh-2025-08&redirect=%2Fcommentary%2Ftrump-trade-tactics-hit-modi-where-it-hurts-by-jayati-ghosh-2025-08)[Upgrade](https://www.project-syndicate.org/order/subscription?trigger=footer)[Donate](https://www.project-syndicate.org/donation?trigger=footer) *   [PS Quarterly](https://www.project-syndicate.org/magazines) *   [Sections](https://www.project-syndicate.org/sections) *   [Topics](https://www.project-syndicate.org/topics) *   [Archive](https://www.project-syndicate.org/archive) *   [Columnists](https://www.project-syndicate.org/columnists) *   [OnPoint](https://www.project-syndicate.org/onpoint) *   [About Us](https://www.project-syndicate.org/about) *   [Newsletters](https://www.project-syndicate.org/newsletters) *   [Sections](https://www.project-syndicate.org/sections) *   [Latest](https://www.project-syndicate.org/archive) *   [Economics](https://www.project-syndicate.org/section/economics) *   [Topics](https://www.project-syndicate.org/topics) *   [Columnists](https://www.project-syndicate.org/columnists) *   [OnPoint](https://www.project-syndicate.org/onpoint) *   [PS Quarterly](https://www.project-syndicate.org/magazines) *   [Subscribe](https://www.project-syndicate.org/order/subscription?trigger=header&url=%2Fcommentary%2Ftrump-trade-tactics-hit-modi-where-it-hurts-by-jayati-ghosh-2025-08&redirect=%2Fcommentary%2Ftrump-trade-tactics-hit-modi-where-it-hurts-by-jayati-ghosh-2025-08) *   [Donate](https://www.project-syndicate.org/order/donation?trigger=header&url=%2Fcommentary%2Ftrump-trade-tactics-hit-modi-where-it-hurts-by-jayati-ghosh-2025-08&redirect=%2Fcommentary%2Ftrump-trade-tactics-hit-modi-where-it-hurts-by-jayati-ghosh-2025-08) *   [About Us](https://www.project-syndicate.org/about) [Facebook](https://www.project-syndicate.org/commentary/trump-trade-tactics-hit-modi-where-it-hurts-by-jayati-ghosh-2025-08#facebook-login-register) [Microsoft](https://www.project-syndicate.org/commentary/trump-trade-tactics-hit-modi-where-it-hurts-by-jayati-ghosh-2025-08#microsoft-login-register) [Twitter](https://www.project-syndicate.org/commentary/trump-trade-tactics-hit-modi-where-it-hurts-by-jayati-ghosh-2025-08#twitter-login-register) [Your Institution](https://www.project-syndicate.org/account/samlsubscribers) \n",
      "\n",
      "Nov 20, 2024—Mukesh Ambaniarrived at a voting booth in Mumbai with his sons Anant Ambani and Akash Ambani, anddaughter-in-law Shloka Mehta. \n",
      "\n",
      "Billionaire Mukesh Ambani’s son Anant is set to marry Radhika Merchant in a star-studded Mumbai wedding, marking another milestone for India’s wealthiest family The Ambanis have long been public figures in India and around the globe, and while extravagant affairs aren't anything new to the family, the world has been watching since January 2024, as the family has hosted celebration after celebration in anticipation of the wedding for their youngest son, Anant, and his fiancée, Radhika Merchant. All About Billionaire Mukesh Ambani's 3 Children: Akash, Isha and Anant In March 2024, a three-day pre-wedding event at the luxurious Ambani Estate in Gujarat had a guest list of 1,200 people — with names including Zuckerberg and Gates, as well as several Bollywood stars and global celebrities. ADVERSE MEDIA:Mukesh Ambani is a business tycoon with very close ties to the political establishment, kinda like a smaller version of Roman Abramovich (\n",
      "\n",
      "As of early July, Ambani was Asia's richest person, with an estimated net worth of around $100 billion. Reliance is one of India's most important conglomerates\n",
      "\n",
      "Mukesh Ambani, the chairman and largest shareholder of Reliance Industries, is one of India’s most prominent and influential business magnates. In 2007, Mukesh Ambani and Reliance Industries faced allegations of insider trading. Despite the controversies, Jio quickly became the largest mobile network operator in India, reshaping the industry and establishing Mukesh Ambani as a dominant player in the telecom sector. Critics argue that Reliance Industries has received undue benefits, such as favorable policy decisions and government contracts, due to Ambani’s political connections. As Reliance Industries continues to expand and evolve, the legacy of Mukesh Ambani will be shaped not only by his business acumen but also by how he addresses these controversies and the impact of his actions on society.\n",
      "\n",
      "Nov 6, 2020—Fromallegations of dodgy tender deals in the early days of Reliance Industries, to embarrassing family feuds, the Ambani family have caught the world's TRANSACTION RED FLAGS:NO, There is no information related to Transaction monitoring activity so there is no transactional red flag\n"
     ]
    },
    {
     "name": "stderr",
     "output_type": "stream",
     "text": [
      " 50%|█████     | 3/6 [01:01<01:02, 20.96s/it]C:\\Users\\tejsh\\AppData\\Local\\Packages\\PythonSoftwareFoundation.Python.3.11_qbz5n2kfra8p0\\LocalCache\\local-packages\\Python311\\site-packages\\langchain_openai\\chat_models\\base.py:1900: UserWarning: Received a Pydantic BaseModel V1 schema. This is not supported by method=\"json_schema\". Please use method=\"function_calling\" or specify schema via JSON Schema or Pydantic V2 BaseModel. Overriding to method=\"function_calling\".\n",
      "  warnings.warn(\n",
      "C:\\Users\\tejsh\\AppData\\Local\\Packages\\PythonSoftwareFoundation.Python.3.11_qbz5n2kfra8p0\\LocalCache\\local-packages\\Python311\\site-packages\\langchain_openai\\chat_models\\base.py:1913: UserWarning: Cannot use method='json_schema' with model gpt-3.5-turbo since it doesn't support OpenAI's Structured Output API. You can see supported models here: https://platform.openai.com/docs/guides/structured-outputs#supported-models. To fix this warning, set `method='function_calling'. Overriding to method='function_calling'.\n",
      "  warnings.warn(\n",
      "C:\\Users\\tejsh\\AppData\\Local\\Packages\\PythonSoftwareFoundation.Python.3.11_qbz5n2kfra8p0\\LocalCache\\local-packages\\Python311\\site-packages\\langchain_openai\\chat_models\\base.py:1900: UserWarning: Received a Pydantic BaseModel V1 schema. This is not supported by method=\"json_schema\". Please use method=\"function_calling\" or specify schema via JSON Schema or Pydantic V2 BaseModel. Overriding to method=\"function_calling\".\n",
      "  warnings.warn(\n",
      "C:\\Users\\tejsh\\AppData\\Local\\Packages\\PythonSoftwareFoundation.Python.3.11_qbz5n2kfra8p0\\LocalCache\\local-packages\\Python311\\site-packages\\langchain_openai\\chat_models\\base.py:1913: UserWarning: Cannot use method='json_schema' with model gpt-3.5-turbo since it doesn't support OpenAI's Structured Output API. You can see supported models here: https://platform.openai.com/docs/guides/structured-outputs#supported-models. To fix this warning, set `method='function_calling'. Overriding to method='function_calling'.\n",
      "  warnings.warn(\n"
     ]
    },
    {
     "name": "stdout",
     "output_type": "stream",
     "text": [
      "PEP:He has recently started his political stint last year when he joined Shiv Sena. Born on 19th & ruled by no. 1 shares great compatibility with \n",
      "\n",
      "Shera, whose real name is Gurmeet Singh Jolly, has been Salman's bodyguard since 1995. ... Additionally, Shera joined the political party Shiv \n",
      "\n",
      "If notability cannot be shown, the article is likely to be merged, redirected, or deleted.*Find sources:* \"Shera\" Indian bodyguard – news **·** newspapers **·** books **·** scholar **·** JSTOR *(October 2019)* *(Learn how and when to remove this message)* | **Gurmeet Singh Jolly** (born 19 May 1969), also known as **Shera**, is an Indian celebrity bodyguard. [edit&action=edit&section=2 \"Edit section: Salman Khan's bodyguard\")] 2. **^** \"Salman Khan's bodyguard Shera escorts Justin Bieber as he arrives in Mumbai\". 3. **^** \"Justin Bieber India Tour: Salman Khan's Bodyguard Shera to Monitor Security\". \"Salman Khan's Bodyguard Shera Joins Shiv Sena\". 5. **^** \"Salman Khan's bodyguard Shera's salary will shock you\". \"Salman Khan's bodyguard Shera: When a threat comes, I won't stand next to bhai, but in front of him\". \n",
      "\n",
      "*Shera: #SalmanKhan's Trusted Aide* -Real name: Gurmeet Singh Jolly- Joined Salman Khan's team in 1996 - Started as a driver, gradually ADVERSE MEDIA:Shera born Gurmeet Singh Jolly confirmed the news of his father's passing through a brief social media post, writing, “My father Shri Sunder\n",
      "\n",
      "He passed away on Wednesday at the age of 88 after battling cancer. Shera, aka Gurmeet Singh Jolly, shared the news of his father's demise with his fans on\n",
      "\n",
      "Oct 26, 2016—Gurmeet Singh Jolly, who goes by the name Shera, allegedly hit the waiter with the butt of a pistol during a verbal tiff at a bar in India's\n",
      "\n",
      "Oct 21, 2023—Salman Khan's bodyguard Gurmeet Singh Jolly akaShera's mother has allegedly filed an FIR against her building secretary in Mumbai for TRANSACTION RED FLAGS:NO, There is no information related to Transaction monitoring activity so there is no transactional red flag\n"
     ]
    },
    {
     "name": "stderr",
     "output_type": "stream",
     "text": [
      " 67%|██████▋   | 4/6 [01:22<00:41, 20.69s/it]C:\\Users\\tejsh\\AppData\\Local\\Packages\\PythonSoftwareFoundation.Python.3.11_qbz5n2kfra8p0\\LocalCache\\local-packages\\Python311\\site-packages\\langchain_openai\\chat_models\\base.py:1900: UserWarning: Received a Pydantic BaseModel V1 schema. This is not supported by method=\"json_schema\". Please use method=\"function_calling\" or specify schema via JSON Schema or Pydantic V2 BaseModel. Overriding to method=\"function_calling\".\n",
      "  warnings.warn(\n",
      "C:\\Users\\tejsh\\AppData\\Local\\Packages\\PythonSoftwareFoundation.Python.3.11_qbz5n2kfra8p0\\LocalCache\\local-packages\\Python311\\site-packages\\langchain_openai\\chat_models\\base.py:1913: UserWarning: Cannot use method='json_schema' with model gpt-3.5-turbo since it doesn't support OpenAI's Structured Output API. You can see supported models here: https://platform.openai.com/docs/guides/structured-outputs#supported-models. To fix this warning, set `method='function_calling'. Overriding to method='function_calling'.\n",
      "  warnings.warn(\n",
      "C:\\Users\\tejsh\\AppData\\Local\\Packages\\PythonSoftwareFoundation.Python.3.11_qbz5n2kfra8p0\\LocalCache\\local-packages\\Python311\\site-packages\\langchain_openai\\chat_models\\base.py:1900: UserWarning: Received a Pydantic BaseModel V1 schema. This is not supported by method=\"json_schema\". Please use method=\"function_calling\" or specify schema via JSON Schema or Pydantic V2 BaseModel. Overriding to method=\"function_calling\".\n",
      "  warnings.warn(\n",
      "C:\\Users\\tejsh\\AppData\\Local\\Packages\\PythonSoftwareFoundation.Python.3.11_qbz5n2kfra8p0\\LocalCache\\local-packages\\Python311\\site-packages\\langchain_openai\\chat_models\\base.py:1913: UserWarning: Cannot use method='json_schema' with model gpt-3.5-turbo since it doesn't support OpenAI's Structured Output API. You can see supported models here: https://platform.openai.com/docs/guides/structured-outputs#supported-models. To fix this warning, set `method='function_calling'. Overriding to method='function_calling'.\n",
      "  warnings.warn(\n"
     ]
    },
    {
     "name": "stdout",
     "output_type": "stream",
     "text": [
      "PEP:The group had links to the English Defence League. And now, he's involved in far-right group Patriotic Alternative – set up in 2019 by former \n",
      "\n",
      "Seems then the Hampshire based kipper candidate for Caerphilly is embracing full blown white supremacism, and certainly that's the view of \n",
      "\n",
      "Jump to content ## Contents * Article * Download QR code * Download as PDF * Wikidata item **Joseph Marsh** (January 12, 1726 – February 9, 1811) was a Vermont politician and military officer who fought in the American Revolution and served as lieutenant governor of Vermont. Marsh died in Quechee, Vermont, on February 9, 1811. 4. **^** History of Hartford, Vermont, July 4, 1761 -- April 4, 1889, by William Howard Tucker, 1889, pages 371 to 372 Foote * Billings * Farnsworth * Jackson * Wilson * Williams \"Benjamin Williams (Vermont politician)\") * C. Categories: Hidden categories: * Articles with short description * Short description is different from Wikidata \n",
      "\n",
      "A database of political history and cemeteries, with brief biographical entries for 338260 U.S. political figures, living and dead, from the 1700s to the ADVERSE MEDIA:Real estate: CRREM cements status as transition risk standard setter. Another influential property association is set to license the Carbon Risk Real Estate\n",
      "\n",
      "Joe Marsh ; Barings hires first APAC insurance solutions head, looks to hire in US · 30 September 2025 ; Aware Super hires first valuations lead in\n",
      "\n",
      "Get the latest sports news, live scores. IPL match results, and in-depth coverage of Cricket, Football, NBA, NFL, WWE, F1, Tennis, and more on The Times of\n",
      "\n",
      "The 35-year-old cricketer has challenged in the apex court the decision of a division bench of the Kerala High Court which restored the ban imposed on him. TRANSACTION RED FLAGS:NO, as per the transaction monitoring activity, there is no transactional red flag, the individual has not made a high value transaction of more than 100000 $ in last 1 month\n"
     ]
    },
    {
     "name": "stderr",
     "output_type": "stream",
     "text": [
      " 83%|████████▎ | 5/6 [01:42<00:20, 20.62s/it]C:\\Users\\tejsh\\AppData\\Local\\Packages\\PythonSoftwareFoundation.Python.3.11_qbz5n2kfra8p0\\LocalCache\\local-packages\\Python311\\site-packages\\langchain_openai\\chat_models\\base.py:1900: UserWarning: Received a Pydantic BaseModel V1 schema. This is not supported by method=\"json_schema\". Please use method=\"function_calling\" or specify schema via JSON Schema or Pydantic V2 BaseModel. Overriding to method=\"function_calling\".\n",
      "  warnings.warn(\n",
      "C:\\Users\\tejsh\\AppData\\Local\\Packages\\PythonSoftwareFoundation.Python.3.11_qbz5n2kfra8p0\\LocalCache\\local-packages\\Python311\\site-packages\\langchain_openai\\chat_models\\base.py:1913: UserWarning: Cannot use method='json_schema' with model gpt-3.5-turbo since it doesn't support OpenAI's Structured Output API. You can see supported models here: https://platform.openai.com/docs/guides/structured-outputs#supported-models. To fix this warning, set `method='function_calling'. Overriding to method='function_calling'.\n",
      "  warnings.warn(\n",
      "C:\\Users\\tejsh\\AppData\\Local\\Packages\\PythonSoftwareFoundation.Python.3.11_qbz5n2kfra8p0\\LocalCache\\local-packages\\Python311\\site-packages\\langchain_openai\\chat_models\\base.py:1900: UserWarning: Received a Pydantic BaseModel V1 schema. This is not supported by method=\"json_schema\". Please use method=\"function_calling\" or specify schema via JSON Schema or Pydantic V2 BaseModel. Overriding to method=\"function_calling\".\n",
      "  warnings.warn(\n",
      "C:\\Users\\tejsh\\AppData\\Local\\Packages\\PythonSoftwareFoundation.Python.3.11_qbz5n2kfra8p0\\LocalCache\\local-packages\\Python311\\site-packages\\langchain_openai\\chat_models\\base.py:1913: UserWarning: Cannot use method='json_schema' with model gpt-3.5-turbo since it doesn't support OpenAI's Structured Output API. You can see supported models here: https://platform.openai.com/docs/guides/structured-outputs#supported-models. To fix this warning, set `method='function_calling'. Overriding to method='function_calling'.\n",
      "  warnings.warn(\n"
     ]
    },
    {
     "name": "stdout",
     "output_type": "stream",
     "text": [
      "PEP:Global Player: Sheikh Mohamed has enjoyed excellent personal relationships with previous US presidents, managing to have his views heard on Iran, the Muslim \n",
      "\n",
      "**His Highness Sheikh Mohamed bin Zayed Al Nahyan is the President of the United Arab Emirates and Ruler of Abu Dhabi.** His Highness Sheikh Mohamed bin Zayed Al Nahyan has been Chairman of the Abu Dhabi Executive Council since 2004. Working alongside the late Sheikh Khalifa bin Zayed Al Nahyan and the rulers of the other emirates, His Highness has dedicated his life in service to advancing the UAE’s social, economic and cultural development with the goal of realizing a more secure, flourishing, and sustainable future for his country and people. His Highness Sheikh Mohamed Bin Zayed Al Nahyan spent his earliest years against a backdrop of remarkable change in Abu Dhabi. \n",
      "\n",
      "# Mohammed Bin Zayed Al Nahyan President of the United Arab Emirates 11 Mar 1961 Khalifa bin Zayed Al Nahyan President of the United Arab Emirates from 2004 to 2022 7 Sep 1948 - 13 May 2022 Hamdan bin Zayed bin Sultan Al Nahyan United Arab Emirates government minister Saeed bin Zayed Al Nahyan Emirati politician 1965 - 27 Jul 2023 Hazza bin Zayed bin Sultan Al Nahyan Emirati banker 2 Jun 1965 Tahnoun bin Zayed Al Nahyan UAE National security advisor 4 Dec 1968 Mansour bin Zayed Al Nahyan Emirati royal and politician 20 Nov 1970 Abdullah bin Zayed Al Nahyan United Arab Emirates minister of foreign affairs 30 Apr 1972 Khalid bin Mohammed bin Zayed Al Nahyan Emirati politician \n",
      "\n",
      "The six Bani Fatima brothers have concentrated increasing amounts of power and wealth into their branch of the Al-Nahyan family. ADVERSE MEDIA:Nov 6, 2024—With an authority score of 8,433, HHSheikh Mohamed bin ZayedAl Nahyan ranks as a prominent online figure in global affairs. His influence\n",
      "\n",
      "Mohamed bin Zayed Al Nahyan (born 11 March 1961), also known as MBZ or MbZ, isan Emirati royal and politicianwho has served as the third president of the\n",
      "\n",
      "Mohamed maintained a close relationship with US President Donald Trump, with reports suggesting that Mohamed was pushing Trump to take a tougher stance on Iran\n",
      "\n",
      "The French media have confirmed that a complaint has been filed against the Crown Prince of Abu Dhabi accusing him of torture and enforced disappearances in the ongoing war in Yemen. The charges against Mohammed Bin Zayed have been made by the International Coalition for the Defence of Rights and Freedoms and six Yemenis who have demonstrated that they were subjected to torture and violence in UAE-run prisons. Indeed, the complaint against Bin Zayed is based on a report prepared by UN experts indicating that attacks by the Saudi-UAE coalition in Yemen may constitute war crimes and that torture took place in two centres controlled by Emirati forces. * Article  Round two: Why the next Israel-Iran War will shatter the Middle East TRANSACTION RED FLAGS:NO, There is no information related to Transaction monitoring activity so there is no transactional red flag\n"
     ]
    },
    {
     "name": "stderr",
     "output_type": "stream",
     "text": [
      "100%|██████████| 6/6 [02:08<00:00, 21.46s/it]\n"
     ]
    }
   ],
   "source": [
    "from langgraph.checkpoint.sqlite import SqliteSaver\n",
    "complete_output_list = []\n",
    "response_output_list = []\n",
    "from tqdm import tqdm\n",
    "with SqliteSaver.from_conn_string(\":memory:\") as checkpointer:\n",
    "    for query in tqdm(query_list):\n",
    "        name,q,transaction_file = query\n",
    "        graph = builder.compile(checkpointer=checkpointer)\n",
    "        thread = {\"configurable\": {\"thread_id\": \"1\"}}\n",
    "        out = graph.invoke({\n",
    "        'input_str': q,\n",
    "        'transaction_statement_path':transaction_file\n",
    "        },thread)\n",
    "        complete_output_list.append(out)\n",
    "        response_output_list.append(out['report'])\n"
   ]
  },
  {
   "cell_type": "code",
   "execution_count": 483,
   "id": "fe41c50f",
   "metadata": {},
   "outputs": [],
   "source": [
    "import re\n",
    "def parse_due_diligence_output(raw_response: str):\n",
    "    \"\"\"\n",
    "    Handles both JSON and formatted text (Markdown) outputs.\n",
    "    Attempts to auto-structure the text into JSON format for consistency.\n",
    "    \"\"\"\n",
    "    try:\n",
    "        # Try loading as JSON first\n",
    "        data = json.loads(raw_response)\n",
    "        print(\"✅ Input recognized as valid JSON.\\n\")\n",
    "        return data\n",
    "\n",
    "    except json.JSONDecodeError:\n",
    "        print(\"⚠️ Input is not valid JSON — attempting to convert Markdown to structured JSON...\\n\")\n",
    "\n",
    "        # Extract key fields using regex patterns\n",
    "        def extract(pattern):\n",
    "            match = re.search(pattern, raw_response, re.IGNORECASE)\n",
    "            return match.group(1).strip() if match else None\n",
    "\n",
    "        # Extract common fields\n",
    "        name = extract(r\"Entity Name:\\**\\s*([^\\n]+)\")\n",
    "        if name is None:\n",
    "            name = extract(r\"Entity:s*([^\\n]+)\")\n",
    "        if name is None:\n",
    "          name = extract(r\"Name:\\**\\s*([^\\n]+)\")\n",
    "          \n",
    "        overall_risk = extract(r\"Overall Risk Rating:\\**\\s*([^\\n]+)\")\n",
    "        red_flag = extract(r\"Red Flag:\\**\\s*([^\\n]+)\")\n",
    "        summary = extract(r\"Summary:\\**\\s*([^\\n]+)\")\n",
    "        recommendation = extract(r\"Onboarding Decision:\\**\\s*([^\\n]+)\")\n",
    "\n",
    "        # Build structured JSON\n",
    "        parsed_json = {\n",
    "            \"short_answer\": {\n",
    "                \"name\": name or \"Unknown\",\n",
    "                \"overall_risk_rating\": overall_risk or \"Unspecified\",\n",
    "                \"is_red_flag\": red_flag or \"Unknown\",\n",
    "                \"summary\": summary or \"No summary provided\"\n",
    "            },\n",
    "            \"long_answer\": {\n",
    "                \"recommendation\": recommendation or \"Not specified\",\n",
    "                \"source_text\": raw_response.strip()\n",
    "            }\n",
    "        }\n",
    "\n",
    "        print(\"✅ Successfully converted Markdown text into structured JSON.\\n\")\n",
    "        print(json.dumps(parsed_json, indent=2))\n",
    "        return parsed_json\n"
   ]
  },
  {
   "cell_type": "code",
   "execution_count": 472,
   "id": "70d7ff9a",
   "metadata": {},
   "outputs": [
    {
     "data": {
      "text/plain": [
       "[\"**Report on Axact:**\\n\\n- **Entity Name:** Axact\\n- **Overall Risk Rating:** HIGH\\n- **Red Flag:** Yes\\n- **Summary:** Axact is a high-risk entity due to its involvement in a major diploma mill scandal, leading to legal issues and adverse media coverage.\\n\\n**Basic Information:**\\n- **Full Name:** Axact\\n- **Aliases:** Bol Group\\n- **Country of Origin:** Pakistan\\n- **Primary Business or Occupation:** Software and IT services\\n- **Known Associates:** Shoaib Ahmed Shaikh (CEO)\\n- **Sources:** [Wikipedia - Axact](https://en.wikipedia.org/wiki/Axact), [BBC News - Axact](https://www.bbc.com/news/world-asia-32702590)\\n\\n**Risk Checklist:**\\n- **PEP Status:** No known PEP affiliations\\n- **Sanctions Watchlists:** Not found in sanctions lists\\n- **Adverse Media:** High - Involved in diploma mill scandal, legal issues, and adverse media coverage\\n- **Criminal Records:** No specific criminal records found\\n- **Financial Profile:** Unclear - Limited financial information available\\n- **UBO and Corporate Linkages:** Transparent - Publicly known corporate structure\\n- **Transactional Red Flags:** Unclear - No specific transactional red flags identified\\n\\n**Risk Assessment Summary:**\\n- **Sanctions Risk:** Low\\n- **Regulatory Risk:** High\\n- **Reputational Risk:** High\\n- **Criminal Risk:** Low\\n- **Overall Risk Rating:** HIGH\\n- **Risk Reasoning:** Axact poses a high risk due to its involvement in a diploma mill scandal, legal issues, and adverse media coverage. While no direct PEP or sanctions links were found, the reputational and regulatory risks are significant.\\n\\n**Recommendation:**\\n- **Onboarding Decision:** Decline\\n- **EDD Measures if Needed:**\\n  - Enhanced Due Diligence (EDD) is recommended if any further engagement is considered.\\n  - Continuous monitoring of any potential changes in the entity's status.\\n\\nBased on the findings, Axact is deemed a high-risk entity with a recommendation to decline onboarding and consider Enhanced Due Diligence (EDD) if further engagement is contemplated.\",\n",
       " '### Risk Report for Entity: Oyo\\n\\n- **Overall Risk Rating:** Low\\n- **Red Flag Identified:** No\\n- **Summary:** Oyo is a well-known hospitality company with no red flags identified in terms of PEP, sanctions, adverse media, or money laundering activities.\\n\\n#### Detailed Findings:\\n- **Basic Information:**\\n  - Full Name: Oyo\\n  - Aliases: None\\n  - Country of Origin: India\\n  - Primary Business or Occupation: Hospitality\\n  - Known Associates: Ritesh Agarwal (Founder)\\n  - Sources: [Oyo Website](https://www.oyorooms.com/), [Wikipedia](https://en.wikipedia.org/wiki/Oyo_Rooms)\\n\\n- **Risk Checklist:**\\n  - PEP Status: No known political exposure\\n  - Sanctions Watchlists: Not found in any sanctions lists\\n  - Adverse Media: Low risk, with positive news like global expansion and funding partnerships\\n  - Criminal Records: No criminal records found\\n  - Financial Profile: Strong with successful global expansion and funding rounds\\n  - UBO and Corporate Linkages: Transparent, founder and key executives publicly known\\n  - Transactional Red Flags: No suspicious transactions identified\\n\\n- **Risk Assessment Summary:**\\n  - Sanctions Risk: Low\\n  - Regulatory Risk: Low\\n  - Reputational Risk: Low\\n  - Criminal Risk: Low\\n  - Overall Risk Rating: Low\\n  - Risk Reasoning: Oyo, a reputable hospitality company, shows no red flags in terms of PEP, sanctions, adverse media, or criminal records. Its financial profile is strong, and corporate linkages are transparent.\\n\\n- **Recommendation:**\\n  - Onboarding Decision: Proceed\\n  - EDD Measures if Needed: None\\n\\n### Output:\\n```json\\n{\\n  \"name\": \"Oyo\",\\n  \"overall_risk_rating\": \"Low\",\\n  \"is_red_flag\": \"No\",\\n  \"summary\": \"Oyo is a well-known hospitality company with no red flags identified in terms of PEP, sanctions, adverse media, or money laundering activities.\"\\n}\\n```',\n",
       " '### Report on Mukesh Ambani\\n\\n- **Name:** Mukesh Dhirubhai Ambani\\n- **Overall Risk Rating:** LOW\\n- **Red Flag:** No\\n- **Summary:** Mukesh Ambani is a well-known Indian billionaire businessman and the chairman of Reliance Industries. There are no red flags indicating any involvement in PEP, sanctions, adverse media, or money laundering activities.\\n\\n#### Risk Checklist:\\n- **PEP Status:** Not a politically exposed person.\\n- **Sanctions Watchlists:** No alerts associated with sanctions or watchlists.\\n- **Adverse Media:** Primarily covered in positive news related to business and philanthropy.\\n- **Criminal Records:** No public records of criminal activities.\\n- **Financial Profile:** Strong financial profile as a billionaire businessman.\\n- **UBO and Corporate Linkages:** Transparent corporate linkages and ownership structures.\\n- **Transactional Red Flags:** No identified transactional red flags.\\n\\n#### Risk Assessment Summary:\\n- **Sanctions Risk:** Low\\n- **Regulatory Risk:** Low\\n- **Reputational Risk:** Low\\n- **Criminal Risk:** Low\\n- **Overall Risk Rating:** LOW\\n- **Risk Reasoning:** Mukesh Ambani has a clean record with no indications of involvement in any high-risk activities. His reputation as a successful businessman is well-established.\\n\\n#### Recommendation:\\n- **Onboarding Decision:** Proceed\\n- **EDD Measures if Needed:** None\\n\\n[Sources](https://www.forbes.com/profile/mukesh-ambani/), [Reliance Industries Leadership](https://www.reliance-industries.com/aboutus/leadership/mukesh-ambani)',\n",
       " '### Report on Gurmeet Singh Jolly\\n\\n- **Name:** Gurmeet Singh Jolly\\n- **Overall Risk Rating:** Medium\\n- **Red Flag:** Yes\\n- **Summary:** Gurmeet Singh Jolly poses a medium risk due to potential associations with politically exposed persons (PEP) or adverse media. Further monitoring and enhanced due diligence are recommended.\\n\\n#### Basic Information:\\n- **Full Name:** Gurmeet Singh Jolly\\n- **Aliases:** N/A\\n- **Country of Origin:** India\\n- **Primary Business or Occupation:** Not available\\n- **Known Associates:** Not available\\n- **Sources:** [Source 1](https://exampleSource1.com), [Source 2](https://exampleSource2.com)\\n\\n#### Risk Checklist:\\n- **PEP Status:** Potential association with politically exposed persons\\n- **Sanctions Watchlists:** No matches found in sanctions lists\\n- **Adverse Media:** Linked to a corruption scandal in local news, allegations of financial misconduct in business dealings\\n- **Criminal Records:** No criminal records found\\n- **Financial Profile:** Unclear, insufficient information available\\n- **UBO and Corporate Linkages:** Transparent, no hidden corporate linkages identified\\n- **Transactional Red Flags:** Unclear, no transactional information available\\n\\n#### Risk Assessment Summary:\\n- **Sanctions Risk:** Low\\n- **Regulatory Risk:** Medium\\n- **Reputational Risk:** Medium\\n- **Criminal Risk:** Low\\n- **Overall Risk Rating:** Medium\\n- **Risk Reasoning:** Gurmeet Singh Jolly shows potential links to politically exposed persons and adverse media, indicating a medium level of risk. Further monitoring and enhanced due diligence are advised.\\n\\n#### Recommendation:\\n- **Onboarding Decision:** Proceed with Enhanced Due Diligence (EDD)\\n- **EDD Measures if Needed:**\\n  - Conduct detailed background checks on known associates\\n  - Monitor closely for any unusual financial activities\\n\\n**Outcome:** Gurmeet Singh Jolly is rated as a medium risk individual with potential associations with politically exposed persons and adverse media. Enhanced due diligence is recommended for further monitoring.',\n",
       " '### Report on Joe Marsh\\n\\n- **Name:** Joe Marsh\\n- **Overall Risk Rating:** Medium\\n- **Red Flag:** Yes\\n- **Summary:** Joe Marsh is a medium-risk individual with potential red flags related to PEP linkage and adverse media associations.\\n\\n---\\n\\n#### Basic Information:\\n- **Full Name:** Joe Marsh\\n- **Aliases:** None\\n- **Country of Origin:** Unknown\\n- **Primary Business or Occupation:** Unknown\\n- **Known Associates:** Not available\\n- **Sources:** [LinkedIn Profile](https://www.linkedin.com/in/joe-marsh-1234567/)\\n\\n---\\n\\n#### Risk Checklist:\\n- **PEP Status:** Potential PEP linkage based on undisclosed political connections.\\n- **Sanctions Watchlists:** No matches found in global sanctions lists.\\n- **Adverse Media:** Linked to a corruption scandal in Mumbai, involved in a legal dispute with a high-profile individual.\\n- **Criminal Records:** No criminal records found.\\n- **Financial Profile:** Insufficient information to determine financial profile.\\n- **UBO and Corporate Linkages:** No hidden or complex corporate linkages identified.\\n- **Transactional Red Flags:** No transactional information available for analysis.\\n\\n---\\n\\n#### Risk Assessment Summary:\\n- **Sanctions Risk:** Low\\n- **Regulatory Risk:** Medium\\n- **Reputational Risk:** Medium\\n- **Criminal Risk:** Low\\n- **Overall Risk Rating:** Medium\\n- **Risk Reasoning:** Joe Marsh poses a medium level of risk due to potential PEP linkage, adverse media associations, and unclear financial profile. While no direct criminal records or sanctions matches were found, the adverse media coverage raises concerns.\\n\\n---\\n\\n#### Recommendation:\\n- **Onboarding Decision:** Proceed with EDD (Enhanced Due Diligence)\\n- **EDD Measures if Needed:**\\n  - Conduct enhanced due diligence to verify the extent of PEP linkage and the nature of adverse media associations.\\n  - Monitor closely for any further adverse media coverage or regulatory updates.\\n\\n---\\n\\n### Output:\\n```json\\n{\\n  \"name\": \"Joe Marsh\",\\n  \"overall_risk_rating\": \"Medium\",\\n  \"is_red_flag\": \"Yes\",\\n  \"summary\": \"Joe Marsh is a medium-risk individual with potential red flags related to PEP linkage and adverse media associations.\"\\n}\\n```\\n\\n### Conclusion:\\nBased on the findings, Joe Marsh is considered a medium-risk individual with potential red flags related to PEP linkage and adverse media associations. Enhanced due diligence is recommended to further investigate these risks.',\n",
       " '**Report Summary:**\\n- **Name:** Sheikh Mohamed bin Zayed Al Nahyan\\n- **Overall Risk Rating:** High\\n- **Red Flag:** Yes\\n- **Summary:** Sheikh Mohamed bin Zayed is a high-risk individual due to his status as the Crown Prince of Abu Dhabi and Deputy Supreme Commander of the UAE Armed Forces, making him a Politically Exposed Person (PEP) with significant regulatory and reputational risks.\\n\\n**Detailed Findings:**\\n- **Basic Information:**\\n  - **Full Name:** Sheikh Mohamed bin Zayed Al Nahyan\\n  - **Aliases:** MBZ\\n  - **Country of Origin:** United Arab Emirates\\n  - **Primary Business or Occupation:** Crown Prince of Abu Dhabi, Deputy Supreme Commander of the UAE Armed Forces\\n  - **Known Associates:** Sheikh Khalifa bin Zayed Al Nahyan, Sheikh Mohammed bin Rashid Al Maktoum\\n  - **Sources:** [Wikipedia](https://en.wikipedia.org/wiki/Mohammed_bin_Zayed_Al_Nahyan), [Bloomberg](https://www.bloomberg.com/profile/person/2040004)\\n\\n- **Risk Checklist:**\\n  - **PEP Status:** Yes, as the Crown Prince of Abu Dhabi, Sheikh Mohamed bin Zayed is a prominent Politically Exposed Person (PEP).\\n  - **Sanctions Watchlists:** No, not found in public sanctions watchlists.\\n  - **Adverse Media:** High, involved in controversial arms deals and linked to human rights abuses in Yemen.\\n  - **Criminal Records:** No, no public criminal records found.\\n  - **Financial Profile:** Unclear, limited public information available on financial profile.\\n  - **UBO and Corporate Linkages:** Transparent, publicly known as a member of the ruling Al Nahyan family.\\n  - **Transactional Red Flags:** Unclear, no specific transactional red flags found in public sources.\\n\\n- **Risk Assessment Summary:**\\n  - **Sanctions Risk:** Low\\n  - **Regulatory Risk:** High\\n  - **Reputational Risk:** High\\n  - **Criminal Risk:** Low\\n  - **Overall Risk Rating:** High\\n  - **Risk Reasoning:** Sheikh Mohamed bin Zayed poses a high risk due to his prominent status as a PEP, involvement in controversial activities, and association with human rights abuses. While no direct criminal records or sanctions links were found, the reputational and regulatory risks are significant.\\n\\n- **Recommendation:**\\n  - **Onboarding Decision:** Decline\\n  - **EDD Measures if Needed:**\\n    - Enhanced due diligence should be conducted if any transactions or business relationships are identified.\\n    - Strict monitoring and screening for any indirect associations with sanctioned entities or high-risk individuals.\\n\\n**Output:**\\n```json\\n{\\n  \"name\": \"Sheikh Mohamed bin Zayed\",\\n  \"overall_risk_rating\": \"High\",\\n  \"is_red_flag\": \"Yes\"\\n}\\n```\\nBased on the findings, Sheikh Mohamed bin Zayed is considered a high-risk individual with red flags present, and the recommendation is to decline onboarding with the suggestion of enhanced due diligence measures if necessary.']"
      ]
     },
     "execution_count": 472,
     "metadata": {},
     "output_type": "execute_result"
    }
   ],
   "source": [
    "response_output_list"
   ]
  },
  {
   "cell_type": "code",
   "execution_count": 482,
   "id": "18cc1bc8",
   "metadata": {},
   "outputs": [
    {
     "data": {
      "text/plain": [
       "'### Risk Report for Entity: Oyo\\n\\n- **Overall Risk Rating:** Low\\n- **Red Flag Identified:** No\\n- **Summary:** Oyo is a well-known hospitality company with no red flags identified in terms of PEP, sanctions, adverse media, or money laundering activities.\\n\\n#### Detailed Findings:\\n- **Basic Information:**\\n  - Full Name: Oyo\\n  - Aliases: None\\n  - Country of Origin: India\\n  - Primary Business or Occupation: Hospitality\\n  - Known Associates: Ritesh Agarwal (Founder)\\n  - Sources: [Oyo Website](https://www.oyorooms.com/), [Wikipedia](https://en.wikipedia.org/wiki/Oyo_Rooms)\\n\\n- **Risk Checklist:**\\n  - PEP Status: No known political exposure\\n  - Sanctions Watchlists: Not found in any sanctions lists\\n  - Adverse Media: Low risk, with positive news like global expansion and funding partnerships\\n  - Criminal Records: No criminal records found\\n  - Financial Profile: Strong with successful global expansion and funding rounds\\n  - UBO and Corporate Linkages: Transparent, founder and key executives publicly known\\n  - Transactional Red Flags: No suspicious transactions identified\\n\\n- **Risk Assessment Summary:**\\n  - Sanctions Risk: Low\\n  - Regulatory Risk: Low\\n  - Reputational Risk: Low\\n  - Criminal Risk: Low\\n  - Overall Risk Rating: Low\\n  - Risk Reasoning: Oyo, a reputable hospitality company, shows no red flags in terms of PEP, sanctions, adverse media, or criminal records. Its financial profile is strong, and corporate linkages are transparent.\\n\\n- **Recommendation:**\\n  - Onboarding Decision: Proceed\\n  - EDD Measures if Needed: None\\n\\n### Output:\\n```json\\n{\\n  \"name\": \"Oyo\",\\n  \"overall_risk_rating\": \"Low\",\\n  \"is_red_flag\": \"No\",\\n  \"summary\": \"Oyo is a well-known hospitality company with no red flags identified in terms of PEP, sanctions, adverse media, or money laundering activities.\"\\n}\\n```'"
      ]
     },
     "execution_count": 482,
     "metadata": {},
     "output_type": "execute_result"
    }
   ],
   "source": [
    "response_output_list[1]"
   ]
  },
  {
   "cell_type": "code",
   "execution_count": 487,
   "id": "60bf836d",
   "metadata": {},
   "outputs": [
    {
     "name": "stdout",
     "output_type": "stream",
     "text": [
      "⚠️ Input is not valid JSON — attempting to convert Markdown to structured JSON...\n",
      "\n",
      "✅ Successfully converted Markdown text into structured JSON.\n",
      "\n",
      "{\n",
      "  \"short_answer\": {\n",
      "    \"name\": \"Axact\",\n",
      "    \"overall_risk_rating\": \"HIGH\",\n",
      "    \"is_red_flag\": \"Yes\",\n",
      "    \"summary\": \"Axact is a high-risk entity due to its involvement in a major diploma mill scandal, leading to legal issues and adverse media coverage.\"\n",
      "  },\n",
      "  \"long_answer\": {\n",
      "    \"recommendation\": \"Decline\",\n",
      "    \"source_text\": \"**Report on Axact:**\\n\\n- **Entity Name:** Axact\\n- **Overall Risk Rating:** HIGH\\n- **Red Flag:** Yes\\n- **Summary:** Axact is a high-risk entity due to its involvement in a major diploma mill scandal, leading to legal issues and adverse media coverage.\\n\\n**Basic Information:**\\n- **Full Name:** Axact\\n- **Aliases:** Bol Group\\n- **Country of Origin:** Pakistan\\n- **Primary Business or Occupation:** Software and IT services\\n- **Known Associates:** Shoaib Ahmed Shaikh (CEO)\\n- **Sources:** [Wikipedia - Axact](https://en.wikipedia.org/wiki/Axact), [BBC News - Axact](https://www.bbc.com/news/world-asia-32702590)\\n\\n**Risk Checklist:**\\n- **PEP Status:** No known PEP affiliations\\n- **Sanctions Watchlists:** Not found in sanctions lists\\n- **Adverse Media:** High - Involved in diploma mill scandal, legal issues, and adverse media coverage\\n- **Criminal Records:** No specific criminal records found\\n- **Financial Profile:** Unclear - Limited financial information available\\n- **UBO and Corporate Linkages:** Transparent - Publicly known corporate structure\\n- **Transactional Red Flags:** Unclear - No specific transactional red flags identified\\n\\n**Risk Assessment Summary:**\\n- **Sanctions Risk:** Low\\n- **Regulatory Risk:** High\\n- **Reputational Risk:** High\\n- **Criminal Risk:** Low\\n- **Overall Risk Rating:** HIGH\\n- **Risk Reasoning:** Axact poses a high risk due to its involvement in a diploma mill scandal, legal issues, and adverse media coverage. While no direct PEP or sanctions links were found, the reputational and regulatory risks are significant.\\n\\n**Recommendation:**\\n- **Onboarding Decision:** Decline\\n- **EDD Measures if Needed:**\\n  - Enhanced Due Diligence (EDD) is recommended if any further engagement is considered.\\n  - Continuous monitoring of any potential changes in the entity's status.\\n\\nBased on the findings, Axact is deemed a high-risk entity with a recommendation to decline onboarding and consider Enhanced Due Diligence (EDD) if further engagement is contemplated.\"\n",
      "  }\n",
      "}\n",
      "⚠️ Input is not valid JSON — attempting to convert Markdown to structured JSON...\n",
      "\n",
      "✅ Successfully converted Markdown text into structured JSON.\n",
      "\n",
      "{\n",
      "  \"short_answer\": {\n",
      "    \"name\": \"Oyo\",\n",
      "    \"overall_risk_rating\": \"Low\",\n",
      "    \"is_red_flag\": \"Unknown\",\n",
      "    \"summary\": \"Oyo is a well-known hospitality company with no red flags identified in terms of PEP, sanctions, adverse media, or money laundering activities.\"\n",
      "  },\n",
      "  \"long_answer\": {\n",
      "    \"recommendation\": \"Proceed\",\n",
      "    \"source_text\": \"### Risk Report for Entity: Oyo\\n\\n- **Overall Risk Rating:** Low\\n- **Red Flag Identified:** No\\n- **Summary:** Oyo is a well-known hospitality company with no red flags identified in terms of PEP, sanctions, adverse media, or money laundering activities.\\n\\n#### Detailed Findings:\\n- **Basic Information:**\\n  - Full Name: Oyo\\n  - Aliases: None\\n  - Country of Origin: India\\n  - Primary Business or Occupation: Hospitality\\n  - Known Associates: Ritesh Agarwal (Founder)\\n  - Sources: [Oyo Website](https://www.oyorooms.com/), [Wikipedia](https://en.wikipedia.org/wiki/Oyo_Rooms)\\n\\n- **Risk Checklist:**\\n  - PEP Status: No known political exposure\\n  - Sanctions Watchlists: Not found in any sanctions lists\\n  - Adverse Media: Low risk, with positive news like global expansion and funding partnerships\\n  - Criminal Records: No criminal records found\\n  - Financial Profile: Strong with successful global expansion and funding rounds\\n  - UBO and Corporate Linkages: Transparent, founder and key executives publicly known\\n  - Transactional Red Flags: No suspicious transactions identified\\n\\n- **Risk Assessment Summary:**\\n  - Sanctions Risk: Low\\n  - Regulatory Risk: Low\\n  - Reputational Risk: Low\\n  - Criminal Risk: Low\\n  - Overall Risk Rating: Low\\n  - Risk Reasoning: Oyo, a reputable hospitality company, shows no red flags in terms of PEP, sanctions, adverse media, or criminal records. Its financial profile is strong, and corporate linkages are transparent.\\n\\n- **Recommendation:**\\n  - Onboarding Decision: Proceed\\n  - EDD Measures if Needed: None\\n\\n### Output:\\n```json\\n{\\n  \\\"name\\\": \\\"Oyo\\\",\\n  \\\"overall_risk_rating\\\": \\\"Low\\\",\\n  \\\"is_red_flag\\\": \\\"No\\\",\\n  \\\"summary\\\": \\\"Oyo is a well-known hospitality company with no red flags identified in terms of PEP, sanctions, adverse media, or money laundering activities.\\\"\\n}\\n```\"\n",
      "  }\n",
      "}\n",
      "⚠️ Input is not valid JSON — attempting to convert Markdown to structured JSON...\n",
      "\n",
      "✅ Successfully converted Markdown text into structured JSON.\n",
      "\n",
      "{\n",
      "  \"short_answer\": {\n",
      "    \"name\": \"Mukesh Dhirubhai Ambani\",\n",
      "    \"overall_risk_rating\": \"LOW\",\n",
      "    \"is_red_flag\": \"No\",\n",
      "    \"summary\": \"Mukesh Ambani is a well-known Indian billionaire businessman and the chairman of Reliance Industries. There are no red flags indicating any involvement in PEP, sanctions, adverse media, or money laundering activities.\"\n",
      "  },\n",
      "  \"long_answer\": {\n",
      "    \"recommendation\": \"Proceed\",\n",
      "    \"source_text\": \"### Report on Mukesh Ambani\\n\\n- **Name:** Mukesh Dhirubhai Ambani\\n- **Overall Risk Rating:** LOW\\n- **Red Flag:** No\\n- **Summary:** Mukesh Ambani is a well-known Indian billionaire businessman and the chairman of Reliance Industries. There are no red flags indicating any involvement in PEP, sanctions, adverse media, or money laundering activities.\\n\\n#### Risk Checklist:\\n- **PEP Status:** Not a politically exposed person.\\n- **Sanctions Watchlists:** No alerts associated with sanctions or watchlists.\\n- **Adverse Media:** Primarily covered in positive news related to business and philanthropy.\\n- **Criminal Records:** No public records of criminal activities.\\n- **Financial Profile:** Strong financial profile as a billionaire businessman.\\n- **UBO and Corporate Linkages:** Transparent corporate linkages and ownership structures.\\n- **Transactional Red Flags:** No identified transactional red flags.\\n\\n#### Risk Assessment Summary:\\n- **Sanctions Risk:** Low\\n- **Regulatory Risk:** Low\\n- **Reputational Risk:** Low\\n- **Criminal Risk:** Low\\n- **Overall Risk Rating:** LOW\\n- **Risk Reasoning:** Mukesh Ambani has a clean record with no indications of involvement in any high-risk activities. His reputation as a successful businessman is well-established.\\n\\n#### Recommendation:\\n- **Onboarding Decision:** Proceed\\n- **EDD Measures if Needed:** None\\n\\n[Sources](https://www.forbes.com/profile/mukesh-ambani/), [Reliance Industries Leadership](https://www.reliance-industries.com/aboutus/leadership/mukesh-ambani)\"\n",
      "  }\n",
      "}\n",
      "⚠️ Input is not valid JSON — attempting to convert Markdown to structured JSON...\n",
      "\n",
      "✅ Successfully converted Markdown text into structured JSON.\n",
      "\n",
      "{\n",
      "  \"short_answer\": {\n",
      "    \"name\": \"Gurmeet Singh Jolly\",\n",
      "    \"overall_risk_rating\": \"Medium\",\n",
      "    \"is_red_flag\": \"Yes\",\n",
      "    \"summary\": \"Gurmeet Singh Jolly poses a medium risk due to potential associations with politically exposed persons (PEP) or adverse media. Further monitoring and enhanced due diligence are recommended.\"\n",
      "  },\n",
      "  \"long_answer\": {\n",
      "    \"recommendation\": \"Proceed with Enhanced Due Diligence (EDD)\",\n",
      "    \"source_text\": \"### Report on Gurmeet Singh Jolly\\n\\n- **Name:** Gurmeet Singh Jolly\\n- **Overall Risk Rating:** Medium\\n- **Red Flag:** Yes\\n- **Summary:** Gurmeet Singh Jolly poses a medium risk due to potential associations with politically exposed persons (PEP) or adverse media. Further monitoring and enhanced due diligence are recommended.\\n\\n#### Basic Information:\\n- **Full Name:** Gurmeet Singh Jolly\\n- **Aliases:** N/A\\n- **Country of Origin:** India\\n- **Primary Business or Occupation:** Not available\\n- **Known Associates:** Not available\\n- **Sources:** [Source 1](https://exampleSource1.com), [Source 2](https://exampleSource2.com)\\n\\n#### Risk Checklist:\\n- **PEP Status:** Potential association with politically exposed persons\\n- **Sanctions Watchlists:** No matches found in sanctions lists\\n- **Adverse Media:** Linked to a corruption scandal in local news, allegations of financial misconduct in business dealings\\n- **Criminal Records:** No criminal records found\\n- **Financial Profile:** Unclear, insufficient information available\\n- **UBO and Corporate Linkages:** Transparent, no hidden corporate linkages identified\\n- **Transactional Red Flags:** Unclear, no transactional information available\\n\\n#### Risk Assessment Summary:\\n- **Sanctions Risk:** Low\\n- **Regulatory Risk:** Medium\\n- **Reputational Risk:** Medium\\n- **Criminal Risk:** Low\\n- **Overall Risk Rating:** Medium\\n- **Risk Reasoning:** Gurmeet Singh Jolly shows potential links to politically exposed persons and adverse media, indicating a medium level of risk. Further monitoring and enhanced due diligence are advised.\\n\\n#### Recommendation:\\n- **Onboarding Decision:** Proceed with Enhanced Due Diligence (EDD)\\n- **EDD Measures if Needed:**\\n  - Conduct detailed background checks on known associates\\n  - Monitor closely for any unusual financial activities\\n\\n**Outcome:** Gurmeet Singh Jolly is rated as a medium risk individual with potential associations with politically exposed persons and adverse media. Enhanced due diligence is recommended for further monitoring.\"\n",
      "  }\n",
      "}\n",
      "⚠️ Input is not valid JSON — attempting to convert Markdown to structured JSON...\n",
      "\n",
      "✅ Successfully converted Markdown text into structured JSON.\n",
      "\n",
      "{\n",
      "  \"short_answer\": {\n",
      "    \"name\": \"Joe Marsh\",\n",
      "    \"overall_risk_rating\": \"Medium\",\n",
      "    \"is_red_flag\": \"Yes\",\n",
      "    \"summary\": \"Joe Marsh is a medium-risk individual with potential red flags related to PEP linkage and adverse media associations.\"\n",
      "  },\n",
      "  \"long_answer\": {\n",
      "    \"recommendation\": \"Proceed with EDD (Enhanced Due Diligence)\",\n",
      "    \"source_text\": \"### Report on Joe Marsh\\n\\n- **Name:** Joe Marsh\\n- **Overall Risk Rating:** Medium\\n- **Red Flag:** Yes\\n- **Summary:** Joe Marsh is a medium-risk individual with potential red flags related to PEP linkage and adverse media associations.\\n\\n---\\n\\n#### Basic Information:\\n- **Full Name:** Joe Marsh\\n- **Aliases:** None\\n- **Country of Origin:** Unknown\\n- **Primary Business or Occupation:** Unknown\\n- **Known Associates:** Not available\\n- **Sources:** [LinkedIn Profile](https://www.linkedin.com/in/joe-marsh-1234567/)\\n\\n---\\n\\n#### Risk Checklist:\\n- **PEP Status:** Potential PEP linkage based on undisclosed political connections.\\n- **Sanctions Watchlists:** No matches found in global sanctions lists.\\n- **Adverse Media:** Linked to a corruption scandal in Mumbai, involved in a legal dispute with a high-profile individual.\\n- **Criminal Records:** No criminal records found.\\n- **Financial Profile:** Insufficient information to determine financial profile.\\n- **UBO and Corporate Linkages:** No hidden or complex corporate linkages identified.\\n- **Transactional Red Flags:** No transactional information available for analysis.\\n\\n---\\n\\n#### Risk Assessment Summary:\\n- **Sanctions Risk:** Low\\n- **Regulatory Risk:** Medium\\n- **Reputational Risk:** Medium\\n- **Criminal Risk:** Low\\n- **Overall Risk Rating:** Medium\\n- **Risk Reasoning:** Joe Marsh poses a medium level of risk due to potential PEP linkage, adverse media associations, and unclear financial profile. While no direct criminal records or sanctions matches were found, the adverse media coverage raises concerns.\\n\\n---\\n\\n#### Recommendation:\\n- **Onboarding Decision:** Proceed with EDD (Enhanced Due Diligence)\\n- **EDD Measures if Needed:**\\n  - Conduct enhanced due diligence to verify the extent of PEP linkage and the nature of adverse media associations.\\n  - Monitor closely for any further adverse media coverage or regulatory updates.\\n\\n---\\n\\n### Output:\\n```json\\n{\\n  \\\"name\\\": \\\"Joe Marsh\\\",\\n  \\\"overall_risk_rating\\\": \\\"Medium\\\",\\n  \\\"is_red_flag\\\": \\\"Yes\\\",\\n  \\\"summary\\\": \\\"Joe Marsh is a medium-risk individual with potential red flags related to PEP linkage and adverse media associations.\\\"\\n}\\n```\\n\\n### Conclusion:\\nBased on the findings, Joe Marsh is considered a medium-risk individual with potential red flags related to PEP linkage and adverse media associations. Enhanced due diligence is recommended to further investigate these risks.\"\n",
      "  }\n",
      "}\n",
      "⚠️ Input is not valid JSON — attempting to convert Markdown to structured JSON...\n",
      "\n",
      "✅ Successfully converted Markdown text into structured JSON.\n",
      "\n",
      "{\n",
      "  \"short_answer\": {\n",
      "    \"name\": \"Sheikh Mohamed bin Zayed Al Nahyan\",\n",
      "    \"overall_risk_rating\": \"High\",\n",
      "    \"is_red_flag\": \"Yes\",\n",
      "    \"summary\": \"- **Name:** Sheikh Mohamed bin Zayed Al Nahyan\"\n",
      "  },\n",
      "  \"long_answer\": {\n",
      "    \"recommendation\": \"Decline\",\n",
      "    \"source_text\": \"**Report Summary:**\\n- **Name:** Sheikh Mohamed bin Zayed Al Nahyan\\n- **Overall Risk Rating:** High\\n- **Red Flag:** Yes\\n- **Summary:** Sheikh Mohamed bin Zayed is a high-risk individual due to his status as the Crown Prince of Abu Dhabi and Deputy Supreme Commander of the UAE Armed Forces, making him a Politically Exposed Person (PEP) with significant regulatory and reputational risks.\\n\\n**Detailed Findings:**\\n- **Basic Information:**\\n  - **Full Name:** Sheikh Mohamed bin Zayed Al Nahyan\\n  - **Aliases:** MBZ\\n  - **Country of Origin:** United Arab Emirates\\n  - **Primary Business or Occupation:** Crown Prince of Abu Dhabi, Deputy Supreme Commander of the UAE Armed Forces\\n  - **Known Associates:** Sheikh Khalifa bin Zayed Al Nahyan, Sheikh Mohammed bin Rashid Al Maktoum\\n  - **Sources:** [Wikipedia](https://en.wikipedia.org/wiki/Mohammed_bin_Zayed_Al_Nahyan), [Bloomberg](https://www.bloomberg.com/profile/person/2040004)\\n\\n- **Risk Checklist:**\\n  - **PEP Status:** Yes, as the Crown Prince of Abu Dhabi, Sheikh Mohamed bin Zayed is a prominent Politically Exposed Person (PEP).\\n  - **Sanctions Watchlists:** No, not found in public sanctions watchlists.\\n  - **Adverse Media:** High, involved in controversial arms deals and linked to human rights abuses in Yemen.\\n  - **Criminal Records:** No, no public criminal records found.\\n  - **Financial Profile:** Unclear, limited public information available on financial profile.\\n  - **UBO and Corporate Linkages:** Transparent, publicly known as a member of the ruling Al Nahyan family.\\n  - **Transactional Red Flags:** Unclear, no specific transactional red flags found in public sources.\\n\\n- **Risk Assessment Summary:**\\n  - **Sanctions Risk:** Low\\n  - **Regulatory Risk:** High\\n  - **Reputational Risk:** High\\n  - **Criminal Risk:** Low\\n  - **Overall Risk Rating:** High\\n  - **Risk Reasoning:** Sheikh Mohamed bin Zayed poses a high risk due to his prominent status as a PEP, involvement in controversial activities, and association with human rights abuses. While no direct criminal records or sanctions links were found, the reputational and regulatory risks are significant.\\n\\n- **Recommendation:**\\n  - **Onboarding Decision:** Decline\\n  - **EDD Measures if Needed:**\\n    - Enhanced due diligence should be conducted if any transactions or business relationships are identified.\\n    - Strict monitoring and screening for any indirect associations with sanctioned entities or high-risk individuals.\\n\\n**Output:**\\n```json\\n{\\n  \\\"name\\\": \\\"Sheikh Mohamed bin Zayed\\\",\\n  \\\"overall_risk_rating\\\": \\\"High\\\",\\n  \\\"is_red_flag\\\": \\\"Yes\\\"\\n}\\n```\\nBased on the findings, Sheikh Mohamed bin Zayed is considered a high-risk individual with red flags present, and the recommendation is to decline onboarding with the suggestion of enhanced due diligence measures if necessary.\"\n",
      "  }\n",
      "}\n"
     ]
    }
   ],
   "source": [
    "parsed_response_output_list = [parse_due_diligence_output(output) for output in response_output_list]\n",
    "parsed_response_output_list = [p['long_answer'] for p in parsed_response_output_list if p is not None]\n",
    "pd.DataFrame.from_dict(parsed_response_output_list).to_excel(\"./test_set_model_detailed_report.xlsx\",index=False)"
   ]
  },
  {
   "cell_type": "code",
   "execution_count": 488,
   "id": "d9b65aaf",
   "metadata": {},
   "outputs": [
    {
     "name": "stdout",
     "output_type": "stream",
     "text": [
      "⚠️ Input is not valid JSON — attempting to convert Markdown to structured JSON...\n",
      "\n",
      "✅ Successfully converted Markdown text into structured JSON.\n",
      "\n",
      "{\n",
      "  \"short_answer\": {\n",
      "    \"name\": \"Axact\",\n",
      "    \"overall_risk_rating\": \"HIGH\",\n",
      "    \"is_red_flag\": \"Yes\",\n",
      "    \"summary\": \"Axact is a high-risk entity due to its involvement in a major diploma mill scandal, leading to legal issues and adverse media coverage.\"\n",
      "  },\n",
      "  \"long_answer\": {\n",
      "    \"recommendation\": \"Decline\",\n",
      "    \"source_text\": \"**Report on Axact:**\\n\\n- **Entity Name:** Axact\\n- **Overall Risk Rating:** HIGH\\n- **Red Flag:** Yes\\n- **Summary:** Axact is a high-risk entity due to its involvement in a major diploma mill scandal, leading to legal issues and adverse media coverage.\\n\\n**Basic Information:**\\n- **Full Name:** Axact\\n- **Aliases:** Bol Group\\n- **Country of Origin:** Pakistan\\n- **Primary Business or Occupation:** Software and IT services\\n- **Known Associates:** Shoaib Ahmed Shaikh (CEO)\\n- **Sources:** [Wikipedia - Axact](https://en.wikipedia.org/wiki/Axact), [BBC News - Axact](https://www.bbc.com/news/world-asia-32702590)\\n\\n**Risk Checklist:**\\n- **PEP Status:** No known PEP affiliations\\n- **Sanctions Watchlists:** Not found in sanctions lists\\n- **Adverse Media:** High - Involved in diploma mill scandal, legal issues, and adverse media coverage\\n- **Criminal Records:** No specific criminal records found\\n- **Financial Profile:** Unclear - Limited financial information available\\n- **UBO and Corporate Linkages:** Transparent - Publicly known corporate structure\\n- **Transactional Red Flags:** Unclear - No specific transactional red flags identified\\n\\n**Risk Assessment Summary:**\\n- **Sanctions Risk:** Low\\n- **Regulatory Risk:** High\\n- **Reputational Risk:** High\\n- **Criminal Risk:** Low\\n- **Overall Risk Rating:** HIGH\\n- **Risk Reasoning:** Axact poses a high risk due to its involvement in a diploma mill scandal, legal issues, and adverse media coverage. While no direct PEP or sanctions links were found, the reputational and regulatory risks are significant.\\n\\n**Recommendation:**\\n- **Onboarding Decision:** Decline\\n- **EDD Measures if Needed:**\\n  - Enhanced Due Diligence (EDD) is recommended if any further engagement is considered.\\n  - Continuous monitoring of any potential changes in the entity's status.\\n\\nBased on the findings, Axact is deemed a high-risk entity with a recommendation to decline onboarding and consider Enhanced Due Diligence (EDD) if further engagement is contemplated.\"\n",
      "  }\n",
      "}\n",
      "⚠️ Input is not valid JSON — attempting to convert Markdown to structured JSON...\n",
      "\n",
      "✅ Successfully converted Markdown text into structured JSON.\n",
      "\n",
      "{\n",
      "  \"short_answer\": {\n",
      "    \"name\": \"Oyo\",\n",
      "    \"overall_risk_rating\": \"Low\",\n",
      "    \"is_red_flag\": \"Unknown\",\n",
      "    \"summary\": \"Oyo is a well-known hospitality company with no red flags identified in terms of PEP, sanctions, adverse media, or money laundering activities.\"\n",
      "  },\n",
      "  \"long_answer\": {\n",
      "    \"recommendation\": \"Proceed\",\n",
      "    \"source_text\": \"### Risk Report for Entity: Oyo\\n\\n- **Overall Risk Rating:** Low\\n- **Red Flag Identified:** No\\n- **Summary:** Oyo is a well-known hospitality company with no red flags identified in terms of PEP, sanctions, adverse media, or money laundering activities.\\n\\n#### Detailed Findings:\\n- **Basic Information:**\\n  - Full Name: Oyo\\n  - Aliases: None\\n  - Country of Origin: India\\n  - Primary Business or Occupation: Hospitality\\n  - Known Associates: Ritesh Agarwal (Founder)\\n  - Sources: [Oyo Website](https://www.oyorooms.com/), [Wikipedia](https://en.wikipedia.org/wiki/Oyo_Rooms)\\n\\n- **Risk Checklist:**\\n  - PEP Status: No known political exposure\\n  - Sanctions Watchlists: Not found in any sanctions lists\\n  - Adverse Media: Low risk, with positive news like global expansion and funding partnerships\\n  - Criminal Records: No criminal records found\\n  - Financial Profile: Strong with successful global expansion and funding rounds\\n  - UBO and Corporate Linkages: Transparent, founder and key executives publicly known\\n  - Transactional Red Flags: No suspicious transactions identified\\n\\n- **Risk Assessment Summary:**\\n  - Sanctions Risk: Low\\n  - Regulatory Risk: Low\\n  - Reputational Risk: Low\\n  - Criminal Risk: Low\\n  - Overall Risk Rating: Low\\n  - Risk Reasoning: Oyo, a reputable hospitality company, shows no red flags in terms of PEP, sanctions, adverse media, or criminal records. Its financial profile is strong, and corporate linkages are transparent.\\n\\n- **Recommendation:**\\n  - Onboarding Decision: Proceed\\n  - EDD Measures if Needed: None\\n\\n### Output:\\n```json\\n{\\n  \\\"name\\\": \\\"Oyo\\\",\\n  \\\"overall_risk_rating\\\": \\\"Low\\\",\\n  \\\"is_red_flag\\\": \\\"No\\\",\\n  \\\"summary\\\": \\\"Oyo is a well-known hospitality company with no red flags identified in terms of PEP, sanctions, adverse media, or money laundering activities.\\\"\\n}\\n```\"\n",
      "  }\n",
      "}\n",
      "⚠️ Input is not valid JSON — attempting to convert Markdown to structured JSON...\n",
      "\n",
      "✅ Successfully converted Markdown text into structured JSON.\n",
      "\n",
      "{\n",
      "  \"short_answer\": {\n",
      "    \"name\": \"Mukesh Dhirubhai Ambani\",\n",
      "    \"overall_risk_rating\": \"LOW\",\n",
      "    \"is_red_flag\": \"No\",\n",
      "    \"summary\": \"Mukesh Ambani is a well-known Indian billionaire businessman and the chairman of Reliance Industries. There are no red flags indicating any involvement in PEP, sanctions, adverse media, or money laundering activities.\"\n",
      "  },\n",
      "  \"long_answer\": {\n",
      "    \"recommendation\": \"Proceed\",\n",
      "    \"source_text\": \"### Report on Mukesh Ambani\\n\\n- **Name:** Mukesh Dhirubhai Ambani\\n- **Overall Risk Rating:** LOW\\n- **Red Flag:** No\\n- **Summary:** Mukesh Ambani is a well-known Indian billionaire businessman and the chairman of Reliance Industries. There are no red flags indicating any involvement in PEP, sanctions, adverse media, or money laundering activities.\\n\\n#### Risk Checklist:\\n- **PEP Status:** Not a politically exposed person.\\n- **Sanctions Watchlists:** No alerts associated with sanctions or watchlists.\\n- **Adverse Media:** Primarily covered in positive news related to business and philanthropy.\\n- **Criminal Records:** No public records of criminal activities.\\n- **Financial Profile:** Strong financial profile as a billionaire businessman.\\n- **UBO and Corporate Linkages:** Transparent corporate linkages and ownership structures.\\n- **Transactional Red Flags:** No identified transactional red flags.\\n\\n#### Risk Assessment Summary:\\n- **Sanctions Risk:** Low\\n- **Regulatory Risk:** Low\\n- **Reputational Risk:** Low\\n- **Criminal Risk:** Low\\n- **Overall Risk Rating:** LOW\\n- **Risk Reasoning:** Mukesh Ambani has a clean record with no indications of involvement in any high-risk activities. His reputation as a successful businessman is well-established.\\n\\n#### Recommendation:\\n- **Onboarding Decision:** Proceed\\n- **EDD Measures if Needed:** None\\n\\n[Sources](https://www.forbes.com/profile/mukesh-ambani/), [Reliance Industries Leadership](https://www.reliance-industries.com/aboutus/leadership/mukesh-ambani)\"\n",
      "  }\n",
      "}\n",
      "⚠️ Input is not valid JSON — attempting to convert Markdown to structured JSON...\n",
      "\n",
      "✅ Successfully converted Markdown text into structured JSON.\n",
      "\n",
      "{\n",
      "  \"short_answer\": {\n",
      "    \"name\": \"Gurmeet Singh Jolly\",\n",
      "    \"overall_risk_rating\": \"Medium\",\n",
      "    \"is_red_flag\": \"Yes\",\n",
      "    \"summary\": \"Gurmeet Singh Jolly poses a medium risk due to potential associations with politically exposed persons (PEP) or adverse media. Further monitoring and enhanced due diligence are recommended.\"\n",
      "  },\n",
      "  \"long_answer\": {\n",
      "    \"recommendation\": \"Proceed with Enhanced Due Diligence (EDD)\",\n",
      "    \"source_text\": \"### Report on Gurmeet Singh Jolly\\n\\n- **Name:** Gurmeet Singh Jolly\\n- **Overall Risk Rating:** Medium\\n- **Red Flag:** Yes\\n- **Summary:** Gurmeet Singh Jolly poses a medium risk due to potential associations with politically exposed persons (PEP) or adverse media. Further monitoring and enhanced due diligence are recommended.\\n\\n#### Basic Information:\\n- **Full Name:** Gurmeet Singh Jolly\\n- **Aliases:** N/A\\n- **Country of Origin:** India\\n- **Primary Business or Occupation:** Not available\\n- **Known Associates:** Not available\\n- **Sources:** [Source 1](https://exampleSource1.com), [Source 2](https://exampleSource2.com)\\n\\n#### Risk Checklist:\\n- **PEP Status:** Potential association with politically exposed persons\\n- **Sanctions Watchlists:** No matches found in sanctions lists\\n- **Adverse Media:** Linked to a corruption scandal in local news, allegations of financial misconduct in business dealings\\n- **Criminal Records:** No criminal records found\\n- **Financial Profile:** Unclear, insufficient information available\\n- **UBO and Corporate Linkages:** Transparent, no hidden corporate linkages identified\\n- **Transactional Red Flags:** Unclear, no transactional information available\\n\\n#### Risk Assessment Summary:\\n- **Sanctions Risk:** Low\\n- **Regulatory Risk:** Medium\\n- **Reputational Risk:** Medium\\n- **Criminal Risk:** Low\\n- **Overall Risk Rating:** Medium\\n- **Risk Reasoning:** Gurmeet Singh Jolly shows potential links to politically exposed persons and adverse media, indicating a medium level of risk. Further monitoring and enhanced due diligence are advised.\\n\\n#### Recommendation:\\n- **Onboarding Decision:** Proceed with Enhanced Due Diligence (EDD)\\n- **EDD Measures if Needed:**\\n  - Conduct detailed background checks on known associates\\n  - Monitor closely for any unusual financial activities\\n\\n**Outcome:** Gurmeet Singh Jolly is rated as a medium risk individual with potential associations with politically exposed persons and adverse media. Enhanced due diligence is recommended for further monitoring.\"\n",
      "  }\n",
      "}\n",
      "⚠️ Input is not valid JSON — attempting to convert Markdown to structured JSON...\n",
      "\n",
      "✅ Successfully converted Markdown text into structured JSON.\n",
      "\n",
      "{\n",
      "  \"short_answer\": {\n",
      "    \"name\": \"Joe Marsh\",\n",
      "    \"overall_risk_rating\": \"Medium\",\n",
      "    \"is_red_flag\": \"Yes\",\n",
      "    \"summary\": \"Joe Marsh is a medium-risk individual with potential red flags related to PEP linkage and adverse media associations.\"\n",
      "  },\n",
      "  \"long_answer\": {\n",
      "    \"recommendation\": \"Proceed with EDD (Enhanced Due Diligence)\",\n",
      "    \"source_text\": \"### Report on Joe Marsh\\n\\n- **Name:** Joe Marsh\\n- **Overall Risk Rating:** Medium\\n- **Red Flag:** Yes\\n- **Summary:** Joe Marsh is a medium-risk individual with potential red flags related to PEP linkage and adverse media associations.\\n\\n---\\n\\n#### Basic Information:\\n- **Full Name:** Joe Marsh\\n- **Aliases:** None\\n- **Country of Origin:** Unknown\\n- **Primary Business or Occupation:** Unknown\\n- **Known Associates:** Not available\\n- **Sources:** [LinkedIn Profile](https://www.linkedin.com/in/joe-marsh-1234567/)\\n\\n---\\n\\n#### Risk Checklist:\\n- **PEP Status:** Potential PEP linkage based on undisclosed political connections.\\n- **Sanctions Watchlists:** No matches found in global sanctions lists.\\n- **Adverse Media:** Linked to a corruption scandal in Mumbai, involved in a legal dispute with a high-profile individual.\\n- **Criminal Records:** No criminal records found.\\n- **Financial Profile:** Insufficient information to determine financial profile.\\n- **UBO and Corporate Linkages:** No hidden or complex corporate linkages identified.\\n- **Transactional Red Flags:** No transactional information available for analysis.\\n\\n---\\n\\n#### Risk Assessment Summary:\\n- **Sanctions Risk:** Low\\n- **Regulatory Risk:** Medium\\n- **Reputational Risk:** Medium\\n- **Criminal Risk:** Low\\n- **Overall Risk Rating:** Medium\\n- **Risk Reasoning:** Joe Marsh poses a medium level of risk due to potential PEP linkage, adverse media associations, and unclear financial profile. While no direct criminal records or sanctions matches were found, the adverse media coverage raises concerns.\\n\\n---\\n\\n#### Recommendation:\\n- **Onboarding Decision:** Proceed with EDD (Enhanced Due Diligence)\\n- **EDD Measures if Needed:**\\n  - Conduct enhanced due diligence to verify the extent of PEP linkage and the nature of adverse media associations.\\n  - Monitor closely for any further adverse media coverage or regulatory updates.\\n\\n---\\n\\n### Output:\\n```json\\n{\\n  \\\"name\\\": \\\"Joe Marsh\\\",\\n  \\\"overall_risk_rating\\\": \\\"Medium\\\",\\n  \\\"is_red_flag\\\": \\\"Yes\\\",\\n  \\\"summary\\\": \\\"Joe Marsh is a medium-risk individual with potential red flags related to PEP linkage and adverse media associations.\\\"\\n}\\n```\\n\\n### Conclusion:\\nBased on the findings, Joe Marsh is considered a medium-risk individual with potential red flags related to PEP linkage and adverse media associations. Enhanced due diligence is recommended to further investigate these risks.\"\n",
      "  }\n",
      "}\n",
      "⚠️ Input is not valid JSON — attempting to convert Markdown to structured JSON...\n",
      "\n",
      "✅ Successfully converted Markdown text into structured JSON.\n",
      "\n",
      "{\n",
      "  \"short_answer\": {\n",
      "    \"name\": \"Sheikh Mohamed bin Zayed Al Nahyan\",\n",
      "    \"overall_risk_rating\": \"High\",\n",
      "    \"is_red_flag\": \"Yes\",\n",
      "    \"summary\": \"- **Name:** Sheikh Mohamed bin Zayed Al Nahyan\"\n",
      "  },\n",
      "  \"long_answer\": {\n",
      "    \"recommendation\": \"Decline\",\n",
      "    \"source_text\": \"**Report Summary:**\\n- **Name:** Sheikh Mohamed bin Zayed Al Nahyan\\n- **Overall Risk Rating:** High\\n- **Red Flag:** Yes\\n- **Summary:** Sheikh Mohamed bin Zayed is a high-risk individual due to his status as the Crown Prince of Abu Dhabi and Deputy Supreme Commander of the UAE Armed Forces, making him a Politically Exposed Person (PEP) with significant regulatory and reputational risks.\\n\\n**Detailed Findings:**\\n- **Basic Information:**\\n  - **Full Name:** Sheikh Mohamed bin Zayed Al Nahyan\\n  - **Aliases:** MBZ\\n  - **Country of Origin:** United Arab Emirates\\n  - **Primary Business or Occupation:** Crown Prince of Abu Dhabi, Deputy Supreme Commander of the UAE Armed Forces\\n  - **Known Associates:** Sheikh Khalifa bin Zayed Al Nahyan, Sheikh Mohammed bin Rashid Al Maktoum\\n  - **Sources:** [Wikipedia](https://en.wikipedia.org/wiki/Mohammed_bin_Zayed_Al_Nahyan), [Bloomberg](https://www.bloomberg.com/profile/person/2040004)\\n\\n- **Risk Checklist:**\\n  - **PEP Status:** Yes, as the Crown Prince of Abu Dhabi, Sheikh Mohamed bin Zayed is a prominent Politically Exposed Person (PEP).\\n  - **Sanctions Watchlists:** No, not found in public sanctions watchlists.\\n  - **Adverse Media:** High, involved in controversial arms deals and linked to human rights abuses in Yemen.\\n  - **Criminal Records:** No, no public criminal records found.\\n  - **Financial Profile:** Unclear, limited public information available on financial profile.\\n  - **UBO and Corporate Linkages:** Transparent, publicly known as a member of the ruling Al Nahyan family.\\n  - **Transactional Red Flags:** Unclear, no specific transactional red flags found in public sources.\\n\\n- **Risk Assessment Summary:**\\n  - **Sanctions Risk:** Low\\n  - **Regulatory Risk:** High\\n  - **Reputational Risk:** High\\n  - **Criminal Risk:** Low\\n  - **Overall Risk Rating:** High\\n  - **Risk Reasoning:** Sheikh Mohamed bin Zayed poses a high risk due to his prominent status as a PEP, involvement in controversial activities, and association with human rights abuses. While no direct criminal records or sanctions links were found, the reputational and regulatory risks are significant.\\n\\n- **Recommendation:**\\n  - **Onboarding Decision:** Decline\\n  - **EDD Measures if Needed:**\\n    - Enhanced due diligence should be conducted if any transactions or business relationships are identified.\\n    - Strict monitoring and screening for any indirect associations with sanctioned entities or high-risk individuals.\\n\\n**Output:**\\n```json\\n{\\n  \\\"name\\\": \\\"Sheikh Mohamed bin Zayed\\\",\\n  \\\"overall_risk_rating\\\": \\\"High\\\",\\n  \\\"is_red_flag\\\": \\\"Yes\\\"\\n}\\n```\\nBased on the findings, Sheikh Mohamed bin Zayed is considered a high-risk individual with red flags present, and the recommendation is to decline onboarding with the suggestion of enhanced due diligence measures if necessary.\"\n",
      "  }\n",
      "}\n"
     ]
    }
   ],
   "source": [
    "# response_output_list[0\n",
    "parsed_response_output_list = [parse_due_diligence_output(output) for output in response_output_list]\n",
    "parsed_response_output_list = [p['short_answer'] for p in parsed_response_output_list if p is not None]\n",
    "pd.DataFrame.from_dict(parsed_response_output_list).to_excel(\"./test_set_model_output.xlsx\",index=False)"
   ]
  },
  {
   "cell_type": "code",
   "execution_count": null,
   "id": "7a0ecb0e",
   "metadata": {},
   "outputs": [],
   "source": []
  }
 ],
 "metadata": {
  "kernelspec": {
   "display_name": "Python 3",
   "language": "python",
   "name": "python3"
  },
  "language_info": {
   "codemirror_mode": {
    "name": "ipython",
    "version": 3
   },
   "file_extension": ".py",
   "mimetype": "text/x-python",
   "name": "python",
   "nbconvert_exporter": "python",
   "pygments_lexer": "ipython3",
   "version": "3.11.9"
  }
 },
 "nbformat": 4,
 "nbformat_minor": 5
}
